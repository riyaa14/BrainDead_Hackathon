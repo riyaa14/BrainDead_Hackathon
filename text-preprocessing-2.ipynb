{
 "cells": [
  {
   "cell_type": "markdown",
   "id": "a9693a52",
   "metadata": {
    "papermill": {
     "duration": 0.013861,
     "end_time": "2023-04-19T06:10:36.111292",
     "exception": false,
     "start_time": "2023-04-19T06:10:36.097431",
     "status": "completed"
    },
    "tags": []
   },
   "source": [
    "# Importing Libraries\n"
   ]
  },
  {
   "cell_type": "code",
   "execution_count": 1,
   "id": "326c6dcf",
   "metadata": {
    "execution": {
     "iopub.execute_input": "2023-04-19T06:10:36.138019Z",
     "iopub.status.busy": "2023-04-19T06:10:36.137460Z",
     "iopub.status.idle": "2023-04-19T06:10:52.856018Z",
     "shell.execute_reply": "2023-04-19T06:10:52.854712Z"
    },
    "papermill": {
     "duration": 16.735884,
     "end_time": "2023-04-19T06:10:52.859314",
     "exception": false,
     "start_time": "2023-04-19T06:10:36.123430",
     "status": "completed"
    },
    "tags": []
   },
   "outputs": [],
   "source": [
    "import os\n",
    "import spacy\n",
    "import numpy as np\n",
    "import pandas as pd\n",
    "from sklearn.feature_extraction.text import TfidfVectorizer\n",
    "from sklearn.svm import LinearSVC"
   ]
  },
  {
   "cell_type": "markdown",
   "id": "6eaa176e",
   "metadata": {
    "papermill": {
     "duration": 0.011822,
     "end_time": "2023-04-19T06:10:52.883738",
     "exception": false,
     "start_time": "2023-04-19T06:10:52.871916",
     "status": "completed"
    },
    "tags": []
   },
   "source": [
    "# Loading the Dataset"
   ]
  },
  {
   "cell_type": "code",
   "execution_count": 2,
   "id": "f0f0d5ec",
   "metadata": {
    "execution": {
     "iopub.execute_input": "2023-04-19T06:10:52.912986Z",
     "iopub.status.busy": "2023-04-19T06:10:52.911372Z",
     "iopub.status.idle": "2023-04-19T06:10:53.005243Z",
     "shell.execute_reply": "2023-04-19T06:10:53.004122Z"
    },
    "papermill": {
     "duration": 0.110651,
     "end_time": "2023-04-19T06:10:53.008004",
     "exception": false,
     "start_time": "2023-04-19T06:10:52.897353",
     "status": "completed"
    },
    "tags": []
   },
   "outputs": [],
   "source": [
    "train_label_path = \"/kaggle/input/facebook-hateful-meme-dataset/data/train.jsonl\"\n",
    "validation_label_path = \"/kaggle/input/facebook-hateful-meme-dataset/data/dev.jsonl\"\n",
    "df_train = pd.read_json(train_label_path,lines=True)\n",
    "df_val = pd.read_json(validation_label_path,lines =True)"
   ]
  },
  {
   "cell_type": "code",
   "execution_count": 3,
   "id": "438ff587",
   "metadata": {
    "execution": {
     "iopub.execute_input": "2023-04-19T06:10:53.035034Z",
     "iopub.status.busy": "2023-04-19T06:10:53.034151Z",
     "iopub.status.idle": "2023-04-19T06:10:53.065271Z",
     "shell.execute_reply": "2023-04-19T06:10:53.063832Z"
    },
    "papermill": {
     "duration": 0.04923,
     "end_time": "2023-04-19T06:10:53.069443",
     "exception": false,
     "start_time": "2023-04-19T06:10:53.020213",
     "status": "completed"
    },
    "tags": []
   },
   "outputs": [
    {
     "data": {
      "text/html": [
       "<div>\n",
       "<style scoped>\n",
       "    .dataframe tbody tr th:only-of-type {\n",
       "        vertical-align: middle;\n",
       "    }\n",
       "\n",
       "    .dataframe tbody tr th {\n",
       "        vertical-align: top;\n",
       "    }\n",
       "\n",
       "    .dataframe thead th {\n",
       "        text-align: right;\n",
       "    }\n",
       "</style>\n",
       "<table border=\"1\" class=\"dataframe\">\n",
       "  <thead>\n",
       "    <tr style=\"text-align: right;\">\n",
       "      <th></th>\n",
       "      <th>id</th>\n",
       "      <th>img</th>\n",
       "      <th>label</th>\n",
       "      <th>text</th>\n",
       "    </tr>\n",
       "  </thead>\n",
       "  <tbody>\n",
       "    <tr>\n",
       "      <th>0</th>\n",
       "      <td>42953</td>\n",
       "      <td>img/42953.png</td>\n",
       "      <td>0</td>\n",
       "      <td>its their character not their color that matters</td>\n",
       "    </tr>\n",
       "    <tr>\n",
       "      <th>1</th>\n",
       "      <td>23058</td>\n",
       "      <td>img/23058.png</td>\n",
       "      <td>0</td>\n",
       "      <td>don't be afraid to love again everyone is not ...</td>\n",
       "    </tr>\n",
       "    <tr>\n",
       "      <th>2</th>\n",
       "      <td>13894</td>\n",
       "      <td>img/13894.png</td>\n",
       "      <td>0</td>\n",
       "      <td>putting bows on your pet</td>\n",
       "    </tr>\n",
       "    <tr>\n",
       "      <th>3</th>\n",
       "      <td>37408</td>\n",
       "      <td>img/37408.png</td>\n",
       "      <td>0</td>\n",
       "      <td>i love everything and everybody! except for sq...</td>\n",
       "    </tr>\n",
       "    <tr>\n",
       "      <th>4</th>\n",
       "      <td>82403</td>\n",
       "      <td>img/82403.png</td>\n",
       "      <td>0</td>\n",
       "      <td>everybody loves chocolate chip cookies, even h...</td>\n",
       "    </tr>\n",
       "    <tr>\n",
       "      <th>...</th>\n",
       "      <td>...</td>\n",
       "      <td>...</td>\n",
       "      <td>...</td>\n",
       "      <td>...</td>\n",
       "    </tr>\n",
       "    <tr>\n",
       "      <th>8495</th>\n",
       "      <td>10423</td>\n",
       "      <td>img/10423.png</td>\n",
       "      <td>1</td>\n",
       "      <td>nobody wants to hang auschwitz me</td>\n",
       "    </tr>\n",
       "    <tr>\n",
       "      <th>8496</th>\n",
       "      <td>98203</td>\n",
       "      <td>img/98203.png</td>\n",
       "      <td>1</td>\n",
       "      <td>when god grants you a child after 20 years of ...</td>\n",
       "    </tr>\n",
       "    <tr>\n",
       "      <th>8497</th>\n",
       "      <td>36947</td>\n",
       "      <td>img/36947.png</td>\n",
       "      <td>1</td>\n",
       "      <td>gays on social media: equality! body positivit...</td>\n",
       "    </tr>\n",
       "    <tr>\n",
       "      <th>8498</th>\n",
       "      <td>16492</td>\n",
       "      <td>img/16492.png</td>\n",
       "      <td>1</td>\n",
       "      <td>having a bad day? you could be a siamese twin ...</td>\n",
       "    </tr>\n",
       "    <tr>\n",
       "      <th>8499</th>\n",
       "      <td>15937</td>\n",
       "      <td>img/15937.png</td>\n",
       "      <td>1</td>\n",
       "      <td>i hate muslims too they take their religion to...</td>\n",
       "    </tr>\n",
       "  </tbody>\n",
       "</table>\n",
       "<p>8500 rows × 4 columns</p>\n",
       "</div>"
      ],
      "text/plain": [
       "         id            img  label  \\\n",
       "0     42953  img/42953.png      0   \n",
       "1     23058  img/23058.png      0   \n",
       "2     13894  img/13894.png      0   \n",
       "3     37408  img/37408.png      0   \n",
       "4     82403  img/82403.png      0   \n",
       "...     ...            ...    ...   \n",
       "8495  10423  img/10423.png      1   \n",
       "8496  98203  img/98203.png      1   \n",
       "8497  36947  img/36947.png      1   \n",
       "8498  16492  img/16492.png      1   \n",
       "8499  15937  img/15937.png      1   \n",
       "\n",
       "                                                   text  \n",
       "0      its their character not their color that matters  \n",
       "1     don't be afraid to love again everyone is not ...  \n",
       "2                              putting bows on your pet  \n",
       "3     i love everything and everybody! except for sq...  \n",
       "4     everybody loves chocolate chip cookies, even h...  \n",
       "...                                                 ...  \n",
       "8495                  nobody wants to hang auschwitz me  \n",
       "8496  when god grants you a child after 20 years of ...  \n",
       "8497  gays on social media: equality! body positivit...  \n",
       "8498  having a bad day? you could be a siamese twin ...  \n",
       "8499  i hate muslims too they take their religion to...  \n",
       "\n",
       "[8500 rows x 4 columns]"
      ]
     },
     "execution_count": 3,
     "metadata": {},
     "output_type": "execute_result"
    }
   ],
   "source": [
    "df_train"
   ]
  },
  {
   "cell_type": "code",
   "execution_count": 4,
   "id": "4cf41b61",
   "metadata": {
    "execution": {
     "iopub.execute_input": "2023-04-19T06:10:53.101236Z",
     "iopub.status.busy": "2023-04-19T06:10:53.100317Z",
     "iopub.status.idle": "2023-04-19T06:10:53.115297Z",
     "shell.execute_reply": "2023-04-19T06:10:53.114423Z"
    },
    "papermill": {
     "duration": 0.031323,
     "end_time": "2023-04-19T06:10:53.117552",
     "exception": false,
     "start_time": "2023-04-19T06:10:53.086229",
     "status": "completed"
    },
    "tags": []
   },
   "outputs": [
    {
     "data": {
      "text/html": [
       "<div>\n",
       "<style scoped>\n",
       "    .dataframe tbody tr th:only-of-type {\n",
       "        vertical-align: middle;\n",
       "    }\n",
       "\n",
       "    .dataframe tbody tr th {\n",
       "        vertical-align: top;\n",
       "    }\n",
       "\n",
       "    .dataframe thead th {\n",
       "        text-align: right;\n",
       "    }\n",
       "</style>\n",
       "<table border=\"1\" class=\"dataframe\">\n",
       "  <thead>\n",
       "    <tr style=\"text-align: right;\">\n",
       "      <th></th>\n",
       "      <th>id</th>\n",
       "      <th>img</th>\n",
       "      <th>label</th>\n",
       "      <th>text</th>\n",
       "    </tr>\n",
       "  </thead>\n",
       "  <tbody>\n",
       "    <tr>\n",
       "      <th>0</th>\n",
       "      <td>8291</td>\n",
       "      <td>img/08291.png</td>\n",
       "      <td>1</td>\n",
       "      <td>white people is this a shooting range</td>\n",
       "    </tr>\n",
       "    <tr>\n",
       "      <th>1</th>\n",
       "      <td>46971</td>\n",
       "      <td>img/46971.png</td>\n",
       "      <td>1</td>\n",
       "      <td>bravery at its finest</td>\n",
       "    </tr>\n",
       "    <tr>\n",
       "      <th>2</th>\n",
       "      <td>3745</td>\n",
       "      <td>img/03745.png</td>\n",
       "      <td>1</td>\n",
       "      <td>your order comes to $37.50 and your white priv...</td>\n",
       "    </tr>\n",
       "    <tr>\n",
       "      <th>3</th>\n",
       "      <td>83745</td>\n",
       "      <td>img/83745.png</td>\n",
       "      <td>1</td>\n",
       "      <td>it is time.. to send these parasites back to t...</td>\n",
       "    </tr>\n",
       "    <tr>\n",
       "      <th>4</th>\n",
       "      <td>80243</td>\n",
       "      <td>img/80243.png</td>\n",
       "      <td>1</td>\n",
       "      <td>mississippi wind chime</td>\n",
       "    </tr>\n",
       "    <tr>\n",
       "      <th>...</th>\n",
       "      <td>...</td>\n",
       "      <td>...</td>\n",
       "      <td>...</td>\n",
       "      <td>...</td>\n",
       "    </tr>\n",
       "    <tr>\n",
       "      <th>495</th>\n",
       "      <td>83675</td>\n",
       "      <td>img/83675.png</td>\n",
       "      <td>0</td>\n",
       "      <td>i'm gonna be like phelps one day</td>\n",
       "    </tr>\n",
       "    <tr>\n",
       "      <th>496</th>\n",
       "      <td>37198</td>\n",
       "      <td>img/37198.png</td>\n",
       "      <td>0</td>\n",
       "      <td>when you're so relaxed you can feel yourself g...</td>\n",
       "    </tr>\n",
       "    <tr>\n",
       "      <th>497</th>\n",
       "      <td>48670</td>\n",
       "      <td>img/48670.png</td>\n",
       "      <td>0</td>\n",
       "      <td>look at this sandwich maker club i found on wi...</td>\n",
       "    </tr>\n",
       "    <tr>\n",
       "      <th>498</th>\n",
       "      <td>9863</td>\n",
       "      <td>img/09863.png</td>\n",
       "      <td>0</td>\n",
       "      <td>diverse group of women</td>\n",
       "    </tr>\n",
       "    <tr>\n",
       "      <th>499</th>\n",
       "      <td>97320</td>\n",
       "      <td>img/97320.png</td>\n",
       "      <td>0</td>\n",
       "      <td>\"when your dishwasher is broken so you take it...</td>\n",
       "    </tr>\n",
       "  </tbody>\n",
       "</table>\n",
       "<p>500 rows × 4 columns</p>\n",
       "</div>"
      ],
      "text/plain": [
       "        id            img  label  \\\n",
       "0     8291  img/08291.png      1   \n",
       "1    46971  img/46971.png      1   \n",
       "2     3745  img/03745.png      1   \n",
       "3    83745  img/83745.png      1   \n",
       "4    80243  img/80243.png      1   \n",
       "..     ...            ...    ...   \n",
       "495  83675  img/83675.png      0   \n",
       "496  37198  img/37198.png      0   \n",
       "497  48670  img/48670.png      0   \n",
       "498   9863  img/09863.png      0   \n",
       "499  97320  img/97320.png      0   \n",
       "\n",
       "                                                  text  \n",
       "0                white people is this a shooting range  \n",
       "1                                bravery at its finest  \n",
       "2    your order comes to $37.50 and your white priv...  \n",
       "3    it is time.. to send these parasites back to t...  \n",
       "4                               mississippi wind chime  \n",
       "..                                                 ...  \n",
       "495                   i'm gonna be like phelps one day  \n",
       "496  when you're so relaxed you can feel yourself g...  \n",
       "497  look at this sandwich maker club i found on wi...  \n",
       "498                             diverse group of women  \n",
       "499  \"when your dishwasher is broken so you take it...  \n",
       "\n",
       "[500 rows x 4 columns]"
      ]
     },
     "execution_count": 4,
     "metadata": {},
     "output_type": "execute_result"
    }
   ],
   "source": [
    "df_val"
   ]
  },
  {
   "cell_type": "code",
   "execution_count": 5,
   "id": "a5babce1",
   "metadata": {
    "execution": {
     "iopub.execute_input": "2023-04-19T06:10:53.146064Z",
     "iopub.status.busy": "2023-04-19T06:10:53.145635Z",
     "iopub.status.idle": "2023-04-19T06:10:53.159898Z",
     "shell.execute_reply": "2023-04-19T06:10:53.158471Z"
    },
    "papermill": {
     "duration": 0.031627,
     "end_time": "2023-04-19T06:10:53.162542",
     "exception": false,
     "start_time": "2023-04-19T06:10:53.130915",
     "status": "completed"
    },
    "tags": []
   },
   "outputs": [
    {
     "data": {
      "text/html": [
       "<div>\n",
       "<style scoped>\n",
       "    .dataframe tbody tr th:only-of-type {\n",
       "        vertical-align: middle;\n",
       "    }\n",
       "\n",
       "    .dataframe tbody tr th {\n",
       "        vertical-align: top;\n",
       "    }\n",
       "\n",
       "    .dataframe thead th {\n",
       "        text-align: right;\n",
       "    }\n",
       "</style>\n",
       "<table border=\"1\" class=\"dataframe\">\n",
       "  <thead>\n",
       "    <tr style=\"text-align: right;\">\n",
       "      <th></th>\n",
       "      <th>id</th>\n",
       "      <th>img</th>\n",
       "      <th>label</th>\n",
       "      <th>text</th>\n",
       "    </tr>\n",
       "  </thead>\n",
       "  <tbody>\n",
       "    <tr>\n",
       "      <th>0</th>\n",
       "      <td>42953</td>\n",
       "      <td>img/42953.png</td>\n",
       "      <td>0</td>\n",
       "      <td>its their character not their color that matters</td>\n",
       "    </tr>\n",
       "    <tr>\n",
       "      <th>1</th>\n",
       "      <td>23058</td>\n",
       "      <td>img/23058.png</td>\n",
       "      <td>0</td>\n",
       "      <td>don't be afraid to love again everyone is not ...</td>\n",
       "    </tr>\n",
       "    <tr>\n",
       "      <th>2</th>\n",
       "      <td>13894</td>\n",
       "      <td>img/13894.png</td>\n",
       "      <td>0</td>\n",
       "      <td>putting bows on your pet</td>\n",
       "    </tr>\n",
       "    <tr>\n",
       "      <th>3</th>\n",
       "      <td>37408</td>\n",
       "      <td>img/37408.png</td>\n",
       "      <td>0</td>\n",
       "      <td>i love everything and everybody! except for sq...</td>\n",
       "    </tr>\n",
       "  </tbody>\n",
       "</table>\n",
       "</div>"
      ],
      "text/plain": [
       "      id            img  label  \\\n",
       "0  42953  img/42953.png      0   \n",
       "1  23058  img/23058.png      0   \n",
       "2  13894  img/13894.png      0   \n",
       "3  37408  img/37408.png      0   \n",
       "\n",
       "                                                text  \n",
       "0   its their character not their color that matters  \n",
       "1  don't be afraid to love again everyone is not ...  \n",
       "2                           putting bows on your pet  \n",
       "3  i love everything and everybody! except for sq...  "
      ]
     },
     "execution_count": 5,
     "metadata": {},
     "output_type": "execute_result"
    }
   ],
   "source": [
    "df_train.head(4)"
   ]
  },
  {
   "cell_type": "markdown",
   "id": "71949dcc",
   "metadata": {
    "papermill": {
     "duration": 0.013127,
     "end_time": "2023-04-19T06:10:53.189043",
     "exception": false,
     "start_time": "2023-04-19T06:10:53.175916",
     "status": "completed"
    },
    "tags": []
   },
   "source": [
    "# Checking null values"
   ]
  },
  {
   "cell_type": "code",
   "execution_count": 6,
   "id": "c86b5dc0",
   "metadata": {
    "execution": {
     "iopub.execute_input": "2023-04-19T06:10:53.217693Z",
     "iopub.status.busy": "2023-04-19T06:10:53.217234Z",
     "iopub.status.idle": "2023-04-19T06:10:53.230044Z",
     "shell.execute_reply": "2023-04-19T06:10:53.228688Z"
    },
    "papermill": {
     "duration": 0.030671,
     "end_time": "2023-04-19T06:10:53.232589",
     "exception": false,
     "start_time": "2023-04-19T06:10:53.201918",
     "status": "completed"
    },
    "tags": []
   },
   "outputs": [
    {
     "data": {
      "text/plain": [
       "id       0\n",
       "img      0\n",
       "label    0\n",
       "text     0\n",
       "dtype: int64"
      ]
     },
     "execution_count": 6,
     "metadata": {},
     "output_type": "execute_result"
    }
   ],
   "source": [
    "df_train.isna().sum()"
   ]
  },
  {
   "cell_type": "code",
   "execution_count": 7,
   "id": "e98794fc",
   "metadata": {
    "execution": {
     "iopub.execute_input": "2023-04-19T06:10:53.261693Z",
     "iopub.status.busy": "2023-04-19T06:10:53.261211Z",
     "iopub.status.idle": "2023-04-19T06:10:53.268968Z",
     "shell.execute_reply": "2023-04-19T06:10:53.267757Z"
    },
    "papermill": {
     "duration": 0.02532,
     "end_time": "2023-04-19T06:10:53.271630",
     "exception": false,
     "start_time": "2023-04-19T06:10:53.246310",
     "status": "completed"
    },
    "tags": []
   },
   "outputs": [
    {
     "data": {
      "text/plain": [
       "(8500, 4)"
      ]
     },
     "execution_count": 7,
     "metadata": {},
     "output_type": "execute_result"
    }
   ],
   "source": [
    "df_train.shape"
   ]
  },
  {
   "cell_type": "code",
   "execution_count": 8,
   "id": "0ae4ddc5",
   "metadata": {
    "execution": {
     "iopub.execute_input": "2023-04-19T06:10:53.303197Z",
     "iopub.status.busy": "2023-04-19T06:10:53.302747Z",
     "iopub.status.idle": "2023-04-19T06:10:53.310559Z",
     "shell.execute_reply": "2023-04-19T06:10:53.308993Z"
    },
    "papermill": {
     "duration": 0.026031,
     "end_time": "2023-04-19T06:10:53.312975",
     "exception": false,
     "start_time": "2023-04-19T06:10:53.286944",
     "status": "completed"
    },
    "tags": []
   },
   "outputs": [
    {
     "data": {
      "text/plain": [
       "'putting bows on your pet'"
      ]
     },
     "execution_count": 8,
     "metadata": {},
     "output_type": "execute_result"
    }
   ],
   "source": [
    "df_train.iloc[2]['text']"
   ]
  },
  {
   "cell_type": "code",
   "execution_count": 9,
   "id": "36b24c68",
   "metadata": {
    "execution": {
     "iopub.execute_input": "2023-04-19T06:10:53.343796Z",
     "iopub.status.busy": "2023-04-19T06:10:53.343360Z",
     "iopub.status.idle": "2023-04-19T06:10:54.214943Z",
     "shell.execute_reply": "2023-04-19T06:10:54.213871Z"
    },
    "papermill": {
     "duration": 0.890543,
     "end_time": "2023-04-19T06:10:54.217585",
     "exception": false,
     "start_time": "2023-04-19T06:10:53.327042",
     "status": "completed"
    },
    "tags": []
   },
   "outputs": [
    {
     "data": {
      "text/plain": [
       "['tok2vec', 'tagger', 'parser', 'attribute_ruler', 'lemmatizer', 'ner']"
      ]
     },
     "execution_count": 9,
     "metadata": {},
     "output_type": "execute_result"
    }
   ],
   "source": [
    "nlp=spacy.load(\"en_core_web_sm\")\n",
    "nlp.pipe_names"
   ]
  },
  {
   "cell_type": "markdown",
   "id": "7d9d37d2",
   "metadata": {
    "papermill": {
     "duration": 0.013726,
     "end_time": "2023-04-19T06:10:54.245137",
     "exception": false,
     "start_time": "2023-04-19T06:10:54.231411",
     "status": "completed"
    },
    "tags": []
   },
   "source": [
    "# Pie Chart for the distribution of data"
   ]
  },
  {
   "cell_type": "code",
   "execution_count": 10,
   "id": "7c9b925d",
   "metadata": {
    "execution": {
     "iopub.execute_input": "2023-04-19T06:10:54.275594Z",
     "iopub.status.busy": "2023-04-19T06:10:54.275177Z",
     "iopub.status.idle": "2023-04-19T06:10:54.452034Z",
     "shell.execute_reply": "2023-04-19T06:10:54.450253Z"
    },
    "papermill": {
     "duration": 0.198045,
     "end_time": "2023-04-19T06:10:54.457372",
     "exception": false,
     "start_time": "2023-04-19T06:10:54.259327",
     "status": "completed"
    },
    "tags": []
   },
   "outputs": [
    {
     "data": {
      "image/png": "[encoded data removed]",
      "text/plain": [
       "<Figure size 640x480 with 1 Axes>"
      ]
     },
     "metadata": {},
     "output_type": "display_data"
    }
   ],
   "source": [
    "import matplotlib.pyplot as plt\n",
    "\n",
    "# Count the number of occurrences of each category in the training data\n",
    "train_counts = df_train[\"label\"].value_counts()\n",
    "\n",
    "# Plot the counts as a pie chart\n",
    "fig, ax = plt.subplots()\n",
    "ax.pie(train_counts, labels=train_counts.index, autopct='%1.1f%%')\n",
    "ax.set_title(\"Distribution of Categories in Training Data\")\n",
    "\n",
    "plt.show()"
   ]
  },
  {
   "cell_type": "markdown",
   "id": "66b4e124",
   "metadata": {
    "papermill": {
     "duration": 0.014075,
     "end_time": "2023-04-19T06:10:54.504076",
     "exception": false,
     "start_time": "2023-04-19T06:10:54.490001",
     "status": "completed"
    },
    "tags": []
   },
   "source": [
    "# Text Preprocessing"
   ]
  },
  {
   "cell_type": "code",
   "execution_count": 11,
   "id": "9aba2b39",
   "metadata": {
    "execution": {
     "iopub.execute_input": "2023-04-19T06:10:54.533786Z",
     "iopub.status.busy": "2023-04-19T06:10:54.533357Z",
     "iopub.status.idle": "2023-04-19T06:10:54.549487Z",
     "shell.execute_reply": "2023-04-19T06:10:54.548296Z"
    },
    "papermill": {
     "duration": 0.034064,
     "end_time": "2023-04-19T06:10:54.552042",
     "exception": false,
     "start_time": "2023-04-19T06:10:54.517978",
     "status": "completed"
    },
    "tags": []
   },
   "outputs": [
    {
     "data": {
      "text/html": [
       "<div>\n",
       "<style scoped>\n",
       "    .dataframe tbody tr th:only-of-type {\n",
       "        vertical-align: middle;\n",
       "    }\n",
       "\n",
       "    .dataframe tbody tr th {\n",
       "        vertical-align: top;\n",
       "    }\n",
       "\n",
       "    .dataframe thead th {\n",
       "        text-align: right;\n",
       "    }\n",
       "</style>\n",
       "<table border=\"1\" class=\"dataframe\">\n",
       "  <thead>\n",
       "    <tr style=\"text-align: right;\">\n",
       "      <th></th>\n",
       "      <th>id</th>\n",
       "      <th>img</th>\n",
       "      <th>label</th>\n",
       "      <th>text</th>\n",
       "    </tr>\n",
       "  </thead>\n",
       "  <tbody>\n",
       "    <tr>\n",
       "      <th>0</th>\n",
       "      <td>42953</td>\n",
       "      <td>img/42953.png</td>\n",
       "      <td>0</td>\n",
       "      <td>its their character not their color that matters</td>\n",
       "    </tr>\n",
       "    <tr>\n",
       "      <th>1</th>\n",
       "      <td>23058</td>\n",
       "      <td>img/23058.png</td>\n",
       "      <td>0</td>\n",
       "      <td>don't be afraid to love again everyone is not ...</td>\n",
       "    </tr>\n",
       "    <tr>\n",
       "      <th>2</th>\n",
       "      <td>13894</td>\n",
       "      <td>img/13894.png</td>\n",
       "      <td>0</td>\n",
       "      <td>putting bows on your pet</td>\n",
       "    </tr>\n",
       "    <tr>\n",
       "      <th>3</th>\n",
       "      <td>37408</td>\n",
       "      <td>img/37408.png</td>\n",
       "      <td>0</td>\n",
       "      <td>i love everything and everybody! except for sq...</td>\n",
       "    </tr>\n",
       "    <tr>\n",
       "      <th>4</th>\n",
       "      <td>82403</td>\n",
       "      <td>img/82403.png</td>\n",
       "      <td>0</td>\n",
       "      <td>everybody loves chocolate chip cookies, even h...</td>\n",
       "    </tr>\n",
       "    <tr>\n",
       "      <th>...</th>\n",
       "      <td>...</td>\n",
       "      <td>...</td>\n",
       "      <td>...</td>\n",
       "      <td>...</td>\n",
       "    </tr>\n",
       "    <tr>\n",
       "      <th>8495</th>\n",
       "      <td>10423</td>\n",
       "      <td>img/10423.png</td>\n",
       "      <td>1</td>\n",
       "      <td>nobody wants to hang auschwitz me</td>\n",
       "    </tr>\n",
       "    <tr>\n",
       "      <th>8496</th>\n",
       "      <td>98203</td>\n",
       "      <td>img/98203.png</td>\n",
       "      <td>1</td>\n",
       "      <td>when god grants you a child after 20 years of ...</td>\n",
       "    </tr>\n",
       "    <tr>\n",
       "      <th>8497</th>\n",
       "      <td>36947</td>\n",
       "      <td>img/36947.png</td>\n",
       "      <td>1</td>\n",
       "      <td>gays on social media: equality! body positivit...</td>\n",
       "    </tr>\n",
       "    <tr>\n",
       "      <th>8498</th>\n",
       "      <td>16492</td>\n",
       "      <td>img/16492.png</td>\n",
       "      <td>1</td>\n",
       "      <td>having a bad day? you could be a siamese twin ...</td>\n",
       "    </tr>\n",
       "    <tr>\n",
       "      <th>8499</th>\n",
       "      <td>15937</td>\n",
       "      <td>img/15937.png</td>\n",
       "      <td>1</td>\n",
       "      <td>i hate muslims too they take their religion to...</td>\n",
       "    </tr>\n",
       "  </tbody>\n",
       "</table>\n",
       "<p>8500 rows × 4 columns</p>\n",
       "</div>"
      ],
      "text/plain": [
       "         id            img  label  \\\n",
       "0     42953  img/42953.png      0   \n",
       "1     23058  img/23058.png      0   \n",
       "2     13894  img/13894.png      0   \n",
       "3     37408  img/37408.png      0   \n",
       "4     82403  img/82403.png      0   \n",
       "...     ...            ...    ...   \n",
       "8495  10423  img/10423.png      1   \n",
       "8496  98203  img/98203.png      1   \n",
       "8497  36947  img/36947.png      1   \n",
       "8498  16492  img/16492.png      1   \n",
       "8499  15937  img/15937.png      1   \n",
       "\n",
       "                                                   text  \n",
       "0      its their character not their color that matters  \n",
       "1     don't be afraid to love again everyone is not ...  \n",
       "2                              putting bows on your pet  \n",
       "3     i love everything and everybody! except for sq...  \n",
       "4     everybody loves chocolate chip cookies, even h...  \n",
       "...                                                 ...  \n",
       "8495                  nobody wants to hang auschwitz me  \n",
       "8496  when god grants you a child after 20 years of ...  \n",
       "8497  gays on social media: equality! body positivit...  \n",
       "8498  having a bad day? you could be a siamese twin ...  \n",
       "8499  i hate muslims too they take their religion to...  \n",
       "\n",
       "[8500 rows x 4 columns]"
      ]
     },
     "execution_count": 11,
     "metadata": {},
     "output_type": "execute_result"
    }
   ],
   "source": [
    "df_train"
   ]
  },
  {
   "cell_type": "markdown",
   "id": "409df77b",
   "metadata": {
    "papermill": {
     "duration": 0.013619,
     "end_time": "2023-04-19T06:10:54.579699",
     "exception": false,
     "start_time": "2023-04-19T06:10:54.566080",
     "status": "completed"
    },
    "tags": []
   },
   "source": [
    "### filtering other language"
   ]
  },
  {
   "cell_type": "code",
   "execution_count": 12,
   "id": "e7b405bb",
   "metadata": {
    "execution": {
     "iopub.execute_input": "2023-04-19T06:10:54.610689Z",
     "iopub.status.busy": "2023-04-19T06:10:54.609858Z",
     "iopub.status.idle": "2023-04-19T06:10:55.108141Z",
     "shell.execute_reply": "2023-04-19T06:10:55.106732Z"
    },
    "papermill": {
     "duration": 0.517395,
     "end_time": "2023-04-19T06:10:55.111045",
     "exception": false,
     "start_time": "2023-04-19T06:10:54.593650",
     "status": "completed"
    },
    "tags": []
   },
   "outputs": [],
   "source": [
    "import nltk\n",
    "\n",
    "def english_word_filter(sent):\n",
    "    words = set(nltk.corpus.words.words())\n",
    "\n",
    "    #sent = \"Io andiamo to the beach with my amico.\"\n",
    "    #sent=\"Bonjour! Comment ça va? I'm doing well, thank you. What about you?\"\n",
    "\n",
    "    text=\" \".join(w for w in nltk.wordpunct_tokenize(sent) \\\n",
    "\n",
    "             if w.lower() in words or not w.isalpha())\n",
    "    \n",
    "    return text"
   ]
  },
  {
   "cell_type": "code",
   "execution_count": 13,
   "id": "0f15c7dc",
   "metadata": {
    "execution": {
     "iopub.execute_input": "2023-04-19T06:10:55.141261Z",
     "iopub.status.busy": "2023-04-19T06:10:55.140483Z",
     "iopub.status.idle": "2023-04-19T06:10:56.612293Z",
     "shell.execute_reply": "2023-04-19T06:10:56.610428Z"
    },
    "papermill": {
     "duration": 1.489938,
     "end_time": "2023-04-19T06:10:56.615040",
     "exception": false,
     "start_time": "2023-04-19T06:10:55.125102",
     "status": "completed"
    },
    "tags": []
   },
   "outputs": [
    {
     "name": "stdout",
     "output_type": "stream",
     "text": [
      "Original Text: Hola! I went to the marché to buy some fruits and vegetables\n",
      "Filtered Text: ! I went to the to buy some and\n",
      "\n",
      "\n",
      "Original Text: Je suis très fatigué today, I think I need a nap\n",
      "Filtered Text: today , I think I need a nap\n",
      "\n",
      "\n",
      "Original Text: Мой лучший друг is coming to visit me from Russia next week\n",
      "Filtered Text: is coming to visit me from Russia next week\n",
      "\n",
      "\n",
      "Original Text: Ich bin so aufgeregt! Tomorrow I'm going to see my favorite band live in concert\n",
      "Filtered Text: Ich bin so ! Tomorrow I ' m going to see my favorite band live in concert\n",
      "\n",
      "\n",
      "Original Text: Mijn vrienden and I are planning a trip to Italy this summer\n",
      "Filtered Text: and I are a trip to this summer\n",
      "\n",
      "\n",
      "Original Text: Jeg har lyst til å lære meg å spille gitar, it's been a dream of mine for years\n",
      "Filtered Text: til , it ' s been a dream of mine for\n",
      "\n",
      "\n",
      "Original Text: Mi familia and I went to the beach for vacation last month, it was so much fun\n",
      "Filtered Text: Mi familia and I went to the beach for vacation last month , it was so much fun\n",
      "\n",
      "\n",
      "Original Text: O café da manhã is my favorite meal of the day, especially when I have some croissants\n",
      "Filtered Text: O da is my favorite meal of the day , especially when I have some\n",
      "\n",
      "\n",
      "Original Text: Ich spreche ein bisschen Deutsch, but I'm not very good at it yet\n",
      "Filtered Text: Ich , but I ' m not very good at it yet\n",
      "\n",
      "\n",
      "Original Text: Mi hermano mayor is getting married next month, and I'm going to be the best man\n",
      "Filtered Text: Mi mayor is getting married next month , and I ' m going to be the best man\n",
      "\n",
      "\n"
     ]
    }
   ],
   "source": [
    "examples = [\"Hola! I went to the marché to buy some fruits and vegetables\",\n",
    "\"Je suis très fatigué today, I think I need a nap\",\n",
    "\"Мой лучший друг is coming to visit me from Russia next week\",\n",
    "\"Ich bin so aufgeregt! Tomorrow I'm going to see my favorite band live in concert\",\n",
    "\"Mijn vrienden and I are planning a trip to Italy this summer\",\n",
    "\"Jeg har lyst til å lære meg å spille gitar, it's been a dream of mine for years\",\n",
    "\"Mi familia and I went to the beach for vacation last month, it was so much fun\",\n",
    "\"O café da manhã is my favorite meal of the day, especially when I have some croissants\",\n",
    "\"Ich spreche ein bisschen Deutsch, but I'm not very good at it yet\",\n",
    "\"Mi hermano mayor is getting married next month, and I'm going to be the best man\"]\n",
    "\n",
    "for example in examples:\n",
    "    filtered_text = english_word_filter(example)\n",
    "    print(f\"Original Text: {example}\")\n",
    "    print(f\"Filtered Text: {filtered_text}\")\n",
    "    print(\"\\n\")"
   ]
  },
  {
   "cell_type": "code",
   "execution_count": 14,
   "id": "c4739191",
   "metadata": {
    "execution": {
     "iopub.execute_input": "2023-04-19T06:10:56.646617Z",
     "iopub.status.busy": "2023-04-19T06:10:56.646182Z",
     "iopub.status.idle": "2023-04-19T06:11:11.476394Z",
     "shell.execute_reply": "2023-04-19T06:11:11.474897Z"
    },
    "papermill": {
     "duration": 14.849865,
     "end_time": "2023-04-19T06:11:11.479445",
     "exception": false,
     "start_time": "2023-04-19T06:10:56.629580",
     "status": "completed"
    },
    "tags": []
   },
   "outputs": [
    {
     "name": "stdout",
     "output_type": "stream",
     "text": [
      "Collecting langdetect\r\n",
      "  Downloading langdetect-1.0.9.tar.gz (981 kB)\r\n",
      "\u001b[2K     \u001b[90m━━━━━━━━━━━━━━━━━━━━━━━━━━━━━━━━━━━━━━\u001b[0m \u001b[32m981.5/981.5 kB\u001b[0m \u001b[31m19.6 MB/s\u001b[0m eta \u001b[36m0:00:00\u001b[0m\r\n",
      "\u001b[?25h  Preparing metadata (setup.py) ... \u001b[?25l-\b \bdone\r\n",
      "\u001b[?25hRequirement already satisfied: six in /opt/conda/lib/python3.7/site-packages (from langdetect) (1.16.0)\r\n",
      "Building wheels for collected packages: langdetect\r\n",
      "  Building wheel for langdetect (setup.py) ... \u001b[?25l-\b \b\\\b \bdone\r\n",
      "\u001b[?25h  Created wheel for langdetect: filename=langdetect-1.0.9-py3-none-any.whl size=993242 sha256=3405b7d0582bcb493ae242234de5b28caae17068fdca7ed6f757ef4f3b93bf4f\r\n",
      "  Stored in directory: /root/.cache/pip/wheels/73/b2/db/0c9b9eb7a44bf85ec0b42c06ee617d0a0de66840dc0b3248d1\r\n",
      "Successfully built langdetect\r\n",
      "Installing collected packages: langdetect\r\n",
      "Successfully installed langdetect-1.0.9\r\n",
      "\u001b[33mWARNING: Running pip as the 'root' user can result in broken permissions and conflicting behaviour with the system package manager. It is recommended to use a virtual environment instead: https://pip.pypa.io/warnings/venv\u001b[0m\u001b[33m\r\n",
      "\u001b[0m"
     ]
    }
   ],
   "source": [
    "!pip install langdetect"
   ]
  },
  {
   "cell_type": "code",
   "execution_count": 15,
   "id": "13370213",
   "metadata": {
    "execution": {
     "iopub.execute_input": "2023-04-19T06:11:11.512883Z",
     "iopub.status.busy": "2023-04-19T06:11:11.512366Z",
     "iopub.status.idle": "2023-04-19T06:11:11.532378Z",
     "shell.execute_reply": "2023-04-19T06:11:11.530861Z"
    },
    "papermill": {
     "duration": 0.04051,
     "end_time": "2023-04-19T06:11:11.535403",
     "exception": false,
     "start_time": "2023-04-19T06:11:11.494893",
     "status": "completed"
    },
    "tags": []
   },
   "outputs": [],
   "source": [
    "from langdetect import detect\n",
    "\n",
    "def filter_english(text):\n",
    "    \"\"\"\n",
    "    Function to remove non-English words from a text\n",
    "    \"\"\"\n",
    "    words = text.split()\n",
    "    english_words = [word for word in words if word.isalpha() and detect(word) == 'en']\n",
    "    return \" \".join(english_words)\n",
    "\n",
    "\n"
   ]
  },
  {
   "cell_type": "code",
   "execution_count": 16,
   "id": "53fd0d0f",
   "metadata": {
    "execution": {
     "iopub.execute_input": "2023-04-19T06:11:11.567485Z",
     "iopub.status.busy": "2023-04-19T06:11:11.567100Z",
     "iopub.status.idle": "2023-04-19T06:11:13.729919Z",
     "shell.execute_reply": "2023-04-19T06:11:13.728601Z"
    },
    "papermill": {
     "duration": 2.181939,
     "end_time": "2023-04-19T06:11:13.732468",
     "exception": false,
     "start_time": "2023-04-19T06:11:11.550529",
     "status": "completed"
    },
    "tags": []
   },
   "outputs": [
    {
     "name": "stdout",
     "output_type": "stream",
     "text": [
      "Original Text: Hola! I went to the marché to buy some fruits and vegetables.\n",
      "Filtered Text: to the to and\n",
      "\n",
      "\n",
      "Original Text: Je suis très fatigué today, I think I need a nap.\n",
      "Filtered Text: think\n",
      "\n",
      "\n",
      "Original Text: Мой лучший друг is coming to visit me from Russia next week.\n",
      "Filtered Text: to from\n",
      "\n",
      "\n",
      "Original Text: Ich bin so aufgeregt! Tomorrow I'm going to see my favorite band live in concert.\n",
      "Filtered Text: Tomorrow to\n",
      "\n",
      "\n",
      "Original Text: Mijn vrienden and I are planning a trip to Italy this summer.\n",
      "Filtered Text: and to this\n",
      "\n",
      "\n",
      "Original Text: Jeg har lyst til å lære meg å spille gitar, it's been a dream of mine for years.\n",
      "Filtered Text: of\n",
      "\n",
      "\n",
      "Original Text: Mi familia and I went to the beach for vacation last month, it was so much fun.\n",
      "Filtered Text: and to the beach\n",
      "\n",
      "\n",
      "Original Text: O café da manhã is my favorite meal of the day, especially when I have some croissants.\n",
      "Filtered Text: of the when\n",
      "\n",
      "\n",
      "Original Text: Ich spreche ein bisschen Deutsch, but I'm not very good at it yet.\n",
      "Filtered Text: \n",
      "\n",
      "\n",
      "Original Text: Mi hermano mayor is getting married next month, and I'm going to be the best man.\n",
      "Filtered Text: hermano and to the\n",
      "\n",
      "\n"
     ]
    }
   ],
   "source": [
    "examples = [\"Hola! I went to the marché to buy some fruits and vegetables.\",\n",
    "\"Je suis très fatigué today, I think I need a nap.\",\n",
    "\"Мой лучший друг is coming to visit me from Russia next week.\",\n",
    "\"Ich bin so aufgeregt! Tomorrow I'm going to see my favorite band live in concert.\",\n",
    "\"Mijn vrienden and I are planning a trip to Italy this summer.\",\n",
    "\"Jeg har lyst til å lære meg å spille gitar, it's been a dream of mine for years.\",\n",
    "\"Mi familia and I went to the beach for vacation last month, it was so much fun.\",\n",
    "\"O café da manhã is my favorite meal of the day, especially when I have some croissants.\",\n",
    "\"Ich spreche ein bisschen Deutsch, but I'm not very good at it yet.\",\n",
    "\"Mi hermano mayor is getting married next month, and I'm going to be the best man.\"]\n",
    "\n",
    "for example in examples:\n",
    "    filtered_text = filter_english(example)\n",
    "    print(f\"Original Text: {example}\")\n",
    "    print(f\"Filtered Text: {filtered_text}\")\n",
    "    print(\"\\n\")\n"
   ]
  },
  {
   "cell_type": "code",
   "execution_count": 17,
   "id": "89871fa3",
   "metadata": {
    "execution": {
     "iopub.execute_input": "2023-04-19T06:11:13.766446Z",
     "iopub.status.busy": "2023-04-19T06:11:13.765856Z",
     "iopub.status.idle": "2023-04-19T06:11:26.021204Z",
     "shell.execute_reply": "2023-04-19T06:11:26.019786Z"
    },
    "papermill": {
     "duration": 12.275897,
     "end_time": "2023-04-19T06:11:26.024060",
     "exception": false,
     "start_time": "2023-04-19T06:11:13.748163",
     "status": "completed"
    },
    "tags": []
   },
   "outputs": [
    {
     "name": "stdout",
     "output_type": "stream",
     "text": [
      "Collecting contractions\r\n",
      "  Downloading contractions-0.1.73-py2.py3-none-any.whl (8.7 kB)\r\n",
      "Collecting textsearch>=0.0.21\r\n",
      "  Downloading textsearch-0.0.24-py2.py3-none-any.whl (7.6 kB)\r\n",
      "Collecting pyahocorasick\r\n",
      "  Downloading pyahocorasick-2.0.0-cp37-cp37m-manylinux_2_5_x86_64.manylinux1_x86_64.whl (101 kB)\r\n",
      "\u001b[2K     \u001b[90m━━━━━━━━━━━━━━━━━━━━━━━━━━━━━━━━━━━━━━━\u001b[0m \u001b[32m101.8/101.8 kB\u001b[0m \u001b[31m3.7 MB/s\u001b[0m eta \u001b[36m0:00:00\u001b[0m\r\n",
      "\u001b[?25hCollecting anyascii\r\n",
      "  Downloading anyascii-0.3.2-py3-none-any.whl (289 kB)\r\n",
      "\u001b[2K     \u001b[90m━━━━━━━━━━━━━━━━━━━━━━━━━━━━━━━━━━━━━━\u001b[0m \u001b[32m289.9/289.9 kB\u001b[0m \u001b[31m13.6 MB/s\u001b[0m eta \u001b[36m0:00:00\u001b[0m\r\n",
      "\u001b[?25hInstalling collected packages: pyahocorasick, anyascii, textsearch, contractions\r\n",
      "Successfully installed anyascii-0.3.2 contractions-0.1.73 pyahocorasick-2.0.0 textsearch-0.0.24\r\n",
      "\u001b[33mWARNING: Running pip as the 'root' user can result in broken permissions and conflicting behaviour with the system package manager. It is recommended to use a virtual environment instead: https://pip.pypa.io/warnings/venv\u001b[0m\u001b[33m\r\n",
      "\u001b[0m"
     ]
    }
   ],
   "source": [
    "!pip install contractions"
   ]
  },
  {
   "cell_type": "code",
   "execution_count": 18,
   "id": "e6295c52",
   "metadata": {
    "execution": {
     "iopub.execute_input": "2023-04-19T06:11:26.059783Z",
     "iopub.status.busy": "2023-04-19T06:11:26.059215Z",
     "iopub.status.idle": "2023-04-19T06:11:27.689051Z",
     "shell.execute_reply": "2023-04-19T06:11:27.687874Z"
    },
    "papermill": {
     "duration": 1.651117,
     "end_time": "2023-04-19T06:11:27.691966",
     "exception": false,
     "start_time": "2023-04-19T06:11:26.040849",
     "status": "completed"
    },
    "tags": []
   },
   "outputs": [
    {
     "name": "stdout",
     "output_type": "stream",
     "text": [
      "[nltk_data] Downloading package punkt to /usr/share/nltk_data...\n",
      "[nltk_data]   Package punkt is already up-to-date!\n"
     ]
    },
    {
     "name": "stderr",
     "output_type": "stream",
     "text": [
      "/opt/conda/lib/python3.7/site-packages/bs4/__init__.py:439: MarkupResemblesLocatorWarning: The input looks more like a filename than markup. You may want to open this file and pass the filehandle into Beautiful Soup.\n",
      "  MarkupResemblesLocatorWarning\n"
     ]
    }
   ],
   "source": [
    "import re\n",
    "from bs4 import BeautifulSoup\n",
    "import contractions\n",
    "import nltk\n",
    "nltk.download('punkt')\n",
    "\n",
    "\n",
    "# Define a function for text preprocessing\n",
    "def preprocess_text(text):\n",
    "    # Convert text to lowercase\n",
    "    text = text.lower()\n",
    "    \n",
    "    # Remove extra whitespaces\n",
    "    text = re.sub(r'\\s+', ' ', text)\n",
    "    \n",
    "    # Remove HTML tags using BeautifulSoup\n",
    "    soup = BeautifulSoup(text, 'html.parser')\n",
    "    text = soup.get_text()\n",
    "    \n",
    "    # Remove URLs\n",
    "    text = re.sub(r'http\\S+', '', text)\n",
    "    \n",
    "    # Replace abbreviations with their full form using contractions package\n",
    "    text = contractions.fix(text)\n",
    "    \n",
    "    # Remove punctuation\n",
    "    text = re.sub(r'[^\\w\\s]', '', text)\n",
    "    \n",
    "    # Replace chat words with their full form\n",
    "    chat_words_map = {\n",
    "        \"afaik\": \"as far as i know\",\n",
    "        \"b4\": \"before\",\n",
    "        \"b/c\": \"because\",\n",
    "        \"btw\": \"by the way\",\n",
    "        \"cya\": \"see you\",\n",
    "        \"lol\": \"laugh out loud\",\n",
    "        \"np\": \"no problem\",\n",
    "        \"omg\": \"oh my god\",\n",
    "        \"thx\": \"thanks\",\n",
    "        \"ttyl\": \"talk to you later\",\n",
    "        \"wtf\": \"what the fuck\",\n",
    "        \"yolo\": \"you only live once\",\n",
    "        \"brb\": \"be right back\",\n",
    "        \"rofl\": \"rolling on the floor laughing\",\n",
    "        \"gtg\": \"got to go\",\n",
    "        \"ex\":\"previous girlfriend\",\n",
    "        \"idk\": \"i do not know\",\n",
    "        \"imo\": \"in my opinion\"\n",
    "    }\n",
    "    \n",
    "    words = text.split()\n",
    "    new_words = []\n",
    "    for word in words:\n",
    "        if word.lower() in chat_words_map:\n",
    "            new_words.append(chat_words_map[word.lower()])\n",
    "        else:\n",
    "            new_words.append(word)\n",
    "    text = \" \".join(new_words)\n",
    "    \n",
    "    return text\n",
    "\n",
    "# Apply the function to the text in the dataframe\n",
    "df_train['text'] = df_train['text'].apply(preprocess_text)\n",
    "df_val['text'] = df_val['text'].apply(preprocess_text)"
   ]
  },
  {
   "cell_type": "code",
   "execution_count": 19,
   "id": "895eb817",
   "metadata": {
    "execution": {
     "iopub.execute_input": "2023-04-19T06:11:27.726881Z",
     "iopub.status.busy": "2023-04-19T06:11:27.725996Z",
     "iopub.status.idle": "2023-04-19T06:11:27.739037Z",
     "shell.execute_reply": "2023-04-19T06:11:27.737738Z"
    },
    "papermill": {
     "duration": 0.033363,
     "end_time": "2023-04-19T06:11:27.741613",
     "exception": false,
     "start_time": "2023-04-19T06:11:27.708250",
     "status": "completed"
    },
    "tags": []
   },
   "outputs": [
    {
     "data": {
      "text/plain": [
       "'do not be afraid to love again everyone is not like your previous girlfriend'"
      ]
     },
     "execution_count": 19,
     "metadata": {},
     "output_type": "execute_result"
    }
   ],
   "source": [
    "df_train.iloc[1]['text']"
   ]
  },
  {
   "cell_type": "markdown",
   "id": "16520d8f",
   "metadata": {
    "papermill": {
     "duration": 0.01642,
     "end_time": "2023-04-19T06:11:27.774798",
     "exception": false,
     "start_time": "2023-04-19T06:11:27.758378",
     "status": "completed"
    },
    "tags": []
   },
   "source": [
    "### Handling emoji "
   ]
  },
  {
   "cell_type": "code",
   "execution_count": 20,
   "id": "6788cd7c",
   "metadata": {
    "execution": {
     "iopub.execute_input": "2023-04-19T06:11:27.810431Z",
     "iopub.status.busy": "2023-04-19T06:11:27.809570Z",
     "iopub.status.idle": "2023-04-19T06:11:28.030645Z",
     "shell.execute_reply": "2023-04-19T06:11:28.029204Z"
    },
    "papermill": {
     "duration": 0.242374,
     "end_time": "2023-04-19T06:11:28.033761",
     "exception": false,
     "start_time": "2023-04-19T06:11:27.791387",
     "status": "completed"
    },
    "tags": []
   },
   "outputs": [],
   "source": [
    "import emoji\n",
    "\n",
    "def convert_emoji_to_text(text):\n",
    "    # Replace emojis with their textual representation\n",
    "    text = emoji.demojize(text, delimiters=(\" \", \" \"))\n",
    "    \n",
    "    # Remove the colons that separate emoji codepoints\n",
    "    text = text.replace(\":\", \"\")\n",
    "    text = text.replace(\"_\", \" \")\n",
    "    \n",
    "    return text\n",
    "\n",
    "\n",
    "df_train['text'] = df_train['text'].apply(convert_emoji_to_text)\n",
    "df_val['text'] = df_val['text'].apply(convert_emoji_to_text)"
   ]
  },
  {
   "cell_type": "code",
   "execution_count": 21,
   "id": "d1bb77d4",
   "metadata": {
    "execution": {
     "iopub.execute_input": "2023-04-19T06:11:28.069639Z",
     "iopub.status.busy": "2023-04-19T06:11:28.069211Z",
     "iopub.status.idle": "2023-04-19T06:11:28.075056Z",
     "shell.execute_reply": "2023-04-19T06:11:28.073834Z"
    },
    "papermill": {
     "duration": 0.026224,
     "end_time": "2023-04-19T06:11:28.077419",
     "exception": false,
     "start_time": "2023-04-19T06:11:28.051195",
     "status": "completed"
    },
    "tags": []
   },
   "outputs": [
    {
     "name": "stdout",
     "output_type": "stream",
     "text": [
      "I'm feeling  smiling face with smiling eyes  today!\n"
     ]
    }
   ],
   "source": [
    "text_with_emoji = \"I'm feeling 😊 today!\"\n",
    "text_without_emoji = convert_emoji_to_text(text_with_emoji)\n",
    "print(text_without_emoji)\n"
   ]
  },
  {
   "cell_type": "code",
   "execution_count": 22,
   "id": "3ca735bd",
   "metadata": {
    "execution": {
     "iopub.execute_input": "2023-04-19T06:11:28.112802Z",
     "iopub.status.busy": "2023-04-19T06:11:28.111752Z",
     "iopub.status.idle": "2023-04-19T06:11:28.119967Z",
     "shell.execute_reply": "2023-04-19T06:11:28.118758Z"
    },
    "papermill": {
     "duration": 0.028469,
     "end_time": "2023-04-19T06:11:28.122398",
     "exception": false,
     "start_time": "2023-04-19T06:11:28.093929",
     "status": "completed"
    },
    "tags": []
   },
   "outputs": [
    {
     "data": {
      "text/plain": [
       "'putting bows on your pet'"
      ]
     },
     "execution_count": 22,
     "metadata": {},
     "output_type": "execute_result"
    }
   ],
   "source": [
    "df_train.iloc[2]['text']"
   ]
  },
  {
   "cell_type": "markdown",
   "id": "27368901",
   "metadata": {
    "papermill": {
     "duration": 0.017267,
     "end_time": "2023-04-19T06:11:28.157827",
     "exception": false,
     "start_time": "2023-04-19T06:11:28.140560",
     "status": "completed"
    },
    "tags": []
   },
   "source": [
    "### Lemmatization"
   ]
  },
  {
   "cell_type": "code",
   "execution_count": 23,
   "id": "2b58ee67",
   "metadata": {
    "execution": {
     "iopub.execute_input": "2023-04-19T06:11:28.193685Z",
     "iopub.status.busy": "2023-04-19T06:11:28.192778Z",
     "iopub.status.idle": "2023-04-19T06:12:37.751355Z",
     "shell.execute_reply": "2023-04-19T06:12:37.750046Z"
    },
    "papermill": {
     "duration": 69.580093,
     "end_time": "2023-04-19T06:12:37.754515",
     "exception": false,
     "start_time": "2023-04-19T06:11:28.174422",
     "status": "completed"
    },
    "tags": []
   },
   "outputs": [],
   "source": [
    "import spacy\n",
    "\n",
    "# Load the English language model\n",
    "nlp = spacy.load('en_core_web_sm')\n",
    "\n",
    "# Define a function to lemmatize text using spaCy\n",
    "def lemmatize_text(text):\n",
    "    doc = nlp(text)\n",
    "    lemmatized_words = [token.lemma_ for token in doc]\n",
    "    return ' '.join(lemmatized_words)\n",
    "    \n",
    "# Apply the lemmatization function to the 'text' column of the dataframe\n",
    "df_train['text'] = df_train['text'].apply(lemmatize_text)\n",
    "df_val['text'] = df_val['text'].apply(lemmatize_text)\n",
    "\n"
   ]
  },
  {
   "cell_type": "markdown",
   "id": "65b230a9",
   "metadata": {
    "papermill": {
     "duration": 0.016408,
     "end_time": "2023-04-19T06:12:37.787883",
     "exception": false,
     "start_time": "2023-04-19T06:12:37.771475",
     "status": "completed"
    },
    "tags": []
   },
   "source": [
    "### Tokenization"
   ]
  },
  {
   "cell_type": "code",
   "execution_count": 24,
   "id": "b883c3d4",
   "metadata": {
    "execution": {
     "iopub.execute_input": "2023-04-19T06:12:37.823040Z",
     "iopub.status.busy": "2023-04-19T06:12:37.822316Z",
     "iopub.status.idle": "2023-04-19T06:12:38.852311Z",
     "shell.execute_reply": "2023-04-19T06:12:38.850996Z"
    },
    "papermill": {
     "duration": 1.050896,
     "end_time": "2023-04-19T06:12:38.855172",
     "exception": false,
     "start_time": "2023-04-19T06:12:37.804276",
     "status": "completed"
    },
    "tags": []
   },
   "outputs": [],
   "source": [
    "from nltk.tokenize import word_tokenize\n",
    "\n",
    "df_train['tokenized_text'] = df_train['text'].apply(word_tokenize)\n",
    "df_val['tokenized_text'] = df_val['text'].apply(word_tokenize)"
   ]
  },
  {
   "cell_type": "code",
   "execution_count": 25,
   "id": "0917f4ec",
   "metadata": {
    "execution": {
     "iopub.execute_input": "2023-04-19T06:12:38.889873Z",
     "iopub.status.busy": "2023-04-19T06:12:38.889430Z",
     "iopub.status.idle": "2023-04-19T06:12:38.912843Z",
     "shell.execute_reply": "2023-04-19T06:12:38.911710Z"
    },
    "papermill": {
     "duration": 0.043723,
     "end_time": "2023-04-19T06:12:38.915424",
     "exception": false,
     "start_time": "2023-04-19T06:12:38.871701",
     "status": "completed"
    },
    "tags": []
   },
   "outputs": [
    {
     "data": {
      "text/html": [
       "<div>\n",
       "<style scoped>\n",
       "    .dataframe tbody tr th:only-of-type {\n",
       "        vertical-align: middle;\n",
       "    }\n",
       "\n",
       "    .dataframe tbody tr th {\n",
       "        vertical-align: top;\n",
       "    }\n",
       "\n",
       "    .dataframe thead th {\n",
       "        text-align: right;\n",
       "    }\n",
       "</style>\n",
       "<table border=\"1\" class=\"dataframe\">\n",
       "  <thead>\n",
       "    <tr style=\"text-align: right;\">\n",
       "      <th></th>\n",
       "      <th>id</th>\n",
       "      <th>img</th>\n",
       "      <th>label</th>\n",
       "      <th>text</th>\n",
       "      <th>tokenized_text</th>\n",
       "    </tr>\n",
       "  </thead>\n",
       "  <tbody>\n",
       "    <tr>\n",
       "      <th>0</th>\n",
       "      <td>42953</td>\n",
       "      <td>img/42953.png</td>\n",
       "      <td>0</td>\n",
       "      <td>its their character not their color that matter</td>\n",
       "      <td>[its, their, character, not, their, color, tha...</td>\n",
       "    </tr>\n",
       "    <tr>\n",
       "      <th>1</th>\n",
       "      <td>23058</td>\n",
       "      <td>img/23058.png</td>\n",
       "      <td>0</td>\n",
       "      <td>do not be afraid to love again everyone be not...</td>\n",
       "      <td>[do, not, be, afraid, to, love, again, everyon...</td>\n",
       "    </tr>\n",
       "    <tr>\n",
       "      <th>2</th>\n",
       "      <td>13894</td>\n",
       "      <td>img/13894.png</td>\n",
       "      <td>0</td>\n",
       "      <td>put bow on your pet</td>\n",
       "      <td>[put, bow, on, your, pet]</td>\n",
       "    </tr>\n",
       "    <tr>\n",
       "      <th>3</th>\n",
       "      <td>37408</td>\n",
       "      <td>img/37408.png</td>\n",
       "      <td>0</td>\n",
       "      <td>I love everything and everybody except for squ...</td>\n",
       "      <td>[I, love, everything, and, everybody, except, ...</td>\n",
       "    </tr>\n",
       "    <tr>\n",
       "      <th>4</th>\n",
       "      <td>82403</td>\n",
       "      <td>img/82403.png</td>\n",
       "      <td>0</td>\n",
       "      <td>everybody love chocolate chip cookie even hitler</td>\n",
       "      <td>[everybody, love, chocolate, chip, cookie, eve...</td>\n",
       "    </tr>\n",
       "    <tr>\n",
       "      <th>...</th>\n",
       "      <td>...</td>\n",
       "      <td>...</td>\n",
       "      <td>...</td>\n",
       "      <td>...</td>\n",
       "      <td>...</td>\n",
       "    </tr>\n",
       "    <tr>\n",
       "      <th>8495</th>\n",
       "      <td>10423</td>\n",
       "      <td>img/10423.png</td>\n",
       "      <td>1</td>\n",
       "      <td>nobody want to hang auschwitz I</td>\n",
       "      <td>[nobody, want, to, hang, auschwitz, I]</td>\n",
       "    </tr>\n",
       "    <tr>\n",
       "      <th>8496</th>\n",
       "      <td>98203</td>\n",
       "      <td>img/98203.png</td>\n",
       "      <td>1</td>\n",
       "      <td>when god grant you a child after 20 year of yo...</td>\n",
       "      <td>[when, god, grant, you, a, child, after, 20, y...</td>\n",
       "    </tr>\n",
       "    <tr>\n",
       "      <th>8497</th>\n",
       "      <td>36947</td>\n",
       "      <td>img/36947.png</td>\n",
       "      <td>1</td>\n",
       "      <td>gay on social medium equality body positivity ...</td>\n",
       "      <td>[gay, on, social, medium, equality, body, posi...</td>\n",
       "    </tr>\n",
       "    <tr>\n",
       "      <th>8498</th>\n",
       "      <td>16492</td>\n",
       "      <td>img/16492.png</td>\n",
       "      <td>1</td>\n",
       "      <td>have a bad day you could be a siamese twin att...</td>\n",
       "      <td>[have, a, bad, day, you, could, be, a, siamese...</td>\n",
       "    </tr>\n",
       "    <tr>\n",
       "      <th>8499</th>\n",
       "      <td>15937</td>\n",
       "      <td>img/15937.png</td>\n",
       "      <td>1</td>\n",
       "      <td>I hate muslim too they take their religion too...</td>\n",
       "      <td>[I, hate, muslim, too, they, take, their, reli...</td>\n",
       "    </tr>\n",
       "  </tbody>\n",
       "</table>\n",
       "<p>8500 rows × 5 columns</p>\n",
       "</div>"
      ],
      "text/plain": [
       "         id            img  label  \\\n",
       "0     42953  img/42953.png      0   \n",
       "1     23058  img/23058.png      0   \n",
       "2     13894  img/13894.png      0   \n",
       "3     37408  img/37408.png      0   \n",
       "4     82403  img/82403.png      0   \n",
       "...     ...            ...    ...   \n",
       "8495  10423  img/10423.png      1   \n",
       "8496  98203  img/98203.png      1   \n",
       "8497  36947  img/36947.png      1   \n",
       "8498  16492  img/16492.png      1   \n",
       "8499  15937  img/15937.png      1   \n",
       "\n",
       "                                                   text  \\\n",
       "0       its their character not their color that matter   \n",
       "1     do not be afraid to love again everyone be not...   \n",
       "2                                   put bow on your pet   \n",
       "3     I love everything and everybody except for squ...   \n",
       "4      everybody love chocolate chip cookie even hitler   \n",
       "...                                                 ...   \n",
       "8495                    nobody want to hang auschwitz I   \n",
       "8496  when god grant you a child after 20 year of yo...   \n",
       "8497  gay on social medium equality body positivity ...   \n",
       "8498  have a bad day you could be a siamese twin att...   \n",
       "8499  I hate muslim too they take their religion too...   \n",
       "\n",
       "                                         tokenized_text  \n",
       "0     [its, their, character, not, their, color, tha...  \n",
       "1     [do, not, be, afraid, to, love, again, everyon...  \n",
       "2                             [put, bow, on, your, pet]  \n",
       "3     [I, love, everything, and, everybody, except, ...  \n",
       "4     [everybody, love, chocolate, chip, cookie, eve...  \n",
       "...                                                 ...  \n",
       "8495             [nobody, want, to, hang, auschwitz, I]  \n",
       "8496  [when, god, grant, you, a, child, after, 20, y...  \n",
       "8497  [gay, on, social, medium, equality, body, posi...  \n",
       "8498  [have, a, bad, day, you, could, be, a, siamese...  \n",
       "8499  [I, hate, muslim, too, they, take, their, reli...  \n",
       "\n",
       "[8500 rows x 5 columns]"
      ]
     },
     "execution_count": 25,
     "metadata": {},
     "output_type": "execute_result"
    }
   ],
   "source": [
    "df_train"
   ]
  },
  {
   "cell_type": "code",
   "execution_count": 26,
   "id": "87b07447",
   "metadata": {
    "execution": {
     "iopub.execute_input": "2023-04-19T06:12:38.950973Z",
     "iopub.status.busy": "2023-04-19T06:12:38.950531Z",
     "iopub.status.idle": "2023-04-19T06:12:38.959542Z",
     "shell.execute_reply": "2023-04-19T06:12:38.958312Z"
    },
    "papermill": {
     "duration": 0.0297,
     "end_time": "2023-04-19T06:12:38.962065",
     "exception": false,
     "start_time": "2023-04-19T06:12:38.932365",
     "status": "completed"
    },
    "tags": []
   },
   "outputs": [
    {
     "data": {
      "text/plain": [
       "0    5450\n",
       "1    3050\n",
       "Name: label, dtype: int64"
      ]
     },
     "execution_count": 26,
     "metadata": {},
     "output_type": "execute_result"
    }
   ],
   "source": [
    "df_train['label'].value_counts()"
   ]
  },
  {
   "cell_type": "markdown",
   "id": "2b663983",
   "metadata": {
    "papermill": {
     "duration": 0.01667,
     "end_time": "2023-04-19T06:12:38.996049",
     "exception": false,
     "start_time": "2023-04-19T06:12:38.979379",
     "status": "completed"
    },
    "tags": []
   },
   "source": [
    "# Vectorization"
   ]
  },
  {
   "cell_type": "markdown",
   "id": "a942ddf1",
   "metadata": {
    "papermill": {
     "duration": 0.016629,
     "end_time": "2023-04-19T06:12:39.029622",
     "exception": false,
     "start_time": "2023-04-19T06:12:39.012993",
     "status": "completed"
    },
    "tags": []
   },
   "source": [
    "## Using tf-idf "
   ]
  },
  {
   "cell_type": "code",
   "execution_count": 27,
   "id": "fc8e588c",
   "metadata": {
    "execution": {
     "iopub.execute_input": "2023-04-19T06:12:39.066396Z",
     "iopub.status.busy": "2023-04-19T06:12:39.065941Z",
     "iopub.status.idle": "2023-04-19T06:12:39.319735Z",
     "shell.execute_reply": "2023-04-19T06:12:39.318490Z"
    },
    "papermill": {
     "duration": 0.275614,
     "end_time": "2023-04-19T06:12:39.322646",
     "exception": false,
     "start_time": "2023-04-19T06:12:39.047032",
     "status": "completed"
    },
    "tags": []
   },
   "outputs": [],
   "source": [
    "from sklearn.feature_extraction.text import TfidfVectorizer\n",
    "\n",
    "# Create a TfidfVectorizer object\n",
    "vectorizer = TfidfVectorizer()\n",
    "\n",
    "# Fit the vectorizer to the training data\n",
    "vectorizer.fit(df_train['text'])\n",
    "\n",
    "# Transform the training data into a sparse matrix of TF-IDF weights\n",
    "X_train_tfidf = vectorizer.transform(df_train['text'])\n",
    "X_val_tfidf = vectorizer.transform(df_val['text'])"
   ]
  },
  {
   "cell_type": "code",
   "execution_count": 28,
   "id": "968fa5f6",
   "metadata": {
    "execution": {
     "iopub.execute_input": "2023-04-19T06:12:39.358917Z",
     "iopub.status.busy": "2023-04-19T06:12:39.358483Z",
     "iopub.status.idle": "2023-04-19T06:12:39.367112Z",
     "shell.execute_reply": "2023-04-19T06:12:39.365888Z"
    },
    "papermill": {
     "duration": 0.030233,
     "end_time": "2023-04-19T06:12:39.369931",
     "exception": false,
     "start_time": "2023-04-19T06:12:39.339698",
     "status": "completed"
    },
    "tags": []
   },
   "outputs": [],
   "source": [
    "df_train_tfidf = df_train.copy()\n",
    "df_val_tfidf = df_val.copy()"
   ]
  },
  {
   "cell_type": "code",
   "execution_count": 29,
   "id": "4a57f9ba",
   "metadata": {
    "execution": {
     "iopub.execute_input": "2023-04-19T06:12:39.406219Z",
     "iopub.status.busy": "2023-04-19T06:12:39.405483Z",
     "iopub.status.idle": "2023-04-19T06:12:39.834074Z",
     "shell.execute_reply": "2023-04-19T06:12:39.832908Z"
    },
    "papermill": {
     "duration": 0.450137,
     "end_time": "2023-04-19T06:12:39.837000",
     "exception": false,
     "start_time": "2023-04-19T06:12:39.386863",
     "status": "completed"
    },
    "tags": []
   },
   "outputs": [],
   "source": [
    "# Add the TF-IDF sparse matrix as a new column in df_train\n",
    "df_train_tfidf['tf_idf_matrix'] = list(X_train_tfidf)\n",
    "df_val_tfidf['tf_idf_matrix'] = list(X_val_tfidf)"
   ]
  },
  {
   "cell_type": "code",
   "execution_count": 30,
   "id": "ecd6b7c0",
   "metadata": {
    "execution": {
     "iopub.execute_input": "2023-04-19T06:12:39.872953Z",
     "iopub.status.busy": "2023-04-19T06:12:39.872246Z",
     "iopub.status.idle": "2023-04-19T06:12:39.876860Z",
     "shell.execute_reply": "2023-04-19T06:12:39.876010Z"
    },
    "papermill": {
     "duration": 0.025297,
     "end_time": "2023-04-19T06:12:39.879146",
     "exception": false,
     "start_time": "2023-04-19T06:12:39.853849",
     "status": "completed"
    },
    "tags": []
   },
   "outputs": [],
   "source": [
    "# temp_train = pd.DataFrame.sparse.from_spmatrix(X_train_tfidf)\n",
    "# temp_val = pd.DataFrame.sparse.from_spmatrix(X_val_tfidf)"
   ]
  },
  {
   "cell_type": "code",
   "execution_count": 31,
   "id": "70a11997",
   "metadata": {
    "execution": {
     "iopub.execute_input": "2023-04-19T06:12:39.914854Z",
     "iopub.status.busy": "2023-04-19T06:12:39.914381Z",
     "iopub.status.idle": "2023-04-19T06:12:39.919036Z",
     "shell.execute_reply": "2023-04-19T06:12:39.917904Z"
    },
    "papermill": {
     "duration": 0.025275,
     "end_time": "2023-04-19T06:12:39.921435",
     "exception": false,
     "start_time": "2023-04-19T06:12:39.896160",
     "status": "completed"
    },
    "tags": []
   },
   "outputs": [],
   "source": [
    "# df_train_tfidf = pd.concat([df_train_tfidf, temp_train], axis =1)\n",
    "# df_val_tfidf = pd.concat([df_val_tfidf, temp_val], axis =1)"
   ]
  },
  {
   "cell_type": "code",
   "execution_count": 32,
   "id": "d48d973f",
   "metadata": {
    "execution": {
     "iopub.execute_input": "2023-04-19T06:12:39.957768Z",
     "iopub.status.busy": "2023-04-19T06:12:39.957111Z",
     "iopub.status.idle": "2023-04-19T06:12:39.962916Z",
     "shell.execute_reply": "2023-04-19T06:12:39.961881Z"
    },
    "papermill": {
     "duration": 0.02671,
     "end_time": "2023-04-19T06:12:39.965199",
     "exception": false,
     "start_time": "2023-04-19T06:12:39.938489",
     "status": "completed"
    },
    "tags": []
   },
   "outputs": [
    {
     "data": {
      "text/plain": [
       "(8500, 6)"
      ]
     },
     "execution_count": 32,
     "metadata": {},
     "output_type": "execute_result"
    }
   ],
   "source": [
    "df_train_tfidf.shape"
   ]
  },
  {
   "cell_type": "code",
   "execution_count": 33,
   "id": "0c9681af",
   "metadata": {
    "execution": {
     "iopub.execute_input": "2023-04-19T06:12:40.001503Z",
     "iopub.status.busy": "2023-04-19T06:12:40.000873Z",
     "iopub.status.idle": "2023-04-19T06:12:40.927371Z",
     "shell.execute_reply": "2023-04-19T06:12:40.926054Z"
    },
    "papermill": {
     "duration": 0.948123,
     "end_time": "2023-04-19T06:12:40.930448",
     "exception": false,
     "start_time": "2023-04-19T06:12:39.982325",
     "status": "completed"
    },
    "tags": []
   },
   "outputs": [],
   "source": [
    "df_train_tfidf.to_csv(\"Train-Text-TFIDF-Embeddings.csv\", index = False)\n",
    "df_val_tfidf.to_csv(\"Val-Text-TFIDF-Embeddings.csv\", index = False)"
   ]
  },
  {
   "cell_type": "code",
   "execution_count": 34,
   "id": "ee5c58d6",
   "metadata": {
    "execution": {
     "iopub.execute_input": "2023-04-19T06:12:40.970896Z",
     "iopub.status.busy": "2023-04-19T06:12:40.970449Z",
     "iopub.status.idle": "2023-04-19T06:12:40.978206Z",
     "shell.execute_reply": "2023-04-19T06:12:40.977096Z"
    },
    "papermill": {
     "duration": 0.030586,
     "end_time": "2023-04-19T06:12:40.980426",
     "exception": false,
     "start_time": "2023-04-19T06:12:40.949840",
     "status": "completed"
    },
    "tags": []
   },
   "outputs": [
    {
     "data": {
      "text/plain": [
       "<1x7301 sparse matrix of type '<class 'numpy.float64'>'\n",
       "\twith 5 stored elements in Compressed Sparse Row format>"
      ]
     },
     "execution_count": 34,
     "metadata": {},
     "output_type": "execute_result"
    }
   ],
   "source": [
    "df_train_tfidf.iloc[2]['tf_idf_matrix']"
   ]
  },
  {
   "cell_type": "code",
   "execution_count": 35,
   "id": "c3d02add",
   "metadata": {
    "execution": {
     "iopub.execute_input": "2023-04-19T06:12:41.018088Z",
     "iopub.status.busy": "2023-04-19T06:12:41.016927Z",
     "iopub.status.idle": "2023-04-19T06:12:41.033645Z",
     "shell.execute_reply": "2023-04-19T06:12:41.032310Z"
    },
    "papermill": {
     "duration": 0.038414,
     "end_time": "2023-04-19T06:12:41.036009",
     "exception": false,
     "start_time": "2023-04-19T06:12:40.997595",
     "status": "completed"
    },
    "tags": []
   },
   "outputs": [
    {
     "data": {
      "text/html": [
       "<div>\n",
       "<style scoped>\n",
       "    .dataframe tbody tr th:only-of-type {\n",
       "        vertical-align: middle;\n",
       "    }\n",
       "\n",
       "    .dataframe tbody tr th {\n",
       "        vertical-align: top;\n",
       "    }\n",
       "\n",
       "    .dataframe thead th {\n",
       "        text-align: right;\n",
       "    }\n",
       "</style>\n",
       "<table border=\"1\" class=\"dataframe\">\n",
       "  <thead>\n",
       "    <tr style=\"text-align: right;\">\n",
       "      <th></th>\n",
       "      <th>id</th>\n",
       "      <th>img</th>\n",
       "      <th>label</th>\n",
       "      <th>text</th>\n",
       "      <th>tokenized_text</th>\n",
       "      <th>tf_idf_matrix</th>\n",
       "    </tr>\n",
       "  </thead>\n",
       "  <tbody>\n",
       "    <tr>\n",
       "      <th>0</th>\n",
       "      <td>42953</td>\n",
       "      <td>img/42953.png</td>\n",
       "      <td>0</td>\n",
       "      <td>its their character not their color that matter</td>\n",
       "      <td>[its, their, character, not, their, color, tha...</td>\n",
       "      <td>(0, 6508)\\t0.5497218895360637\\n  (0, 6502)\\t...</td>\n",
       "    </tr>\n",
       "    <tr>\n",
       "      <th>1</th>\n",
       "      <td>23058</td>\n",
       "      <td>img/23058.png</td>\n",
       "      <td>0</td>\n",
       "      <td>do not be afraid to love again everyone be not...</td>\n",
       "      <td>[do, not, be, afraid, to, love, again, everyon...</td>\n",
       "      <td>(0, 7270)\\t0.17498909697601167\\n  (0, 6600)\\...</td>\n",
       "    </tr>\n",
       "    <tr>\n",
       "      <th>2</th>\n",
       "      <td>13894</td>\n",
       "      <td>img/13894.png</td>\n",
       "      <td>0</td>\n",
       "      <td>put bow on your pet</td>\n",
       "      <td>[put, bow, on, your, pet]</td>\n",
       "      <td>(0, 7270)\\t0.2419409721304303\\n  (0, 5275)\\t...</td>\n",
       "    </tr>\n",
       "    <tr>\n",
       "      <th>3</th>\n",
       "      <td>37408</td>\n",
       "      <td>img/37408.png</td>\n",
       "      <td>0</td>\n",
       "      <td>I love everything and everybody except for squ...</td>\n",
       "      <td>[I, love, everything, and, everybody, except, ...</td>\n",
       "      <td>(0, 6180)\\t0.7526460821524202\\n  (0, 3950)\\t...</td>\n",
       "    </tr>\n",
       "    <tr>\n",
       "      <th>4</th>\n",
       "      <td>82403</td>\n",
       "      <td>img/82403.png</td>\n",
       "      <td>0</td>\n",
       "      <td>everybody love chocolate chip cookie even hitler</td>\n",
       "      <td>[everybody, love, chocolate, chip, cookie, eve...</td>\n",
       "      <td>(0, 3950)\\t0.27431318695484563\\n  (0, 3167)\\...</td>\n",
       "    </tr>\n",
       "  </tbody>\n",
       "</table>\n",
       "</div>"
      ],
      "text/plain": [
       "      id            img  label  \\\n",
       "0  42953  img/42953.png      0   \n",
       "1  23058  img/23058.png      0   \n",
       "2  13894  img/13894.png      0   \n",
       "3  37408  img/37408.png      0   \n",
       "4  82403  img/82403.png      0   \n",
       "\n",
       "                                                text  \\\n",
       "0    its their character not their color that matter   \n",
       "1  do not be afraid to love again everyone be not...   \n",
       "2                                put bow on your pet   \n",
       "3  I love everything and everybody except for squ...   \n",
       "4   everybody love chocolate chip cookie even hitler   \n",
       "\n",
       "                                      tokenized_text  \\\n",
       "0  [its, their, character, not, their, color, tha...   \n",
       "1  [do, not, be, afraid, to, love, again, everyon...   \n",
       "2                          [put, bow, on, your, pet]   \n",
       "3  [I, love, everything, and, everybody, except, ...   \n",
       "4  [everybody, love, chocolate, chip, cookie, eve...   \n",
       "\n",
       "                                       tf_idf_matrix  \n",
       "0    (0, 6508)\\t0.5497218895360637\\n  (0, 6502)\\t...  \n",
       "1    (0, 7270)\\t0.17498909697601167\\n  (0, 6600)\\...  \n",
       "2    (0, 7270)\\t0.2419409721304303\\n  (0, 5275)\\t...  \n",
       "3    (0, 6180)\\t0.7526460821524202\\n  (0, 3950)\\t...  \n",
       "4    (0, 3950)\\t0.27431318695484563\\n  (0, 3167)\\...  "
      ]
     },
     "execution_count": 35,
     "metadata": {},
     "output_type": "execute_result"
    }
   ],
   "source": [
    "df_train_tfidf.head()"
   ]
  },
  {
   "cell_type": "markdown",
   "id": "80198ea5",
   "metadata": {
    "papermill": {
     "duration": 0.01721,
     "end_time": "2023-04-19T06:12:41.070624",
     "exception": false,
     "start_time": "2023-04-19T06:12:41.053414",
     "status": "completed"
    },
    "tags": []
   },
   "source": [
    "## Using fasttext"
   ]
  },
  {
   "cell_type": "code",
   "execution_count": 36,
   "id": "ecc5176b",
   "metadata": {
    "execution": {
     "iopub.execute_input": "2023-04-19T06:12:41.108079Z",
     "iopub.status.busy": "2023-04-19T06:12:41.107328Z",
     "iopub.status.idle": "2023-04-19T06:12:41.114516Z",
     "shell.execute_reply": "2023-04-19T06:12:41.113684Z"
    },
    "papermill": {
     "duration": 0.028796,
     "end_time": "2023-04-19T06:12:41.116906",
     "exception": false,
     "start_time": "2023-04-19T06:12:41.088110",
     "status": "completed"
    },
    "tags": []
   },
   "outputs": [],
   "source": [
    "df_train_fasttext = df_train.copy()\n",
    "df_val_fasttext = df_val.copy()"
   ]
  },
  {
   "cell_type": "code",
   "execution_count": 37,
   "id": "df850ec0",
   "metadata": {
    "execution": {
     "iopub.execute_input": "2023-04-19T06:12:41.153748Z",
     "iopub.status.busy": "2023-04-19T06:12:41.153058Z",
     "iopub.status.idle": "2023-04-19T06:12:44.697100Z",
     "shell.execute_reply": "2023-04-19T06:12:44.696014Z"
    },
    "papermill": {
     "duration": 3.565732,
     "end_time": "2023-04-19T06:12:44.699907",
     "exception": false,
     "start_time": "2023-04-19T06:12:41.134175",
     "status": "completed"
    },
    "tags": []
   },
   "outputs": [],
   "source": [
    "from gensim.models.fasttext import FastText\n",
    "\n",
    "# train a FastText model on the tokenized text\n",
    "ft_model = FastText(sentences=df_train['tokenized_text'], vector_size=100, window=5, min_count=5, workers=4)\n",
    "\n",
    "# create a function to convert a list of tokens to a single vector using the trained FastText model\n",
    "def text_to_vector(tokens):\n",
    "    # create an empty array to store the vectors for each token\n",
    "    token_vectors = np.empty((len(tokens), ft_model.vector_size))\n",
    "    \n",
    "    # iterate through each token and get its vector\n",
    "    for i, token in enumerate(tokens):\n",
    "        token_vectors[i] = ft_model.wv[token]\n",
    "    \n",
    "    # take the mean of all token vectors to get a single vector representing the text\n",
    "    text_vector = token_vectors.mean(axis=0)\n",
    "    \n",
    "    return text_vector\n",
    "\n",
    "# apply the text_to_vector function to the tokenized_text column to create a new column with text vectors\n",
    "df_train_fasttext['fasttext_vectors'] = df_train['tokenized_text'].apply(text_to_vector)\n",
    "df_val_fasttext['fasttext_vectors'] = df_val['tokenized_text'].apply(text_to_vector)\n",
    "\n"
   ]
  },
  {
   "cell_type": "code",
   "execution_count": 38,
   "id": "3a762318",
   "metadata": {
    "execution": {
     "iopub.execute_input": "2023-04-19T06:12:44.738212Z",
     "iopub.status.busy": "2023-04-19T06:12:44.737148Z",
     "iopub.status.idle": "2023-04-19T06:12:52.399106Z",
     "shell.execute_reply": "2023-04-19T06:12:52.397921Z"
    },
    "papermill": {
     "duration": 7.684047,
     "end_time": "2023-04-19T06:12:52.401971",
     "exception": false,
     "start_time": "2023-04-19T06:12:44.717924",
     "status": "completed"
    },
    "tags": []
   },
   "outputs": [],
   "source": [
    "df_train_fasttext.to_csv(\"Train-Text-FastText-Embeddings.csv\", index = False)\n",
    "df_val_fasttext.to_csv(\"Val-Text-FastText-Embeddings.csv\", index = False)"
   ]
  },
  {
   "cell_type": "code",
   "execution_count": 39,
   "id": "27bdac33",
   "metadata": {
    "execution": {
     "iopub.execute_input": "2023-04-19T06:12:52.439378Z",
     "iopub.status.busy": "2023-04-19T06:12:52.438972Z",
     "iopub.status.idle": "2023-04-19T06:12:52.446842Z",
     "shell.execute_reply": "2023-04-19T06:12:52.445928Z"
    },
    "papermill": {
     "duration": 0.029578,
     "end_time": "2023-04-19T06:12:52.449358",
     "exception": false,
     "start_time": "2023-04-19T06:12:52.419780",
     "status": "completed"
    },
    "tags": []
   },
   "outputs": [
    {
     "data": {
      "text/plain": [
       "array([-0.08951545,  0.23368936, -0.34075743,  0.22202217,  0.17819223,\n",
       "        0.26109985, -0.16419289,  0.54323612, -0.20649421, -0.37268901,\n",
       "        0.31836779, -0.17700043,  0.02802842,  0.8436942 , -0.3403151 ,\n",
       "       -0.59534284, -0.04907646,  0.0294734 , -0.08781813, -0.56547868,\n",
       "       -0.40357053,  0.23566267, -0.29762257, -0.03998698, -0.34320195,\n",
       "       -0.20671918, -0.73847712,  0.20514099,  0.27082934,  0.57951486,\n",
       "       -0.31075139,  0.33445924,  0.6368479 , -0.13648455,  0.25300751,\n",
       "        0.51470069, -0.37222989,  0.08280796, -0.45068952, -0.38010076,\n",
       "        0.43231716, -0.60539572, -0.20042423, -0.36784196, -0.39544027,\n",
       "       -0.368977  , -0.114219  , -0.25610808, -0.04693046, -0.07999913,\n",
       "        0.2929501 , -0.14798237,  0.0382183 , -0.31185504, -0.04543571,\n",
       "        0.02798627, -0.17626919, -0.028771  , -0.16649066, -0.09516658,\n",
       "        0.2014171 , -0.48781596,  0.14802453,  0.86507431,  0.23627715,\n",
       "        0.61765724,  0.2103854 ,  0.03459786, -0.29677499,  0.27581513,\n",
       "       -0.23912363,  0.51580716,  0.10914768, -0.41374937,  0.64889659,\n",
       "        0.03715975,  0.35266582,  0.42266822, -0.07321546,  0.3277995 ,\n",
       "       -0.06512248, -0.41943013, -0.32449417,  0.37624047, -0.17840895,\n",
       "       -0.41913453,  0.4790391 , -0.05745928, -0.14881188,  0.15720203,\n",
       "       -0.11483349, -0.33100361,  0.05915666,  0.06038119, -0.46360242,\n",
       "        0.05095674,  0.11022743, -0.51098291,  0.32833436,  0.41969484])"
      ]
     },
     "execution_count": 39,
     "metadata": {},
     "output_type": "execute_result"
    }
   ],
   "source": [
    "df_train_fasttext.iloc[2]['fasttext_vectors']"
   ]
  },
  {
   "cell_type": "code",
   "execution_count": null,
   "id": "10b60846",
   "metadata": {
    "papermill": {
     "duration": 0.01721,
     "end_time": "2023-04-19T06:12:52.484049",
     "exception": false,
     "start_time": "2023-04-19T06:12:52.466839",
     "status": "completed"
    },
    "tags": []
   },
   "outputs": [],
   "source": []
  },
  {
   "cell_type": "code",
   "execution_count": null,
   "id": "6e074ef8",
   "metadata": {
    "papermill": {
     "duration": 0.017189,
     "end_time": "2023-04-19T06:12:52.518884",
     "exception": false,
     "start_time": "2023-04-19T06:12:52.501695",
     "status": "completed"
    },
    "tags": []
   },
   "outputs": [],
   "source": []
  },
  {
   "cell_type": "code",
   "execution_count": null,
   "id": "7250e629",
   "metadata": {
    "papermill": {
     "duration": 0.017001,
     "end_time": "2023-04-19T06:12:52.553696",
     "exception": false,
     "start_time": "2023-04-19T06:12:52.536695",
     "status": "completed"
    },
    "tags": []
   },
   "outputs": [],
   "source": []
  },
  {
   "cell_type": "code",
   "execution_count": null,
   "id": "3223fc70",
   "metadata": {
    "papermill": {
     "duration": 0.017566,
     "end_time": "2023-04-19T06:12:52.588816",
     "exception": false,
     "start_time": "2023-04-19T06:12:52.571250",
     "status": "completed"
    },
    "tags": []
   },
   "outputs": [],
   "source": []
  },
  {
   "cell_type": "code",
   "execution_count": null,
   "id": "7e7c852c",
   "metadata": {
    "papermill": {
     "duration": 0.017161,
     "end_time": "2023-04-19T06:12:52.623465",
     "exception": false,
     "start_time": "2023-04-19T06:12:52.606304",
     "status": "completed"
    },
    "tags": []
   },
   "outputs": [],
   "source": []
  },
  {
   "cell_type": "code",
   "execution_count": null,
   "id": "852195a2",
   "metadata": {
    "papermill": {
     "duration": 0.017146,
     "end_time": "2023-04-19T06:12:52.658647",
     "exception": false,
     "start_time": "2023-04-19T06:12:52.641501",
     "status": "completed"
    },
    "tags": []
   },
   "outputs": [],
   "source": []
  },
  {
   "cell_type": "code",
   "execution_count": null,
   "id": "d3422e50",
   "metadata": {
    "papermill": {
     "duration": 0.017202,
     "end_time": "2023-04-19T06:12:52.693447",
     "exception": false,
     "start_time": "2023-04-19T06:12:52.676245",
     "status": "completed"
    },
    "tags": []
   },
   "outputs": [],
   "source": []
  },
  {
   "cell_type": "code",
   "execution_count": null,
   "id": "ee5704bb",
   "metadata": {
    "papermill": {
     "duration": 0.017039,
     "end_time": "2023-04-19T06:12:52.727969",
     "exception": false,
     "start_time": "2023-04-19T06:12:52.710930",
     "status": "completed"
    },
    "tags": []
   },
   "outputs": [],
   "source": []
  }
 ],
 "metadata": {
  "kernelspec": {
   "display_name": "Python 3",
   "language": "python",
   "name": "python3"
  },
  "language_info": {
   "codemirror_mode": {
    "name": "ipython",
    "version": 3
   },
   "file_extension": ".py",
   "mimetype": "text/x-python",
   "name": "python",
   "nbconvert_exporter": "python",
   "pygments_lexer": "ipython3",
   "version": "3.7.12"
  },
  "papermill": {
   "default_parameters": {},
   "duration": 150.810804,
   "end_time": "2023-04-19T06:12:56.281620",
   "environment_variables": {},
   "exception": null,
   "input_path": "__notebook__.ipynb",
   "output_path": "__notebook__.ipynb",
   "parameters": {},
   "start_time": "2023-04-19T06:10:25.470816",
   "version": "2.4.0"
  }
 },
 "nbformat": 4,
 "nbformat_minor": 5
}
