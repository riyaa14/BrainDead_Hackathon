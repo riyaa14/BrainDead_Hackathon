{
  "nbformat": 4,
  "nbformat_minor": 0,
  "metadata": {
    "colab": {
      "provenance": [],
      "authorship_tag": "ABX9TyMrnNd912QYYnAonFlaVtAm",
      "include_colab_link": true
    },
    "kernelspec": {
      "name": "python3",
      "display_name": "Python 3"
    },
    "language_info": {
      "name": "python"
    }
  },
  "cells": [
    {
      "cell_type": "markdown",
      "metadata": {
        "id": "view-in-github",
        "colab_type": "text"
      },
      "source": [
        "<a href=\"https://colab.research.google.com/github/riyaa14/BrainDead_Hackathon/blob/main/BERT_Model.ipynb\" target=\"_parent\"><img src=\"https://colab.research.google.com/assets/colab-badge.svg\" alt=\"Open In Colab\"/></a>"
      ]
    },
    {
      "cell_type": "code",
      "execution_count": 8,
      "metadata": {
        "id": "pRQl0SuK4-Bk"
      },
      "outputs": [],
      "source": [
        "import pandas as pd\n",
        "import torch\n",
        "from transformers import BertTokenizer, BertForSequenceClassification\n",
        "from torch.utils.data import DataLoader, Dataset\n",
        "from sklearn.model_selection import train_test_split\n",
        "from sklearn.metrics import accuracy_score, classification_report, roc_auc_score\n",
        "import numpy as np\n",
        "\n",
        "\n",
        "FMS = pd.read_csv(\"/content/FHM_final.csv\")\n",
        "FMS = FMS.drop_duplicates()\n",
        "\n",
        "# Concatenate 'gen_caption' and 'text' columns into 'textNdesc' column\n",
        "FMS['textNdesc'] = 'In the picture ' + FMS.gen_caption + ' And the text says: ' + FMS.text\n",
        "\n",
        "\n",
        "train_data, test_data = train_test_split(FMS, test_size=0.2, random_state=42)\n",
        "train_data, val_data = train_test_split(train_data, test_size=0.1, random_state=42)"
      ]
    },
    {
      "cell_type": "code",
      "source": [
        "class CustomDataset(Dataset):\n",
        "    def __init__(self, texts, labels, tokenizer, max_len):\n",
        "        self.texts = texts\n",
        "        self.labels = labels\n",
        "        self.tokenizer = tokenizer\n",
        "        self.max_len = max_len\n",
        "\n",
        "    def __len__(self):\n",
        "        return len(self.texts)\n",
        "\n",
        "    def __getitem__(self, idx):\n",
        "        text = self.texts.iloc[idx]\n",
        "        label = self.labels.iloc[idx]\n",
        "        encoding = self.tokenizer.encode_plus(\n",
        "            text,\n",
        "            add_special_tokens=True,\n",
        "            max_length=self.max_len,\n",
        "            return_token_type_ids=False,\n",
        "            padding='max_length',\n",
        "            truncation=True,\n",
        "            return_attention_mask=True,\n",
        "            return_tensors='pt'\n",
        "        )\n",
        "        return {\n",
        "            'input_ids': encoding['input_ids'].flatten(),\n",
        "            'attention_mask': encoding['attention_mask'].flatten(),\n",
        "            'labels': torch.tensor(label, dtype=torch.long)\n",
        "        }"
      ],
      "metadata": {
        "id": "kHKfMAHgPZYG"
      },
      "execution_count": 13,
      "outputs": []
    },
    {
      "cell_type": "code",
      "source": [
        "# Parameters\n",
        "MAX_LEN = 128\n",
        "BATCH_SIZE = 16\n",
        "NUM_EPOCHS = 5  # Changed to 5 epochs\n",
        "LEARNING_RATE = 2e-5  # Fine-tune as needed\n",
        "\n",
        "\n",
        "tokenizer = BertTokenizer.from_pretrained('bert-base-uncased')\n",
        "model = BertForSequenceClassification.from_pretrained('bert-base-uncased', num_labels=2)  # Assuming binary classification\n",
        "\n",
        "train_dataset = CustomDataset(train_data['textNdesc'], train_data['label'], tokenizer, MAX_LEN)\n",
        "val_dataset = CustomDataset(val_data['textNdesc'], val_data['label'], tokenizer, MAX_LEN)\n",
        "test_dataset = CustomDataset(test_data['textNdesc'], test_data['label'], tokenizer, MAX_LEN)\n",
        "\n",
        "train_loader = DataLoader(train_dataset, batch_size=BATCH_SIZE, shuffle=True)\n",
        "val_loader = DataLoader(val_dataset, batch_size=BATCH_SIZE, shuffle=False)\n",
        "test_loader = DataLoader(test_dataset, batch_size=BATCH_SIZE, shuffle=False)\n",
        "\n",
        "\n",
        "device = torch.device('cuda' if torch.cuda.is_available() else 'cpu')\n",
        "model.to(device)\n",
        "optimizer = torch.optim.AdamW(model.parameters(), lr=LEARNING_RATE)\n",
        "\n",
        "best_val_accuracy = 0.0\n",
        "for epoch in range(NUM_EPOCHS):\n",
        "    # Training loop\n",
        "    model.train()\n",
        "    train_preds = []\n",
        "    train_true = []\n",
        "    for batch in train_loader:\n",
        "        input_ids = batch['input_ids'].to(device)\n",
        "        attention_mask = batch['attention_mask'].to(device)\n",
        "        labels = batch['labels'].to(device)\n",
        "\n",
        "        optimizer.zero_grad()\n",
        "        outputs = model(input_ids, attention_mask=attention_mask, labels=labels)\n",
        "        loss = outputs.loss\n",
        "        loss.backward()\n",
        "        optimizer.step()\n",
        "\n",
        "        train_true.extend(labels.cpu().numpy())\n",
        "        train_preds.extend(torch.argmax(outputs.logits, axis=1).cpu().numpy())\n",
        "\n",
        "\n",
        "    train_accuracy = accuracy_score(train_true, train_preds)\n",
        "    print(f'Epoch {epoch + 1}/{NUM_EPOCHS}, Train Accuracy: {train_accuracy:.4f}')\n",
        "\n",
        "\n",
        "    model.eval()\n",
        "    val_preds = []\n",
        "    val_true = []\n",
        "    for batch in val_loader:\n",
        "        input_ids = batch['input_ids'].to(device)\n",
        "        attention_mask = batch['attention_mask'].to(device)\n",
        "        labels = batch['labels'].numpy()\n",
        "\n",
        "        with torch.no_grad():\n",
        "            outputs = model(input_ids, attention_mask=attention_mask)\n",
        "            logits = outputs.logits\n",
        "\n",
        "        preds = np.argmax(logits.detach().cpu().numpy(), axis=1)\n",
        "        val_preds.extend(preds)\n",
        "        val_true.extend(labels)\n",
        "\n",
        "    val_accuracy = accuracy_score(val_true, val_preds)\n",
        "    print(f'Epoch {epoch + 1}/{NUM_EPOCHS}, Validation Accuracy: {val_accuracy}')\n",
        "\n",
        "    # Check if current model is the best\n",
        "    if val_accuracy > best_val_accuracy:\n",
        "        best_val_accuracy = val_accuracy\n",
        "        torch.save(model.state_dict(), 'best_model.pth')"
      ],
      "metadata": {
        "colab": {
          "base_uri": "https://localhost:8080/"
        },
        "id": "frCsOSMdPmjN",
        "outputId": "8ad59b1d-36e2-4bbe-a861-b8c7951b7b3c"
      },
      "execution_count": 15,
      "outputs": [
        {
          "output_type": "stream",
          "name": "stderr",
          "text": [
            "Some weights of BertForSequenceClassification were not initialized from the model checkpoint at bert-base-uncased and are newly initialized: ['classifier.bias', 'classifier.weight']\n",
            "You should probably TRAIN this model on a down-stream task to be able to use it for predictions and inference.\n"
          ]
        },
        {
          "output_type": "stream",
          "name": "stdout",
          "text": [
            "Epoch 1/5, Train Accuracy: 0.5128\n",
            "Epoch 1/5, Validation Accuracy: 0.4358974358974359\n",
            "Epoch 2/5, Train Accuracy: 0.5214\n",
            "Epoch 2/5, Validation Accuracy: 0.48717948717948717\n",
            "Epoch 3/5, Train Accuracy: 0.5926\n",
            "Epoch 3/5, Validation Accuracy: 0.4358974358974359\n",
            "Epoch 4/5, Train Accuracy: 0.5812\n",
            "Epoch 4/5, Validation Accuracy: 0.5897435897435898\n",
            "Epoch 5/5, Train Accuracy: 0.7322\n",
            "Epoch 5/5, Validation Accuracy: 0.48717948717948717\n"
          ]
        }
      ]
    },
    {
      "cell_type": "code",
      "source": [
        "# Load the best model and evaluate on test set\n",
        "model.load_state_dict(torch.load('best_model.pth'))\n",
        "model.eval()\n",
        "test_preds = []\n",
        "test_true = []\n",
        "test_probs = []  # Initializing test_probs list\n",
        "for batch in test_loader:\n",
        "    input_ids = batch['input_ids'].to(device)\n",
        "    attention_mask = batch['attention_mask'].to(device)\n",
        "    labels = batch['labels'].numpy()\n",
        "\n",
        "    with torch.no_grad():\n",
        "        outputs = model(input_ids, attention_mask=attention_mask)\n",
        "        logits = outputs.logits\n",
        "        probs = torch.softmax(logits, dim=1)\n",
        "\n",
        "    preds = np.argmax(logits.detach().cpu().numpy(), axis=1)\n",
        "    test_preds.extend(preds)\n",
        "    test_true.extend(labels)\n",
        "    test_probs.extend(probs.detach().cpu().numpy()[:, 1])"
      ],
      "metadata": {
        "id": "cKubEMuWPadF"
      },
      "execution_count": 18,
      "outputs": []
    },
    {
      "cell_type": "code",
      "source": [
        "roc_auc = roc_auc_score(test_true, test_preds)\n",
        "print(f'ROC-AUC Score: {roc_auc}')"
      ],
      "metadata": {
        "colab": {
          "base_uri": "https://localhost:8080/"
        },
        "id": "EcPzE5DiO-FI",
        "outputId": "d515b3b9-c8f9-4d4c-8932-06cecfa6974d"
      },
      "execution_count": 19,
      "outputs": [
        {
          "output_type": "stream",
          "name": "stdout",
          "text": [
            "ROC-AUC Score: 0.47041666666666665\n"
          ]
        }
      ]
    }
  ]
}