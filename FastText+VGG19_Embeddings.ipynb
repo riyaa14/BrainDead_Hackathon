{
  "metadata": {
    "kernelspec": {
      "language": "python",
      "display_name": "Python 3",
      "name": "python3"
    },
    "language_info": {
      "pygments_lexer": "ipython3",
      "nbconvert_exporter": "python",
      "version": "3.6.4",
      "file_extension": ".py",
      "codemirror_mode": {
        "name": "ipython",
        "version": 3
      },
      "name": "python",
      "mimetype": "text/x-python"
    },
    "colab": {
      "provenance": [],
      "include_colab_link": true
    }
  },
  "nbformat_minor": 0,
  "nbformat": 4,
  "cells": [
    {
      "cell_type": "markdown",
      "metadata": {
        "id": "view-in-github",
        "colab_type": "text"
      },
      "source": [
        "<a href=\"https://colab.research.google.com/github/riyaa14/BrainDead_Hackathon/blob/main/FastText%2BVGG19_Embeddings.ipynb\" target=\"_parent\"><img src=\"https://colab.research.google.com/assets/colab-badge.svg\" alt=\"Open In Colab\"/></a>"
      ]
    },
    {
      "cell_type": "code",
      "source": [
        "import numpy as np # linear algebra\n",
        "import pandas as pd # data processing, CSV file I/O (e.g. pd.read_csv)\n",
        "from sklearn.metrics import classification_report, matthews_corrcoef, roc_auc_score, confusion_matrix, ConfusionMatrixDisplay\n",
        "import seaborn as sns\n",
        "import matplotlib.pyplot as plt"
      ],
      "metadata": {
        "_cell_guid": "b1076dfc-b9ad-4769-8c92-a6c4dae69d19",
        "_uuid": "8f2839f25d086af736a60e9eeb907d3b93b6e0e5",
        "papermill": {
          "duration": 0.028991,
          "end_time": "2023-04-13T03:50:04.350274",
          "exception": false,
          "start_time": "2023-04-13T03:50:04.321283",
          "status": "completed"
        },
        "tags": [],
        "execution": {
          "iopub.status.busy": "2023-04-26T18:37:09.563443Z",
          "iopub.execute_input": "2023-04-26T18:37:09.563836Z",
          "iopub.status.idle": "2023-04-26T18:37:09.571773Z",
          "shell.execute_reply.started": "2023-04-26T18:37:09.563802Z",
          "shell.execute_reply": "2023-04-26T18:37:09.569789Z"
        },
        "trusted": true,
        "id": "f2eDmJghVBps"
      },
      "execution_count": null,
      "outputs": []
    },
    {
      "cell_type": "markdown",
      "source": [
        "## Loading Text Embeddings"
      ],
      "metadata": {
        "papermill": {
          "duration": 0.008742,
          "end_time": "2023-04-13T03:50:04.386585",
          "exception": false,
          "start_time": "2023-04-13T03:50:04.377843",
          "status": "completed"
        },
        "tags": [],
        "id": "vbXjWKqIVBpu"
      }
    },
    {
      "cell_type": "code",
      "source": [
        "df_text_train = pd.read_csv(\"/content/df_text_train.csv\")\n",
        "df_text_val = pd.read_csv(\"/content/df_text_val.csv\")\n",
        "df_text_val.head()"
      ],
      "metadata": {
        "papermill": {
          "duration": 0.882539,
          "end_time": "2023-04-13T03:50:05.278163",
          "exception": false,
          "start_time": "2023-04-13T03:50:04.395624",
          "status": "completed"
        },
        "tags": [],
        "execution": {
          "iopub.status.busy": "2023-04-26T18:37:09.574019Z",
          "iopub.execute_input": "2023-04-26T18:37:09.574403Z",
          "iopub.status.idle": "2023-04-26T18:37:09.934247Z",
          "shell.execute_reply.started": "2023-04-26T18:37:09.574366Z",
          "shell.execute_reply": "2023-04-26T18:37:09.933112Z"
        },
        "trusted": true,
        "id": "SB_11ZEiVBpv",
        "outputId": "9675201d-5a95-4ca4-88bb-db1eabe381b6",
        "colab": {
          "base_uri": "https://localhost:8080/",
          "height": 293
        }
      },
      "execution_count": null,
      "outputs": [
        {
          "output_type": "execute_result",
          "data": {
            "text/plain": [
              "      id            img  label  \\\n",
              "0   8291  img/08291.png      1   \n",
              "1  46971  img/46971.png      1   \n",
              "2   3745  img/03745.png      1   \n",
              "3  83745  img/83745.png      1   \n",
              "4  80243  img/80243.png      1   \n",
              "\n",
              "                                                text  \\\n",
              "0                 white people be this a shoot range   \n",
              "1                                bravery at its fine   \n",
              "2  your order come to 3750 and your white privile...   \n",
              "3  it be time to send these parasite back to the ...   \n",
              "4                             mississippi wind chime   \n",
              "\n",
              "                                      tokenized_text  \\\n",
              "0  ['white', 'people', 'be', 'this', 'a', 'shoot'...   \n",
              "1                   ['bravery', 'at', 'its', 'fine']   \n",
              "2  ['your', 'order', 'come', 'to', '3750', 'and',...   \n",
              "3  ['it', 'be', 'time', 'to', 'send', 'these', 'p...   \n",
              "4                   ['mississippi', 'wind', 'chime']   \n",
              "\n",
              "                                    fasttext_vectors  \n",
              "0  [-0.09731791  0.23750562 -0.38288007  0.241222...  \n",
              "1  [-0.08299352  0.2168787  -0.32653594  0.207254...  \n",
              "2  [-0.08208651  0.20918705 -0.30769555  0.196254...  \n",
              "3  [-0.09481638  0.23819618 -0.36519943  0.233848...  \n",
              "4  [-0.06179271  0.15961621 -0.23825146  0.152376...  "
            ],
            "text/html": [
              "\n",
              "  <div id=\"df-6540c181-8d9b-4693-b249-4cb80e4194bb\" class=\"colab-df-container\">\n",
              "    <div>\n",
              "<style scoped>\n",
              "    .dataframe tbody tr th:only-of-type {\n",
              "        vertical-align: middle;\n",
              "    }\n",
              "\n",
              "    .dataframe tbody tr th {\n",
              "        vertical-align: top;\n",
              "    }\n",
              "\n",
              "    .dataframe thead th {\n",
              "        text-align: right;\n",
              "    }\n",
              "</style>\n",
              "<table border=\"1\" class=\"dataframe\">\n",
              "  <thead>\n",
              "    <tr style=\"text-align: right;\">\n",
              "      <th></th>\n",
              "      <th>id</th>\n",
              "      <th>img</th>\n",
              "      <th>label</th>\n",
              "      <th>text</th>\n",
              "      <th>tokenized_text</th>\n",
              "      <th>fasttext_vectors</th>\n",
              "    </tr>\n",
              "  </thead>\n",
              "  <tbody>\n",
              "    <tr>\n",
              "      <th>0</th>\n",
              "      <td>8291</td>\n",
              "      <td>img/08291.png</td>\n",
              "      <td>1</td>\n",
              "      <td>white people be this a shoot range</td>\n",
              "      <td>['white', 'people', 'be', 'this', 'a', 'shoot'...</td>\n",
              "      <td>[-0.09731791  0.23750562 -0.38288007  0.241222...</td>\n",
              "    </tr>\n",
              "    <tr>\n",
              "      <th>1</th>\n",
              "      <td>46971</td>\n",
              "      <td>img/46971.png</td>\n",
              "      <td>1</td>\n",
              "      <td>bravery at its fine</td>\n",
              "      <td>['bravery', 'at', 'its', 'fine']</td>\n",
              "      <td>[-0.08299352  0.2168787  -0.32653594  0.207254...</td>\n",
              "    </tr>\n",
              "    <tr>\n",
              "      <th>2</th>\n",
              "      <td>3745</td>\n",
              "      <td>img/03745.png</td>\n",
              "      <td>1</td>\n",
              "      <td>your order come to 3750 and your white privile...</td>\n",
              "      <td>['your', 'order', 'come', 'to', '3750', 'and',...</td>\n",
              "      <td>[-0.08208651  0.20918705 -0.30769555  0.196254...</td>\n",
              "    </tr>\n",
              "    <tr>\n",
              "      <th>3</th>\n",
              "      <td>83745</td>\n",
              "      <td>img/83745.png</td>\n",
              "      <td>1</td>\n",
              "      <td>it be time to send these parasite back to the ...</td>\n",
              "      <td>['it', 'be', 'time', 'to', 'send', 'these', 'p...</td>\n",
              "      <td>[-0.09481638  0.23819618 -0.36519943  0.233848...</td>\n",
              "    </tr>\n",
              "    <tr>\n",
              "      <th>4</th>\n",
              "      <td>80243</td>\n",
              "      <td>img/80243.png</td>\n",
              "      <td>1</td>\n",
              "      <td>mississippi wind chime</td>\n",
              "      <td>['mississippi', 'wind', 'chime']</td>\n",
              "      <td>[-0.06179271  0.15961621 -0.23825146  0.152376...</td>\n",
              "    </tr>\n",
              "  </tbody>\n",
              "</table>\n",
              "</div>\n",
              "    <div class=\"colab-df-buttons\">\n",
              "\n",
              "  <div class=\"colab-df-container\">\n",
              "    <button class=\"colab-df-convert\" onclick=\"convertToInteractive('df-6540c181-8d9b-4693-b249-4cb80e4194bb')\"\n",
              "            title=\"Convert this dataframe to an interactive table.\"\n",
              "            style=\"display:none;\">\n",
              "\n",
              "  <svg xmlns=\"http://www.w3.org/2000/svg\" height=\"24px\" viewBox=\"0 -960 960 960\">\n",
              "    <path d=\"M120-120v-720h720v720H120Zm60-500h600v-160H180v160Zm220 220h160v-160H400v160Zm0 220h160v-160H400v160ZM180-400h160v-160H180v160Zm440 0h160v-160H620v160ZM180-180h160v-160H180v160Zm440 0h160v-160H620v160Z\"/>\n",
              "  </svg>\n",
              "    </button>\n",
              "\n",
              "  <style>\n",
              "    .colab-df-container {\n",
              "      display:flex;\n",
              "      gap: 12px;\n",
              "    }\n",
              "\n",
              "    .colab-df-convert {\n",
              "      background-color: #E8F0FE;\n",
              "      border: none;\n",
              "      border-radius: 50%;\n",
              "      cursor: pointer;\n",
              "      display: none;\n",
              "      fill: #1967D2;\n",
              "      height: 32px;\n",
              "      padding: 0 0 0 0;\n",
              "      width: 32px;\n",
              "    }\n",
              "\n",
              "    .colab-df-convert:hover {\n",
              "      background-color: #E2EBFA;\n",
              "      box-shadow: 0px 1px 2px rgba(60, 64, 67, 0.3), 0px 1px 3px 1px rgba(60, 64, 67, 0.15);\n",
              "      fill: #174EA6;\n",
              "    }\n",
              "\n",
              "    .colab-df-buttons div {\n",
              "      margin-bottom: 4px;\n",
              "    }\n",
              "\n",
              "    [theme=dark] .colab-df-convert {\n",
              "      background-color: #3B4455;\n",
              "      fill: #D2E3FC;\n",
              "    }\n",
              "\n",
              "    [theme=dark] .colab-df-convert:hover {\n",
              "      background-color: #434B5C;\n",
              "      box-shadow: 0px 1px 3px 1px rgba(0, 0, 0, 0.15);\n",
              "      filter: drop-shadow(0px 1px 2px rgba(0, 0, 0, 0.3));\n",
              "      fill: #FFFFFF;\n",
              "    }\n",
              "  </style>\n",
              "\n",
              "    <script>\n",
              "      const buttonEl =\n",
              "        document.querySelector('#df-6540c181-8d9b-4693-b249-4cb80e4194bb button.colab-df-convert');\n",
              "      buttonEl.style.display =\n",
              "        google.colab.kernel.accessAllowed ? 'block' : 'none';\n",
              "\n",
              "      async function convertToInteractive(key) {\n",
              "        const element = document.querySelector('#df-6540c181-8d9b-4693-b249-4cb80e4194bb');\n",
              "        const dataTable =\n",
              "          await google.colab.kernel.invokeFunction('convertToInteractive',\n",
              "                                                    [key], {});\n",
              "        if (!dataTable) return;\n",
              "\n",
              "        const docLinkHtml = 'Like what you see? Visit the ' +\n",
              "          '<a target=\"_blank\" href=https://colab.research.google.com/notebooks/data_table.ipynb>data table notebook</a>'\n",
              "          + ' to learn more about interactive tables.';\n",
              "        element.innerHTML = '';\n",
              "        dataTable['output_type'] = 'display_data';\n",
              "        await google.colab.output.renderOutput(dataTable, element);\n",
              "        const docLink = document.createElement('div');\n",
              "        docLink.innerHTML = docLinkHtml;\n",
              "        element.appendChild(docLink);\n",
              "      }\n",
              "    </script>\n",
              "  </div>\n",
              "\n",
              "\n",
              "<div id=\"df-ba9acf5f-adaa-492a-aa02-440f3e5c64a8\">\n",
              "  <button class=\"colab-df-quickchart\" onclick=\"quickchart('df-ba9acf5f-adaa-492a-aa02-440f3e5c64a8')\"\n",
              "            title=\"Suggest charts\"\n",
              "            style=\"display:none;\">\n",
              "\n",
              "<svg xmlns=\"http://www.w3.org/2000/svg\" height=\"24px\"viewBox=\"0 0 24 24\"\n",
              "     width=\"24px\">\n",
              "    <g>\n",
              "        <path d=\"M19 3H5c-1.1 0-2 .9-2 2v14c0 1.1.9 2 2 2h14c1.1 0 2-.9 2-2V5c0-1.1-.9-2-2-2zM9 17H7v-7h2v7zm4 0h-2V7h2v10zm4 0h-2v-4h2v4z\"/>\n",
              "    </g>\n",
              "</svg>\n",
              "  </button>\n",
              "\n",
              "<style>\n",
              "  .colab-df-quickchart {\n",
              "      --bg-color: #E8F0FE;\n",
              "      --fill-color: #1967D2;\n",
              "      --hover-bg-color: #E2EBFA;\n",
              "      --hover-fill-color: #174EA6;\n",
              "      --disabled-fill-color: #AAA;\n",
              "      --disabled-bg-color: #DDD;\n",
              "  }\n",
              "\n",
              "  [theme=dark] .colab-df-quickchart {\n",
              "      --bg-color: #3B4455;\n",
              "      --fill-color: #D2E3FC;\n",
              "      --hover-bg-color: #434B5C;\n",
              "      --hover-fill-color: #FFFFFF;\n",
              "      --disabled-bg-color: #3B4455;\n",
              "      --disabled-fill-color: #666;\n",
              "  }\n",
              "\n",
              "  .colab-df-quickchart {\n",
              "    background-color: var(--bg-color);\n",
              "    border: none;\n",
              "    border-radius: 50%;\n",
              "    cursor: pointer;\n",
              "    display: none;\n",
              "    fill: var(--fill-color);\n",
              "    height: 32px;\n",
              "    padding: 0;\n",
              "    width: 32px;\n",
              "  }\n",
              "\n",
              "  .colab-df-quickchart:hover {\n",
              "    background-color: var(--hover-bg-color);\n",
              "    box-shadow: 0 1px 2px rgba(60, 64, 67, 0.3), 0 1px 3px 1px rgba(60, 64, 67, 0.15);\n",
              "    fill: var(--button-hover-fill-color);\n",
              "  }\n",
              "\n",
              "  .colab-df-quickchart-complete:disabled,\n",
              "  .colab-df-quickchart-complete:disabled:hover {\n",
              "    background-color: var(--disabled-bg-color);\n",
              "    fill: var(--disabled-fill-color);\n",
              "    box-shadow: none;\n",
              "  }\n",
              "\n",
              "  .colab-df-spinner {\n",
              "    border: 2px solid var(--fill-color);\n",
              "    border-color: transparent;\n",
              "    border-bottom-color: var(--fill-color);\n",
              "    animation:\n",
              "      spin 1s steps(1) infinite;\n",
              "  }\n",
              "\n",
              "  @keyframes spin {\n",
              "    0% {\n",
              "      border-color: transparent;\n",
              "      border-bottom-color: var(--fill-color);\n",
              "      border-left-color: var(--fill-color);\n",
              "    }\n",
              "    20% {\n",
              "      border-color: transparent;\n",
              "      border-left-color: var(--fill-color);\n",
              "      border-top-color: var(--fill-color);\n",
              "    }\n",
              "    30% {\n",
              "      border-color: transparent;\n",
              "      border-left-color: var(--fill-color);\n",
              "      border-top-color: var(--fill-color);\n",
              "      border-right-color: var(--fill-color);\n",
              "    }\n",
              "    40% {\n",
              "      border-color: transparent;\n",
              "      border-right-color: var(--fill-color);\n",
              "      border-top-color: var(--fill-color);\n",
              "    }\n",
              "    60% {\n",
              "      border-color: transparent;\n",
              "      border-right-color: var(--fill-color);\n",
              "    }\n",
              "    80% {\n",
              "      border-color: transparent;\n",
              "      border-right-color: var(--fill-color);\n",
              "      border-bottom-color: var(--fill-color);\n",
              "    }\n",
              "    90% {\n",
              "      border-color: transparent;\n",
              "      border-bottom-color: var(--fill-color);\n",
              "    }\n",
              "  }\n",
              "</style>\n",
              "\n",
              "  <script>\n",
              "    async function quickchart(key) {\n",
              "      const quickchartButtonEl =\n",
              "        document.querySelector('#' + key + ' button');\n",
              "      quickchartButtonEl.disabled = true;  // To prevent multiple clicks.\n",
              "      quickchartButtonEl.classList.add('colab-df-spinner');\n",
              "      try {\n",
              "        const charts = await google.colab.kernel.invokeFunction(\n",
              "            'suggestCharts', [key], {});\n",
              "      } catch (error) {\n",
              "        console.error('Error during call to suggestCharts:', error);\n",
              "      }\n",
              "      quickchartButtonEl.classList.remove('colab-df-spinner');\n",
              "      quickchartButtonEl.classList.add('colab-df-quickchart-complete');\n",
              "    }\n",
              "    (() => {\n",
              "      let quickchartButtonEl =\n",
              "        document.querySelector('#df-ba9acf5f-adaa-492a-aa02-440f3e5c64a8 button');\n",
              "      quickchartButtonEl.style.display =\n",
              "        google.colab.kernel.accessAllowed ? 'block' : 'none';\n",
              "    })();\n",
              "  </script>\n",
              "</div>\n",
              "\n",
              "    </div>\n",
              "  </div>\n"
            ],
            "application/vnd.google.colaboratory.intrinsic+json": {
              "type": "dataframe",
              "variable_name": "df_text_val",
              "summary": "{\n  \"name\": \"df_text_val\",\n  \"rows\": 500,\n  \"fields\": [\n    {\n      \"column\": \"id\",\n      \"properties\": {\n        \"dtype\": \"number\",\n        \"std\": 29278,\n        \"min\": 1268,\n        \"max\": 98720,\n        \"num_unique_values\": 500,\n        \"samples\": [\n          46085,\n          84510,\n          35840\n        ],\n        \"semantic_type\": \"\",\n        \"description\": \"\"\n      }\n    },\n    {\n      \"column\": \"img\",\n      \"properties\": {\n        \"dtype\": \"string\",\n        \"num_unique_values\": 500,\n        \"samples\": [\n          \"img/46085.png\",\n          \"img/84510.png\",\n          \"img/35840.png\"\n        ],\n        \"semantic_type\": \"\",\n        \"description\": \"\"\n      }\n    },\n    {\n      \"column\": \"label\",\n      \"properties\": {\n        \"dtype\": \"number\",\n        \"std\": 0,\n        \"min\": 0,\n        \"max\": 1,\n        \"num_unique_values\": 2,\n        \"samples\": [\n          0,\n          1\n        ],\n        \"semantic_type\": \"\",\n        \"description\": \"\"\n      }\n    },\n    {\n      \"column\": \"text\",\n      \"properties\": {\n        \"dtype\": \"string\",\n        \"num_unique_values\": 403,\n        \"samples\": [\n          \"bartender how about a nice 12 yr old he boy or girl\",\n          \"when you ask a jewish girl for her number and she start roll her sleeve\"\n        ],\n        \"semantic_type\": \"\",\n        \"description\": \"\"\n      }\n    },\n    {\n      \"column\": \"tokenized_text\",\n      \"properties\": {\n        \"dtype\": \"string\",\n        \"num_unique_values\": 403,\n        \"samples\": [\n          \"['bartender', 'how', 'about', 'a', 'nice', '12', 'yr', 'old', 'he', 'boy', 'or', 'girl']\",\n          \"['when', 'you', 'ask', 'a', 'jewish', 'girl', 'for', 'her', 'number', 'and', 'she', 'start', 'roll', 'her', 'sleeve']\"\n        ],\n        \"semantic_type\": \"\",\n        \"description\": \"\"\n      }\n    },\n    {\n      \"column\": \"fasttext_vectors\",\n      \"properties\": {\n        \"dtype\": \"string\",\n        \"num_unique_values\": 402,\n        \"samples\": [\n          \"[-0.0745614   0.18825029 -0.30117719  0.19901977  0.1467755   0.21862029\\n -0.14427377  0.48416236 -0.18833118 -0.33308305  0.27914964 -0.16359081\\n  0.01767393  0.75507397 -0.30173102 -0.52349241 -0.04665739  0.02758717\\n -0.09055681 -0.48850692 -0.35557744  0.20584323 -0.26592791 -0.03937077\\n -0.31020519 -0.1779731  -0.65675648  0.1912315   0.23757709  0.52197427\\n -0.26160615  0.29391897  0.56310725 -0.123649    0.22465915  0.46158158\\n -0.32858683  0.05980649 -0.40933663 -0.33781989  0.37513259 -0.53413894\\n -0.17987573 -0.32725192 -0.34833918 -0.32027488 -0.10621392 -0.21542881\\n -0.03872263 -0.0708458   0.26264352 -0.12409566  0.02580404 -0.27958655\\n -0.03388187  0.02500901 -0.1522926  -0.03355245 -0.15025263 -0.07472985\\n  0.17239787 -0.43712082  0.14082418  0.77502318  0.21151431  0.54903703\\n  0.17865667  0.02077253 -0.27312945  0.24937181 -0.22072893  0.4628221\\n  0.10704001 -0.37256891  0.578695    0.0402849   0.30648167  0.37829321\\n -0.06574425  0.29861155 -0.05916989 -0.3768479  -0.30396516  0.3358741\\n -0.1489824  -0.38384078  0.41669144 -0.05148248 -0.13552242  0.14797821\\n -0.09399721 -0.28987541  0.0592202   0.04377803 -0.40707832  0.04491551\\n  0.0884298  -0.44152193  0.29350902  0.37342247]\",\n          \"[-0.09512397  0.24433626 -0.37433182  0.24498671  0.19096978  0.2808513\\n -0.17468826  0.59084012 -0.23295422 -0.40626024  0.34502378 -0.19672197\\n  0.02797146  0.92452666 -0.3738801  -0.64985025 -0.05382927  0.03284038\\n -0.10081533 -0.6133716  -0.44085861  0.25748986 -0.32846347 -0.04515431\\n -0.38116638 -0.22529747 -0.80210364  0.22993714  0.29396083  0.63487254\\n -0.33317328  0.36366476  0.69697608 -0.15440219  0.2802161   0.56334366\\n -0.40372615  0.08448549 -0.49231497 -0.41818176  0.47158248 -0.66452244\\n -0.22074806 -0.39980117 -0.4341996  -0.40264297 -0.13221838 -0.27016301\\n -0.047806   -0.08871574  0.32124111 -0.15866958  0.03646271 -0.34776918\\n -0.04819263  0.03231046 -0.19158065 -0.03683912 -0.1834871  -0.10129068\\n  0.21727443 -0.53811784  0.16588371  0.95341688  0.2612868   0.68339406\\n  0.22883896  0.03335215 -0.3333997   0.30586155 -0.27138532  0.56987864\\n  0.12653517 -0.45910748  0.71461173  0.04415492  0.38822411  0.46696595\\n -0.08151912  0.36330772 -0.07480642 -0.46205314 -0.36350763  0.41204436\\n -0.19272999 -0.46931124  0.5234622  -0.06313166 -0.16198663  0.17457314\\n -0.12328781 -0.36325673  0.06796029  0.06127499 -0.50624076  0.05748859\\n  0.11719858 -0.55582231  0.36517373  0.46388015]\"\n        ],\n        \"semantic_type\": \"\",\n        \"description\": \"\"\n      }\n    }\n  ]\n}"
            }
          },
          "metadata": {},
          "execution_count": 7
        }
      ]
    },
    {
      "cell_type": "code",
      "source": [
        "df_text_train.info()"
      ],
      "metadata": {
        "papermill": {
          "duration": 0.037967,
          "end_time": "2023-04-13T03:50:05.32531",
          "exception": false,
          "start_time": "2023-04-13T03:50:05.287343",
          "status": "completed"
        },
        "tags": [],
        "execution": {
          "iopub.status.busy": "2023-04-26T18:37:09.935492Z",
          "iopub.execute_input": "2023-04-26T18:37:09.935822Z",
          "iopub.status.idle": "2023-04-26T18:37:09.967085Z",
          "shell.execute_reply.started": "2023-04-26T18:37:09.935791Z",
          "shell.execute_reply": "2023-04-26T18:37:09.965674Z"
        },
        "trusted": true,
        "id": "2xxJDliYVBpw",
        "outputId": "561da436-739c-4fb4-aef7-52f6d489a52c",
        "colab": {
          "base_uri": "https://localhost:8080/"
        }
      },
      "execution_count": null,
      "outputs": [
        {
          "output_type": "stream",
          "name": "stdout",
          "text": [
            "<class 'pandas.core.frame.DataFrame'>\n",
            "RangeIndex: 8500 entries, 0 to 8499\n",
            "Data columns (total 6 columns):\n",
            " #   Column            Non-Null Count  Dtype \n",
            "---  ------            --------------  ----- \n",
            " 0   id                8500 non-null   int64 \n",
            " 1   img               8500 non-null   object\n",
            " 2   label             8500 non-null   int64 \n",
            " 3   text              8500 non-null   object\n",
            " 4   tokenized_text    8500 non-null   object\n",
            " 5   fasttext_vectors  8500 non-null   object\n",
            "dtypes: int64(2), object(4)\n",
            "memory usage: 398.6+ KB\n"
          ]
        }
      ]
    },
    {
      "cell_type": "markdown",
      "source": [
        "## Loading Image Embeddings"
      ],
      "metadata": {
        "papermill": {
          "duration": 0.00905,
          "end_time": "2023-04-13T03:50:05.343306",
          "exception": false,
          "start_time": "2023-04-13T03:50:05.334256",
          "status": "completed"
        },
        "tags": [],
        "id": "0WMAcZO-VBpx"
      }
    },
    {
      "cell_type": "code",
      "source": [
        "df_image_train = pd.read_csv(\"/content/df_image_train.csv\")\n",
        "df_image_val = pd.read_csv(\"/content/df_image_val.csv\")\n",
        "df_image_val.head()"
      ],
      "metadata": {
        "papermill": {
          "duration": 0.27448,
          "end_time": "2023-04-13T03:50:05.626894",
          "exception": false,
          "start_time": "2023-04-13T03:50:05.352414",
          "status": "completed"
        },
        "tags": [],
        "execution": {
          "iopub.status.busy": "2023-04-26T18:37:09.970775Z",
          "iopub.execute_input": "2023-04-26T18:37:09.971303Z",
          "iopub.status.idle": "2023-04-26T18:37:10.264355Z",
          "shell.execute_reply.started": "2023-04-26T18:37:09.971261Z",
          "shell.execute_reply": "2023-04-26T18:37:10.261555Z"
        },
        "trusted": true,
        "id": "UXZ28I6VVBpy",
        "outputId": "57e85cf0-9eaa-4c72-c8a8-48604db93cc2",
        "colab": {
          "base_uri": "https://localhost:8080/",
          "height": 206
        }
      },
      "execution_count": null,
      "outputs": [
        {
          "output_type": "execute_result",
          "data": {
            "text/plain": [
              "   Unnamed: 0     id            img  label  \\\n",
              "0           0   8291  img/08291.png      1   \n",
              "1           1  46971  img/46971.png      1   \n",
              "2           2   3745  img/03745.png      1   \n",
              "3           3  83745  img/83745.png      1   \n",
              "4           4  80243  img/80243.png      1   \n",
              "\n",
              "                                    image_embeddings  \n",
              "0  [ 0.00707572 -0.05057511 -0.11705931 -0.040771...  \n",
              "1  [-0.02525216 -0.01951682 -0.09147161 -0.068425...  \n",
              "2  [ 0.03659207 -0.04964533 -0.04078922 -0.055413...  \n",
              "3  [-0.00975812 -0.02114693 -0.073861   -0.038307...  \n",
              "4  [-0.02258018  0.00855221 -0.0263569  -0.070994...  "
            ],
            "text/html": [
              "\n",
              "  <div id=\"df-65bd28b7-f693-4c4a-bfd4-ff95d7af67a6\" class=\"colab-df-container\">\n",
              "    <div>\n",
              "<style scoped>\n",
              "    .dataframe tbody tr th:only-of-type {\n",
              "        vertical-align: middle;\n",
              "    }\n",
              "\n",
              "    .dataframe tbody tr th {\n",
              "        vertical-align: top;\n",
              "    }\n",
              "\n",
              "    .dataframe thead th {\n",
              "        text-align: right;\n",
              "    }\n",
              "</style>\n",
              "<table border=\"1\" class=\"dataframe\">\n",
              "  <thead>\n",
              "    <tr style=\"text-align: right;\">\n",
              "      <th></th>\n",
              "      <th>Unnamed: 0</th>\n",
              "      <th>id</th>\n",
              "      <th>img</th>\n",
              "      <th>label</th>\n",
              "      <th>image_embeddings</th>\n",
              "    </tr>\n",
              "  </thead>\n",
              "  <tbody>\n",
              "    <tr>\n",
              "      <th>0</th>\n",
              "      <td>0</td>\n",
              "      <td>8291</td>\n",
              "      <td>img/08291.png</td>\n",
              "      <td>1</td>\n",
              "      <td>[ 0.00707572 -0.05057511 -0.11705931 -0.040771...</td>\n",
              "    </tr>\n",
              "    <tr>\n",
              "      <th>1</th>\n",
              "      <td>1</td>\n",
              "      <td>46971</td>\n",
              "      <td>img/46971.png</td>\n",
              "      <td>1</td>\n",
              "      <td>[-0.02525216 -0.01951682 -0.09147161 -0.068425...</td>\n",
              "    </tr>\n",
              "    <tr>\n",
              "      <th>2</th>\n",
              "      <td>2</td>\n",
              "      <td>3745</td>\n",
              "      <td>img/03745.png</td>\n",
              "      <td>1</td>\n",
              "      <td>[ 0.03659207 -0.04964533 -0.04078922 -0.055413...</td>\n",
              "    </tr>\n",
              "    <tr>\n",
              "      <th>3</th>\n",
              "      <td>3</td>\n",
              "      <td>83745</td>\n",
              "      <td>img/83745.png</td>\n",
              "      <td>1</td>\n",
              "      <td>[-0.00975812 -0.02114693 -0.073861   -0.038307...</td>\n",
              "    </tr>\n",
              "    <tr>\n",
              "      <th>4</th>\n",
              "      <td>4</td>\n",
              "      <td>80243</td>\n",
              "      <td>img/80243.png</td>\n",
              "      <td>1</td>\n",
              "      <td>[-0.02258018  0.00855221 -0.0263569  -0.070994...</td>\n",
              "    </tr>\n",
              "  </tbody>\n",
              "</table>\n",
              "</div>\n",
              "    <div class=\"colab-df-buttons\">\n",
              "\n",
              "  <div class=\"colab-df-container\">\n",
              "    <button class=\"colab-df-convert\" onclick=\"convertToInteractive('df-65bd28b7-f693-4c4a-bfd4-ff95d7af67a6')\"\n",
              "            title=\"Convert this dataframe to an interactive table.\"\n",
              "            style=\"display:none;\">\n",
              "\n",
              "  <svg xmlns=\"http://www.w3.org/2000/svg\" height=\"24px\" viewBox=\"0 -960 960 960\">\n",
              "    <path d=\"M120-120v-720h720v720H120Zm60-500h600v-160H180v160Zm220 220h160v-160H400v160Zm0 220h160v-160H400v160ZM180-400h160v-160H180v160Zm440 0h160v-160H620v160ZM180-180h160v-160H180v160Zm440 0h160v-160H620v160Z\"/>\n",
              "  </svg>\n",
              "    </button>\n",
              "\n",
              "  <style>\n",
              "    .colab-df-container {\n",
              "      display:flex;\n",
              "      gap: 12px;\n",
              "    }\n",
              "\n",
              "    .colab-df-convert {\n",
              "      background-color: #E8F0FE;\n",
              "      border: none;\n",
              "      border-radius: 50%;\n",
              "      cursor: pointer;\n",
              "      display: none;\n",
              "      fill: #1967D2;\n",
              "      height: 32px;\n",
              "      padding: 0 0 0 0;\n",
              "      width: 32px;\n",
              "    }\n",
              "\n",
              "    .colab-df-convert:hover {\n",
              "      background-color: #E2EBFA;\n",
              "      box-shadow: 0px 1px 2px rgba(60, 64, 67, 0.3), 0px 1px 3px 1px rgba(60, 64, 67, 0.15);\n",
              "      fill: #174EA6;\n",
              "    }\n",
              "\n",
              "    .colab-df-buttons div {\n",
              "      margin-bottom: 4px;\n",
              "    }\n",
              "\n",
              "    [theme=dark] .colab-df-convert {\n",
              "      background-color: #3B4455;\n",
              "      fill: #D2E3FC;\n",
              "    }\n",
              "\n",
              "    [theme=dark] .colab-df-convert:hover {\n",
              "      background-color: #434B5C;\n",
              "      box-shadow: 0px 1px 3px 1px rgba(0, 0, 0, 0.15);\n",
              "      filter: drop-shadow(0px 1px 2px rgba(0, 0, 0, 0.3));\n",
              "      fill: #FFFFFF;\n",
              "    }\n",
              "  </style>\n",
              "\n",
              "    <script>\n",
              "      const buttonEl =\n",
              "        document.querySelector('#df-65bd28b7-f693-4c4a-bfd4-ff95d7af67a6 button.colab-df-convert');\n",
              "      buttonEl.style.display =\n",
              "        google.colab.kernel.accessAllowed ? 'block' : 'none';\n",
              "\n",
              "      async function convertToInteractive(key) {\n",
              "        const element = document.querySelector('#df-65bd28b7-f693-4c4a-bfd4-ff95d7af67a6');\n",
              "        const dataTable =\n",
              "          await google.colab.kernel.invokeFunction('convertToInteractive',\n",
              "                                                    [key], {});\n",
              "        if (!dataTable) return;\n",
              "\n",
              "        const docLinkHtml = 'Like what you see? Visit the ' +\n",
              "          '<a target=\"_blank\" href=https://colab.research.google.com/notebooks/data_table.ipynb>data table notebook</a>'\n",
              "          + ' to learn more about interactive tables.';\n",
              "        element.innerHTML = '';\n",
              "        dataTable['output_type'] = 'display_data';\n",
              "        await google.colab.output.renderOutput(dataTable, element);\n",
              "        const docLink = document.createElement('div');\n",
              "        docLink.innerHTML = docLinkHtml;\n",
              "        element.appendChild(docLink);\n",
              "      }\n",
              "    </script>\n",
              "  </div>\n",
              "\n",
              "\n",
              "<div id=\"df-4edab902-33e9-4581-8ae6-eb1cca3fb31a\">\n",
              "  <button class=\"colab-df-quickchart\" onclick=\"quickchart('df-4edab902-33e9-4581-8ae6-eb1cca3fb31a')\"\n",
              "            title=\"Suggest charts\"\n",
              "            style=\"display:none;\">\n",
              "\n",
              "<svg xmlns=\"http://www.w3.org/2000/svg\" height=\"24px\"viewBox=\"0 0 24 24\"\n",
              "     width=\"24px\">\n",
              "    <g>\n",
              "        <path d=\"M19 3H5c-1.1 0-2 .9-2 2v14c0 1.1.9 2 2 2h14c1.1 0 2-.9 2-2V5c0-1.1-.9-2-2-2zM9 17H7v-7h2v7zm4 0h-2V7h2v10zm4 0h-2v-4h2v4z\"/>\n",
              "    </g>\n",
              "</svg>\n",
              "  </button>\n",
              "\n",
              "<style>\n",
              "  .colab-df-quickchart {\n",
              "      --bg-color: #E8F0FE;\n",
              "      --fill-color: #1967D2;\n",
              "      --hover-bg-color: #E2EBFA;\n",
              "      --hover-fill-color: #174EA6;\n",
              "      --disabled-fill-color: #AAA;\n",
              "      --disabled-bg-color: #DDD;\n",
              "  }\n",
              "\n",
              "  [theme=dark] .colab-df-quickchart {\n",
              "      --bg-color: #3B4455;\n",
              "      --fill-color: #D2E3FC;\n",
              "      --hover-bg-color: #434B5C;\n",
              "      --hover-fill-color: #FFFFFF;\n",
              "      --disabled-bg-color: #3B4455;\n",
              "      --disabled-fill-color: #666;\n",
              "  }\n",
              "\n",
              "  .colab-df-quickchart {\n",
              "    background-color: var(--bg-color);\n",
              "    border: none;\n",
              "    border-radius: 50%;\n",
              "    cursor: pointer;\n",
              "    display: none;\n",
              "    fill: var(--fill-color);\n",
              "    height: 32px;\n",
              "    padding: 0;\n",
              "    width: 32px;\n",
              "  }\n",
              "\n",
              "  .colab-df-quickchart:hover {\n",
              "    background-color: var(--hover-bg-color);\n",
              "    box-shadow: 0 1px 2px rgba(60, 64, 67, 0.3), 0 1px 3px 1px rgba(60, 64, 67, 0.15);\n",
              "    fill: var(--button-hover-fill-color);\n",
              "  }\n",
              "\n",
              "  .colab-df-quickchart-complete:disabled,\n",
              "  .colab-df-quickchart-complete:disabled:hover {\n",
              "    background-color: var(--disabled-bg-color);\n",
              "    fill: var(--disabled-fill-color);\n",
              "    box-shadow: none;\n",
              "  }\n",
              "\n",
              "  .colab-df-spinner {\n",
              "    border: 2px solid var(--fill-color);\n",
              "    border-color: transparent;\n",
              "    border-bottom-color: var(--fill-color);\n",
              "    animation:\n",
              "      spin 1s steps(1) infinite;\n",
              "  }\n",
              "\n",
              "  @keyframes spin {\n",
              "    0% {\n",
              "      border-color: transparent;\n",
              "      border-bottom-color: var(--fill-color);\n",
              "      border-left-color: var(--fill-color);\n",
              "    }\n",
              "    20% {\n",
              "      border-color: transparent;\n",
              "      border-left-color: var(--fill-color);\n",
              "      border-top-color: var(--fill-color);\n",
              "    }\n",
              "    30% {\n",
              "      border-color: transparent;\n",
              "      border-left-color: var(--fill-color);\n",
              "      border-top-color: var(--fill-color);\n",
              "      border-right-color: var(--fill-color);\n",
              "    }\n",
              "    40% {\n",
              "      border-color: transparent;\n",
              "      border-right-color: var(--fill-color);\n",
              "      border-top-color: var(--fill-color);\n",
              "    }\n",
              "    60% {\n",
              "      border-color: transparent;\n",
              "      border-right-color: var(--fill-color);\n",
              "    }\n",
              "    80% {\n",
              "      border-color: transparent;\n",
              "      border-right-color: var(--fill-color);\n",
              "      border-bottom-color: var(--fill-color);\n",
              "    }\n",
              "    90% {\n",
              "      border-color: transparent;\n",
              "      border-bottom-color: var(--fill-color);\n",
              "    }\n",
              "  }\n",
              "</style>\n",
              "\n",
              "  <script>\n",
              "    async function quickchart(key) {\n",
              "      const quickchartButtonEl =\n",
              "        document.querySelector('#' + key + ' button');\n",
              "      quickchartButtonEl.disabled = true;  // To prevent multiple clicks.\n",
              "      quickchartButtonEl.classList.add('colab-df-spinner');\n",
              "      try {\n",
              "        const charts = await google.colab.kernel.invokeFunction(\n",
              "            'suggestCharts', [key], {});\n",
              "      } catch (error) {\n",
              "        console.error('Error during call to suggestCharts:', error);\n",
              "      }\n",
              "      quickchartButtonEl.classList.remove('colab-df-spinner');\n",
              "      quickchartButtonEl.classList.add('colab-df-quickchart-complete');\n",
              "    }\n",
              "    (() => {\n",
              "      let quickchartButtonEl =\n",
              "        document.querySelector('#df-4edab902-33e9-4581-8ae6-eb1cca3fb31a button');\n",
              "      quickchartButtonEl.style.display =\n",
              "        google.colab.kernel.accessAllowed ? 'block' : 'none';\n",
              "    })();\n",
              "  </script>\n",
              "</div>\n",
              "\n",
              "    </div>\n",
              "  </div>\n"
            ],
            "application/vnd.google.colaboratory.intrinsic+json": {
              "type": "dataframe",
              "variable_name": "df_image_val",
              "summary": "{\n  \"name\": \"df_image_val\",\n  \"rows\": 500,\n  \"fields\": [\n    {\n      \"column\": \"Unnamed: 0\",\n      \"properties\": {\n        \"dtype\": \"number\",\n        \"std\": 144,\n        \"min\": 0,\n        \"max\": 499,\n        \"num_unique_values\": 500,\n        \"samples\": [\n          361,\n          73,\n          374\n        ],\n        \"semantic_type\": \"\",\n        \"description\": \"\"\n      }\n    },\n    {\n      \"column\": \"id\",\n      \"properties\": {\n        \"dtype\": \"number\",\n        \"std\": 29278,\n        \"min\": 1268,\n        \"max\": 98720,\n        \"num_unique_values\": 500,\n        \"samples\": [\n          46085,\n          84510,\n          35840\n        ],\n        \"semantic_type\": \"\",\n        \"description\": \"\"\n      }\n    },\n    {\n      \"column\": \"img\",\n      \"properties\": {\n        \"dtype\": \"string\",\n        \"num_unique_values\": 500,\n        \"samples\": [\n          \"img/46085.png\",\n          \"img/84510.png\",\n          \"img/35840.png\"\n        ],\n        \"semantic_type\": \"\",\n        \"description\": \"\"\n      }\n    },\n    {\n      \"column\": \"label\",\n      \"properties\": {\n        \"dtype\": \"number\",\n        \"std\": 0,\n        \"min\": 0,\n        \"max\": 1,\n        \"num_unique_values\": 2,\n        \"samples\": [\n          0,\n          1\n        ],\n        \"semantic_type\": \"\",\n        \"description\": \"\"\n      }\n    },\n    {\n      \"column\": \"image_embeddings\",\n      \"properties\": {\n        \"dtype\": \"string\",\n        \"num_unique_values\": 499,\n        \"samples\": [\n          \"[ 0.03036699 -0.03725762 -0.1130378  -0.04138639 -0.10490554  0.04860655\\n -0.01910979 -0.04033201 -0.04014056  0.10403547  0.01829274 -0.00780878\\n -0.09276234 -0.11199406 -0.00032825 -0.00266574 -0.03101984  0.05419514\\n -0.04776023  0.02521356  0.06865516  0.0080078  -0.00415659  0.00113694\\n -0.01767334  0.11399918  0.03576081  0.02737712  0.13920358 -0.01195064\\n -0.01687919  0.04014736 -0.01886764  0.021429   -0.0025295   0.10500945\\n -0.11755817 -0.06072366 -0.07255758 -0.03854701  0.00551138 -0.01195788\\n -0.00777743 -0.02235265 -0.10191721 -0.01949593 -0.00223665  0.06874471\\n  0.03881469  0.06045599  0.01863143  0.04075104  0.10704321  0.02278378\\n -0.0488253   0.03256749  0.06798299 -0.05694962  0.15327811  0.01425753\\n -0.03977838  0.00236319  0.00688106  0.01370201  0.03840078  0.0828006\\n  0.13102281  0.0138414   0.06510086  0.06213418  0.02394245  0.1934469\\n  0.08438122  0.05852273  0.00548181  0.01221486 -0.01634536 -0.0607886\\n -0.01379937 -0.03013713 -0.02812044  0.08027892 -0.07109597 -0.04100584\\n -0.02487519  0.00786996  0.02337412  0.12760064 -0.01985175  0.0364738\\n -0.01992864  0.00339036  0.02396688 -0.00456953 -0.05713596 -0.05843764\\n  0.0376814   0.04936568  0.03038277  0.14135824]\",\n          \"[-6.46580383e-03 -5.65214120e-02 -8.26557353e-02 -3.86315361e-02\\n -1.10530145e-01  3.68652977e-02 -5.21569401e-02 -4.38434109e-02\\n -5.97086027e-02  1.21716283e-01 -6.68711513e-02  1.52424350e-02\\n -1.01603344e-01 -1.29075214e-01  5.41465804e-02 -1.25479460e-01\\n -6.22855723e-02  1.24621935e-01 -3.70452404e-02  1.01448849e-01\\n  1.30663514e-01 -3.14110890e-02  8.59776512e-04 -1.15014799e-02\\n  3.41325551e-02  6.35250509e-02  7.73923099e-02  2.18888670e-02\\n  1.28299490e-01 -9.40601751e-02  8.03917460e-03 -7.06390105e-03\\n  4.88190874e-02 -1.11099537e-02 -2.29407102e-02  1.30258560e-01\\n -1.72430947e-01 -9.76715237e-02 -8.00130740e-02 -6.74388111e-02\\n  7.67069869e-03 -2.14912333e-02 -2.91866921e-02 -6.40927255e-02\\n -6.03253581e-02 -3.88590768e-02 -1.99323799e-02  8.41418356e-02\\n  4.71334234e-02  3.96073833e-02  6.48727491e-02  2.88721062e-02\\n  3.93423103e-02  2.56915353e-02 -5.35885952e-02  2.97286361e-03\\n  4.16213423e-02 -8.17547292e-02  1.28834710e-01  7.97847472e-03\\n -2.00462062e-04 -2.10167747e-02  2.51661707e-02 -2.15606950e-02\\n  2.46277042e-02  1.23957463e-01  1.53750673e-01  2.12619919e-03\\n  1.31095484e-01  3.41220014e-02 -2.16923915e-02  2.49262333e-01\\n  1.23738818e-01  7.45490119e-02 -2.79911272e-02  1.74674988e-02\\n -6.71917796e-02 -6.87395632e-02 -5.12849763e-02 -8.73605609e-02\\n -4.05296385e-02  1.04362167e-01 -9.33328271e-02 -3.98037098e-02\\n -5.97735345e-02  3.94829083e-03  7.43920170e-03  1.32119119e-01\\n -5.32659050e-03  1.01967994e-02 -1.74009260e-02 -2.46806815e-03\\n  2.29898132e-02 -2.24596309e-03 -6.25470206e-02 -4.94052060e-02\\n  6.62069023e-02  8.26746151e-02  5.67824543e-02  1.76024407e-01]\"\n        ],\n        \"semantic_type\": \"\",\n        \"description\": \"\"\n      }\n    }\n  ]\n}"
            }
          },
          "metadata": {},
          "execution_count": 12
        }
      ]
    },
    {
      "cell_type": "markdown",
      "source": [
        "# Joining Text and Image Embeddings in one DataFrame\n"
      ],
      "metadata": {
        "papermill": {
          "duration": 0.009774,
          "end_time": "2023-04-13T03:50:05.646297",
          "exception": false,
          "start_time": "2023-04-13T03:50:05.636523",
          "status": "completed"
        },
        "tags": [],
        "id": "BltFXKkpVBpz"
      }
    },
    {
      "cell_type": "code",
      "source": [
        "df_train = pd.merge(df_text_train, df_image_train, how = 'inner')\n",
        "df_val = pd.merge(df_text_val, df_image_val, how = 'inner')\n",
        "df_train.drop([\"Unnamed: 0\"], axis = 1, inplace = True)\n",
        "df_val.drop([\"Unnamed: 0\"], axis = 1, inplace = True)\n",
        "df_val.head()"
      ],
      "metadata": {
        "papermill": {
          "duration": 0.055296,
          "end_time": "2023-04-13T03:50:05.711411",
          "exception": false,
          "start_time": "2023-04-13T03:50:05.656115",
          "status": "completed"
        },
        "tags": [],
        "execution": {
          "iopub.status.busy": "2023-04-26T18:37:10.266082Z",
          "iopub.execute_input": "2023-04-26T18:37:10.266587Z",
          "iopub.status.idle": "2023-04-26T18:37:10.315361Z",
          "shell.execute_reply.started": "2023-04-26T18:37:10.266532Z",
          "shell.execute_reply": "2023-04-26T18:37:10.314076Z"
        },
        "trusted": true,
        "id": "a-y2lq0RVBpz",
        "outputId": "392b648e-ea6b-49dc-a581-838a970cb54e",
        "colab": {
          "base_uri": "https://localhost:8080/",
          "height": 328
        }
      },
      "execution_count": null,
      "outputs": [
        {
          "output_type": "execute_result",
          "data": {
            "text/plain": [
              "      id            img  label  \\\n",
              "0   8291  img/08291.png      1   \n",
              "1  46971  img/46971.png      1   \n",
              "2   3745  img/03745.png      1   \n",
              "3  83745  img/83745.png      1   \n",
              "4  80243  img/80243.png      1   \n",
              "\n",
              "                                                text  \\\n",
              "0                 white people be this a shoot range   \n",
              "1                                bravery at its fine   \n",
              "2  your order come to 3750 and your white privile...   \n",
              "3  it be time to send these parasite back to the ...   \n",
              "4                             mississippi wind chime   \n",
              "\n",
              "                                      tokenized_text  \\\n",
              "0  ['white', 'people', 'be', 'this', 'a', 'shoot'...   \n",
              "1                   ['bravery', 'at', 'its', 'fine']   \n",
              "2  ['your', 'order', 'come', 'to', '3750', 'and',...   \n",
              "3  ['it', 'be', 'time', 'to', 'send', 'these', 'p...   \n",
              "4                   ['mississippi', 'wind', 'chime']   \n",
              "\n",
              "                                    fasttext_vectors  \\\n",
              "0  [-0.09731791  0.23750562 -0.38288007  0.241222...   \n",
              "1  [-0.08299352  0.2168787  -0.32653594  0.207254...   \n",
              "2  [-0.08208651  0.20918705 -0.30769555  0.196254...   \n",
              "3  [-0.09481638  0.23819618 -0.36519943  0.233848...   \n",
              "4  [-0.06179271  0.15961621 -0.23825146  0.152376...   \n",
              "\n",
              "                                    image_embeddings  \n",
              "0  [ 0.00707572 -0.05057511 -0.11705931 -0.040771...  \n",
              "1  [-0.02525216 -0.01951682 -0.09147161 -0.068425...  \n",
              "2  [ 0.03659207 -0.04964533 -0.04078922 -0.055413...  \n",
              "3  [-0.00975812 -0.02114693 -0.073861   -0.038307...  \n",
              "4  [-0.02258018  0.00855221 -0.0263569  -0.070994...  "
            ],
            "text/html": [
              "\n",
              "  <div id=\"df-74c7e511-5396-4d45-8cb0-141b97e0eda4\" class=\"colab-df-container\">\n",
              "    <div>\n",
              "<style scoped>\n",
              "    .dataframe tbody tr th:only-of-type {\n",
              "        vertical-align: middle;\n",
              "    }\n",
              "\n",
              "    .dataframe tbody tr th {\n",
              "        vertical-align: top;\n",
              "    }\n",
              "\n",
              "    .dataframe thead th {\n",
              "        text-align: right;\n",
              "    }\n",
              "</style>\n",
              "<table border=\"1\" class=\"dataframe\">\n",
              "  <thead>\n",
              "    <tr style=\"text-align: right;\">\n",
              "      <th></th>\n",
              "      <th>id</th>\n",
              "      <th>img</th>\n",
              "      <th>label</th>\n",
              "      <th>text</th>\n",
              "      <th>tokenized_text</th>\n",
              "      <th>fasttext_vectors</th>\n",
              "      <th>image_embeddings</th>\n",
              "    </tr>\n",
              "  </thead>\n",
              "  <tbody>\n",
              "    <tr>\n",
              "      <th>0</th>\n",
              "      <td>8291</td>\n",
              "      <td>img/08291.png</td>\n",
              "      <td>1</td>\n",
              "      <td>white people be this a shoot range</td>\n",
              "      <td>['white', 'people', 'be', 'this', 'a', 'shoot'...</td>\n",
              "      <td>[-0.09731791  0.23750562 -0.38288007  0.241222...</td>\n",
              "      <td>[ 0.00707572 -0.05057511 -0.11705931 -0.040771...</td>\n",
              "    </tr>\n",
              "    <tr>\n",
              "      <th>1</th>\n",
              "      <td>46971</td>\n",
              "      <td>img/46971.png</td>\n",
              "      <td>1</td>\n",
              "      <td>bravery at its fine</td>\n",
              "      <td>['bravery', 'at', 'its', 'fine']</td>\n",
              "      <td>[-0.08299352  0.2168787  -0.32653594  0.207254...</td>\n",
              "      <td>[-0.02525216 -0.01951682 -0.09147161 -0.068425...</td>\n",
              "    </tr>\n",
              "    <tr>\n",
              "      <th>2</th>\n",
              "      <td>3745</td>\n",
              "      <td>img/03745.png</td>\n",
              "      <td>1</td>\n",
              "      <td>your order come to 3750 and your white privile...</td>\n",
              "      <td>['your', 'order', 'come', 'to', '3750', 'and',...</td>\n",
              "      <td>[-0.08208651  0.20918705 -0.30769555  0.196254...</td>\n",
              "      <td>[ 0.03659207 -0.04964533 -0.04078922 -0.055413...</td>\n",
              "    </tr>\n",
              "    <tr>\n",
              "      <th>3</th>\n",
              "      <td>83745</td>\n",
              "      <td>img/83745.png</td>\n",
              "      <td>1</td>\n",
              "      <td>it be time to send these parasite back to the ...</td>\n",
              "      <td>['it', 'be', 'time', 'to', 'send', 'these', 'p...</td>\n",
              "      <td>[-0.09481638  0.23819618 -0.36519943  0.233848...</td>\n",
              "      <td>[-0.00975812 -0.02114693 -0.073861   -0.038307...</td>\n",
              "    </tr>\n",
              "    <tr>\n",
              "      <th>4</th>\n",
              "      <td>80243</td>\n",
              "      <td>img/80243.png</td>\n",
              "      <td>1</td>\n",
              "      <td>mississippi wind chime</td>\n",
              "      <td>['mississippi', 'wind', 'chime']</td>\n",
              "      <td>[-0.06179271  0.15961621 -0.23825146  0.152376...</td>\n",
              "      <td>[-0.02258018  0.00855221 -0.0263569  -0.070994...</td>\n",
              "    </tr>\n",
              "  </tbody>\n",
              "</table>\n",
              "</div>\n",
              "    <div class=\"colab-df-buttons\">\n",
              "\n",
              "  <div class=\"colab-df-container\">\n",
              "    <button class=\"colab-df-convert\" onclick=\"convertToInteractive('df-74c7e511-5396-4d45-8cb0-141b97e0eda4')\"\n",
              "            title=\"Convert this dataframe to an interactive table.\"\n",
              "            style=\"display:none;\">\n",
              "\n",
              "  <svg xmlns=\"http://www.w3.org/2000/svg\" height=\"24px\" viewBox=\"0 -960 960 960\">\n",
              "    <path d=\"M120-120v-720h720v720H120Zm60-500h600v-160H180v160Zm220 220h160v-160H400v160Zm0 220h160v-160H400v160ZM180-400h160v-160H180v160Zm440 0h160v-160H620v160ZM180-180h160v-160H180v160Zm440 0h160v-160H620v160Z\"/>\n",
              "  </svg>\n",
              "    </button>\n",
              "\n",
              "  <style>\n",
              "    .colab-df-container {\n",
              "      display:flex;\n",
              "      gap: 12px;\n",
              "    }\n",
              "\n",
              "    .colab-df-convert {\n",
              "      background-color: #E8F0FE;\n",
              "      border: none;\n",
              "      border-radius: 50%;\n",
              "      cursor: pointer;\n",
              "      display: none;\n",
              "      fill: #1967D2;\n",
              "      height: 32px;\n",
              "      padding: 0 0 0 0;\n",
              "      width: 32px;\n",
              "    }\n",
              "\n",
              "    .colab-df-convert:hover {\n",
              "      background-color: #E2EBFA;\n",
              "      box-shadow: 0px 1px 2px rgba(60, 64, 67, 0.3), 0px 1px 3px 1px rgba(60, 64, 67, 0.15);\n",
              "      fill: #174EA6;\n",
              "    }\n",
              "\n",
              "    .colab-df-buttons div {\n",
              "      margin-bottom: 4px;\n",
              "    }\n",
              "\n",
              "    [theme=dark] .colab-df-convert {\n",
              "      background-color: #3B4455;\n",
              "      fill: #D2E3FC;\n",
              "    }\n",
              "\n",
              "    [theme=dark] .colab-df-convert:hover {\n",
              "      background-color: #434B5C;\n",
              "      box-shadow: 0px 1px 3px 1px rgba(0, 0, 0, 0.15);\n",
              "      filter: drop-shadow(0px 1px 2px rgba(0, 0, 0, 0.3));\n",
              "      fill: #FFFFFF;\n",
              "    }\n",
              "  </style>\n",
              "\n",
              "    <script>\n",
              "      const buttonEl =\n",
              "        document.querySelector('#df-74c7e511-5396-4d45-8cb0-141b97e0eda4 button.colab-df-convert');\n",
              "      buttonEl.style.display =\n",
              "        google.colab.kernel.accessAllowed ? 'block' : 'none';\n",
              "\n",
              "      async function convertToInteractive(key) {\n",
              "        const element = document.querySelector('#df-74c7e511-5396-4d45-8cb0-141b97e0eda4');\n",
              "        const dataTable =\n",
              "          await google.colab.kernel.invokeFunction('convertToInteractive',\n",
              "                                                    [key], {});\n",
              "        if (!dataTable) return;\n",
              "\n",
              "        const docLinkHtml = 'Like what you see? Visit the ' +\n",
              "          '<a target=\"_blank\" href=https://colab.research.google.com/notebooks/data_table.ipynb>data table notebook</a>'\n",
              "          + ' to learn more about interactive tables.';\n",
              "        element.innerHTML = '';\n",
              "        dataTable['output_type'] = 'display_data';\n",
              "        await google.colab.output.renderOutput(dataTable, element);\n",
              "        const docLink = document.createElement('div');\n",
              "        docLink.innerHTML = docLinkHtml;\n",
              "        element.appendChild(docLink);\n",
              "      }\n",
              "    </script>\n",
              "  </div>\n",
              "\n",
              "\n",
              "<div id=\"df-9c4d257f-531c-4b3a-a190-5ad1b6009ac3\">\n",
              "  <button class=\"colab-df-quickchart\" onclick=\"quickchart('df-9c4d257f-531c-4b3a-a190-5ad1b6009ac3')\"\n",
              "            title=\"Suggest charts\"\n",
              "            style=\"display:none;\">\n",
              "\n",
              "<svg xmlns=\"http://www.w3.org/2000/svg\" height=\"24px\"viewBox=\"0 0 24 24\"\n",
              "     width=\"24px\">\n",
              "    <g>\n",
              "        <path d=\"M19 3H5c-1.1 0-2 .9-2 2v14c0 1.1.9 2 2 2h14c1.1 0 2-.9 2-2V5c0-1.1-.9-2-2-2zM9 17H7v-7h2v7zm4 0h-2V7h2v10zm4 0h-2v-4h2v4z\"/>\n",
              "    </g>\n",
              "</svg>\n",
              "  </button>\n",
              "\n",
              "<style>\n",
              "  .colab-df-quickchart {\n",
              "      --bg-color: #E8F0FE;\n",
              "      --fill-color: #1967D2;\n",
              "      --hover-bg-color: #E2EBFA;\n",
              "      --hover-fill-color: #174EA6;\n",
              "      --disabled-fill-color: #AAA;\n",
              "      --disabled-bg-color: #DDD;\n",
              "  }\n",
              "\n",
              "  [theme=dark] .colab-df-quickchart {\n",
              "      --bg-color: #3B4455;\n",
              "      --fill-color: #D2E3FC;\n",
              "      --hover-bg-color: #434B5C;\n",
              "      --hover-fill-color: #FFFFFF;\n",
              "      --disabled-bg-color: #3B4455;\n",
              "      --disabled-fill-color: #666;\n",
              "  }\n",
              "\n",
              "  .colab-df-quickchart {\n",
              "    background-color: var(--bg-color);\n",
              "    border: none;\n",
              "    border-radius: 50%;\n",
              "    cursor: pointer;\n",
              "    display: none;\n",
              "    fill: var(--fill-color);\n",
              "    height: 32px;\n",
              "    padding: 0;\n",
              "    width: 32px;\n",
              "  }\n",
              "\n",
              "  .colab-df-quickchart:hover {\n",
              "    background-color: var(--hover-bg-color);\n",
              "    box-shadow: 0 1px 2px rgba(60, 64, 67, 0.3), 0 1px 3px 1px rgba(60, 64, 67, 0.15);\n",
              "    fill: var(--button-hover-fill-color);\n",
              "  }\n",
              "\n",
              "  .colab-df-quickchart-complete:disabled,\n",
              "  .colab-df-quickchart-complete:disabled:hover {\n",
              "    background-color: var(--disabled-bg-color);\n",
              "    fill: var(--disabled-fill-color);\n",
              "    box-shadow: none;\n",
              "  }\n",
              "\n",
              "  .colab-df-spinner {\n",
              "    border: 2px solid var(--fill-color);\n",
              "    border-color: transparent;\n",
              "    border-bottom-color: var(--fill-color);\n",
              "    animation:\n",
              "      spin 1s steps(1) infinite;\n",
              "  }\n",
              "\n",
              "  @keyframes spin {\n",
              "    0% {\n",
              "      border-color: transparent;\n",
              "      border-bottom-color: var(--fill-color);\n",
              "      border-left-color: var(--fill-color);\n",
              "    }\n",
              "    20% {\n",
              "      border-color: transparent;\n",
              "      border-left-color: var(--fill-color);\n",
              "      border-top-color: var(--fill-color);\n",
              "    }\n",
              "    30% {\n",
              "      border-color: transparent;\n",
              "      border-left-color: var(--fill-color);\n",
              "      border-top-color: var(--fill-color);\n",
              "      border-right-color: var(--fill-color);\n",
              "    }\n",
              "    40% {\n",
              "      border-color: transparent;\n",
              "      border-right-color: var(--fill-color);\n",
              "      border-top-color: var(--fill-color);\n",
              "    }\n",
              "    60% {\n",
              "      border-color: transparent;\n",
              "      border-right-color: var(--fill-color);\n",
              "    }\n",
              "    80% {\n",
              "      border-color: transparent;\n",
              "      border-right-color: var(--fill-color);\n",
              "      border-bottom-color: var(--fill-color);\n",
              "    }\n",
              "    90% {\n",
              "      border-color: transparent;\n",
              "      border-bottom-color: var(--fill-color);\n",
              "    }\n",
              "  }\n",
              "</style>\n",
              "\n",
              "  <script>\n",
              "    async function quickchart(key) {\n",
              "      const quickchartButtonEl =\n",
              "        document.querySelector('#' + key + ' button');\n",
              "      quickchartButtonEl.disabled = true;  // To prevent multiple clicks.\n",
              "      quickchartButtonEl.classList.add('colab-df-spinner');\n",
              "      try {\n",
              "        const charts = await google.colab.kernel.invokeFunction(\n",
              "            'suggestCharts', [key], {});\n",
              "      } catch (error) {\n",
              "        console.error('Error during call to suggestCharts:', error);\n",
              "      }\n",
              "      quickchartButtonEl.classList.remove('colab-df-spinner');\n",
              "      quickchartButtonEl.classList.add('colab-df-quickchart-complete');\n",
              "    }\n",
              "    (() => {\n",
              "      let quickchartButtonEl =\n",
              "        document.querySelector('#df-9c4d257f-531c-4b3a-a190-5ad1b6009ac3 button');\n",
              "      quickchartButtonEl.style.display =\n",
              "        google.colab.kernel.accessAllowed ? 'block' : 'none';\n",
              "    })();\n",
              "  </script>\n",
              "</div>\n",
              "\n",
              "    </div>\n",
              "  </div>\n"
            ],
            "application/vnd.google.colaboratory.intrinsic+json": {
              "type": "dataframe",
              "variable_name": "df_val",
              "summary": "{\n  \"name\": \"df_val\",\n  \"rows\": 500,\n  \"fields\": [\n    {\n      \"column\": \"id\",\n      \"properties\": {\n        \"dtype\": \"number\",\n        \"std\": 29278,\n        \"min\": 1268,\n        \"max\": 98720,\n        \"num_unique_values\": 500,\n        \"samples\": [\n          46085,\n          84510,\n          35840\n        ],\n        \"semantic_type\": \"\",\n        \"description\": \"\"\n      }\n    },\n    {\n      \"column\": \"img\",\n      \"properties\": {\n        \"dtype\": \"string\",\n        \"num_unique_values\": 500,\n        \"samples\": [\n          \"img/46085.png\",\n          \"img/84510.png\",\n          \"img/35840.png\"\n        ],\n        \"semantic_type\": \"\",\n        \"description\": \"\"\n      }\n    },\n    {\n      \"column\": \"label\",\n      \"properties\": {\n        \"dtype\": \"number\",\n        \"std\": 0,\n        \"min\": 0,\n        \"max\": 1,\n        \"num_unique_values\": 2,\n        \"samples\": [\n          0,\n          1\n        ],\n        \"semantic_type\": \"\",\n        \"description\": \"\"\n      }\n    },\n    {\n      \"column\": \"text\",\n      \"properties\": {\n        \"dtype\": \"string\",\n        \"num_unique_values\": 403,\n        \"samples\": [\n          \"bartender how about a nice 12 yr old he boy or girl\",\n          \"when you ask a jewish girl for her number and she start roll her sleeve\"\n        ],\n        \"semantic_type\": \"\",\n        \"description\": \"\"\n      }\n    },\n    {\n      \"column\": \"tokenized_text\",\n      \"properties\": {\n        \"dtype\": \"string\",\n        \"num_unique_values\": 403,\n        \"samples\": [\n          \"['bartender', 'how', 'about', 'a', 'nice', '12', 'yr', 'old', 'he', 'boy', 'or', 'girl']\",\n          \"['when', 'you', 'ask', 'a', 'jewish', 'girl', 'for', 'her', 'number', 'and', 'she', 'start', 'roll', 'her', 'sleeve']\"\n        ],\n        \"semantic_type\": \"\",\n        \"description\": \"\"\n      }\n    },\n    {\n      \"column\": \"fasttext_vectors\",\n      \"properties\": {\n        \"dtype\": \"string\",\n        \"num_unique_values\": 402,\n        \"samples\": [\n          \"[-0.0745614   0.18825029 -0.30117719  0.19901977  0.1467755   0.21862029\\n -0.14427377  0.48416236 -0.18833118 -0.33308305  0.27914964 -0.16359081\\n  0.01767393  0.75507397 -0.30173102 -0.52349241 -0.04665739  0.02758717\\n -0.09055681 -0.48850692 -0.35557744  0.20584323 -0.26592791 -0.03937077\\n -0.31020519 -0.1779731  -0.65675648  0.1912315   0.23757709  0.52197427\\n -0.26160615  0.29391897  0.56310725 -0.123649    0.22465915  0.46158158\\n -0.32858683  0.05980649 -0.40933663 -0.33781989  0.37513259 -0.53413894\\n -0.17987573 -0.32725192 -0.34833918 -0.32027488 -0.10621392 -0.21542881\\n -0.03872263 -0.0708458   0.26264352 -0.12409566  0.02580404 -0.27958655\\n -0.03388187  0.02500901 -0.1522926  -0.03355245 -0.15025263 -0.07472985\\n  0.17239787 -0.43712082  0.14082418  0.77502318  0.21151431  0.54903703\\n  0.17865667  0.02077253 -0.27312945  0.24937181 -0.22072893  0.4628221\\n  0.10704001 -0.37256891  0.578695    0.0402849   0.30648167  0.37829321\\n -0.06574425  0.29861155 -0.05916989 -0.3768479  -0.30396516  0.3358741\\n -0.1489824  -0.38384078  0.41669144 -0.05148248 -0.13552242  0.14797821\\n -0.09399721 -0.28987541  0.0592202   0.04377803 -0.40707832  0.04491551\\n  0.0884298  -0.44152193  0.29350902  0.37342247]\",\n          \"[-0.09512397  0.24433626 -0.37433182  0.24498671  0.19096978  0.2808513\\n -0.17468826  0.59084012 -0.23295422 -0.40626024  0.34502378 -0.19672197\\n  0.02797146  0.92452666 -0.3738801  -0.64985025 -0.05382927  0.03284038\\n -0.10081533 -0.6133716  -0.44085861  0.25748986 -0.32846347 -0.04515431\\n -0.38116638 -0.22529747 -0.80210364  0.22993714  0.29396083  0.63487254\\n -0.33317328  0.36366476  0.69697608 -0.15440219  0.2802161   0.56334366\\n -0.40372615  0.08448549 -0.49231497 -0.41818176  0.47158248 -0.66452244\\n -0.22074806 -0.39980117 -0.4341996  -0.40264297 -0.13221838 -0.27016301\\n -0.047806   -0.08871574  0.32124111 -0.15866958  0.03646271 -0.34776918\\n -0.04819263  0.03231046 -0.19158065 -0.03683912 -0.1834871  -0.10129068\\n  0.21727443 -0.53811784  0.16588371  0.95341688  0.2612868   0.68339406\\n  0.22883896  0.03335215 -0.3333997   0.30586155 -0.27138532  0.56987864\\n  0.12653517 -0.45910748  0.71461173  0.04415492  0.38822411  0.46696595\\n -0.08151912  0.36330772 -0.07480642 -0.46205314 -0.36350763  0.41204436\\n -0.19272999 -0.46931124  0.5234622  -0.06313166 -0.16198663  0.17457314\\n -0.12328781 -0.36325673  0.06796029  0.06127499 -0.50624076  0.05748859\\n  0.11719858 -0.55582231  0.36517373  0.46388015]\"\n        ],\n        \"semantic_type\": \"\",\n        \"description\": \"\"\n      }\n    },\n    {\n      \"column\": \"image_embeddings\",\n      \"properties\": {\n        \"dtype\": \"string\",\n        \"num_unique_values\": 499,\n        \"samples\": [\n          \"[ 0.03036699 -0.03725762 -0.1130378  -0.04138639 -0.10490554  0.04860655\\n -0.01910979 -0.04033201 -0.04014056  0.10403547  0.01829274 -0.00780878\\n -0.09276234 -0.11199406 -0.00032825 -0.00266574 -0.03101984  0.05419514\\n -0.04776023  0.02521356  0.06865516  0.0080078  -0.00415659  0.00113694\\n -0.01767334  0.11399918  0.03576081  0.02737712  0.13920358 -0.01195064\\n -0.01687919  0.04014736 -0.01886764  0.021429   -0.0025295   0.10500945\\n -0.11755817 -0.06072366 -0.07255758 -0.03854701  0.00551138 -0.01195788\\n -0.00777743 -0.02235265 -0.10191721 -0.01949593 -0.00223665  0.06874471\\n  0.03881469  0.06045599  0.01863143  0.04075104  0.10704321  0.02278378\\n -0.0488253   0.03256749  0.06798299 -0.05694962  0.15327811  0.01425753\\n -0.03977838  0.00236319  0.00688106  0.01370201  0.03840078  0.0828006\\n  0.13102281  0.0138414   0.06510086  0.06213418  0.02394245  0.1934469\\n  0.08438122  0.05852273  0.00548181  0.01221486 -0.01634536 -0.0607886\\n -0.01379937 -0.03013713 -0.02812044  0.08027892 -0.07109597 -0.04100584\\n -0.02487519  0.00786996  0.02337412  0.12760064 -0.01985175  0.0364738\\n -0.01992864  0.00339036  0.02396688 -0.00456953 -0.05713596 -0.05843764\\n  0.0376814   0.04936568  0.03038277  0.14135824]\",\n          \"[-6.46580383e-03 -5.65214120e-02 -8.26557353e-02 -3.86315361e-02\\n -1.10530145e-01  3.68652977e-02 -5.21569401e-02 -4.38434109e-02\\n -5.97086027e-02  1.21716283e-01 -6.68711513e-02  1.52424350e-02\\n -1.01603344e-01 -1.29075214e-01  5.41465804e-02 -1.25479460e-01\\n -6.22855723e-02  1.24621935e-01 -3.70452404e-02  1.01448849e-01\\n  1.30663514e-01 -3.14110890e-02  8.59776512e-04 -1.15014799e-02\\n  3.41325551e-02  6.35250509e-02  7.73923099e-02  2.18888670e-02\\n  1.28299490e-01 -9.40601751e-02  8.03917460e-03 -7.06390105e-03\\n  4.88190874e-02 -1.11099537e-02 -2.29407102e-02  1.30258560e-01\\n -1.72430947e-01 -9.76715237e-02 -8.00130740e-02 -6.74388111e-02\\n  7.67069869e-03 -2.14912333e-02 -2.91866921e-02 -6.40927255e-02\\n -6.03253581e-02 -3.88590768e-02 -1.99323799e-02  8.41418356e-02\\n  4.71334234e-02  3.96073833e-02  6.48727491e-02  2.88721062e-02\\n  3.93423103e-02  2.56915353e-02 -5.35885952e-02  2.97286361e-03\\n  4.16213423e-02 -8.17547292e-02  1.28834710e-01  7.97847472e-03\\n -2.00462062e-04 -2.10167747e-02  2.51661707e-02 -2.15606950e-02\\n  2.46277042e-02  1.23957463e-01  1.53750673e-01  2.12619919e-03\\n  1.31095484e-01  3.41220014e-02 -2.16923915e-02  2.49262333e-01\\n  1.23738818e-01  7.45490119e-02 -2.79911272e-02  1.74674988e-02\\n -6.71917796e-02 -6.87395632e-02 -5.12849763e-02 -8.73605609e-02\\n -4.05296385e-02  1.04362167e-01 -9.33328271e-02 -3.98037098e-02\\n -5.97735345e-02  3.94829083e-03  7.43920170e-03  1.32119119e-01\\n -5.32659050e-03  1.01967994e-02 -1.74009260e-02 -2.46806815e-03\\n  2.29898132e-02 -2.24596309e-03 -6.25470206e-02 -4.94052060e-02\\n  6.62069023e-02  8.26746151e-02  5.67824543e-02  1.76024407e-01]\"\n        ],\n        \"semantic_type\": \"\",\n        \"description\": \"\"\n      }\n    }\n  ]\n}"
            }
          },
          "metadata": {},
          "execution_count": 13
        }
      ]
    },
    {
      "cell_type": "markdown",
      "source": [
        "## Converting Text Embeddings into Numpy Array"
      ],
      "metadata": {
        "papermill": {
          "duration": 0.009421,
          "end_time": "2023-04-13T03:50:05.730888",
          "exception": false,
          "start_time": "2023-04-13T03:50:05.721467",
          "status": "completed"
        },
        "tags": [],
        "id": "IvmEKLNwVBp0"
      }
    },
    {
      "cell_type": "code",
      "source": [
        "from decimal import Decimal\n",
        "\n",
        "def cleaning(x):\n",
        "    result = []\n",
        "    for i in x.split(\" \"):\n",
        "        if i not in [\" \", '[', ']' ,\"\"]:\n",
        "#             print(i)\n",
        "            result.append(float(i.replace('\\n', \"\").replace(\"]\", \"\").replace(\"[\", \"\")))\n",
        "    return np.array(result)"
      ],
      "metadata": {
        "papermill": {
          "duration": 0.019834,
          "end_time": "2023-04-13T03:50:05.760517",
          "exception": false,
          "start_time": "2023-04-13T03:50:05.740683",
          "status": "completed"
        },
        "tags": [],
        "execution": {
          "iopub.status.busy": "2023-04-26T18:37:10.316863Z",
          "iopub.execute_input": "2023-04-26T18:37:10.317324Z",
          "iopub.status.idle": "2023-04-26T18:37:10.324278Z",
          "shell.execute_reply.started": "2023-04-26T18:37:10.317269Z",
          "shell.execute_reply": "2023-04-26T18:37:10.322964Z"
        },
        "trusted": true,
        "id": "HI9ebrYaVBp0"
      },
      "execution_count": null,
      "outputs": []
    },
    {
      "cell_type": "code",
      "source": [
        "def getEmbedding(df, col_name):\n",
        "    a = df[col_name].apply(cleaning)\n",
        "    embeddings = []\n",
        "    for i in a:\n",
        "        embeddings.append(i)\n",
        "    embeddings = np.array(embeddings)\n",
        "    print(embeddings.shape)\n",
        "    return embeddings"
      ],
      "metadata": {
        "papermill": {
          "duration": 0.01952,
          "end_time": "2023-04-13T03:50:05.789685",
          "exception": false,
          "start_time": "2023-04-13T03:50:05.770165",
          "status": "completed"
        },
        "tags": [],
        "execution": {
          "iopub.status.busy": "2023-04-26T18:37:10.325861Z",
          "iopub.execute_input": "2023-04-26T18:37:10.326273Z",
          "iopub.status.idle": "2023-04-26T18:37:10.335684Z",
          "shell.execute_reply.started": "2023-04-26T18:37:10.326206Z",
          "shell.execute_reply": "2023-04-26T18:37:10.334438Z"
        },
        "trusted": true,
        "id": "62AMyeIBVBp0"
      },
      "execution_count": null,
      "outputs": []
    },
    {
      "cell_type": "code",
      "source": [
        "text_embeddings_train = getEmbedding(df_train, \"fasttext_vectors\")\n",
        "text_embeddings_val = getEmbedding(df_val, \"fasttext_vectors\")"
      ],
      "metadata": {
        "papermill": {
          "duration": 2.507809,
          "end_time": "2023-04-13T03:50:08.3068",
          "exception": false,
          "start_time": "2023-04-13T03:50:05.798991",
          "status": "completed"
        },
        "tags": [],
        "execution": {
          "iopub.status.busy": "2023-04-26T18:37:10.338612Z",
          "iopub.execute_input": "2023-04-26T18:37:10.33902Z",
          "iopub.status.idle": "2023-04-26T18:37:11.200737Z",
          "shell.execute_reply.started": "2023-04-26T18:37:10.338973Z",
          "shell.execute_reply": "2023-04-26T18:37:11.199265Z"
        },
        "trusted": true,
        "id": "j8eijZWnVBp1",
        "outputId": "1197f2bd-d6a3-4fd6-e83d-12d98820e559",
        "colab": {
          "base_uri": "https://localhost:8080/"
        }
      },
      "execution_count": null,
      "outputs": [
        {
          "output_type": "stream",
          "name": "stdout",
          "text": [
            "(8500, 100)\n",
            "(500, 100)\n"
          ]
        }
      ]
    },
    {
      "cell_type": "markdown",
      "source": [
        "# Converting Image Embeddings into Numpy Array"
      ],
      "metadata": {
        "papermill": {
          "duration": 0.009706,
          "end_time": "2023-04-13T03:50:08.3263",
          "exception": false,
          "start_time": "2023-04-13T03:50:08.316594",
          "status": "completed"
        },
        "tags": [],
        "id": "05xV28URVBp1"
      }
    },
    {
      "cell_type": "code",
      "source": [
        "image_embeddings_train = getEmbedding(df_train, \"image_embeddings\")\n",
        "image_embeddings_val = getEmbedding(df_val, \"image_embeddings\")"
      ],
      "metadata": {
        "papermill": {
          "duration": 0.834449,
          "end_time": "2023-04-13T03:50:09.170526",
          "exception": false,
          "start_time": "2023-04-13T03:50:08.336077",
          "status": "completed"
        },
        "tags": [],
        "execution": {
          "iopub.status.busy": "2023-04-26T18:37:11.2032Z",
          "iopub.execute_input": "2023-04-26T18:37:11.204381Z",
          "iopub.status.idle": "2023-04-26T18:37:12.082424Z",
          "shell.execute_reply.started": "2023-04-26T18:37:11.204336Z",
          "shell.execute_reply": "2023-04-26T18:37:12.08116Z"
        },
        "trusted": true,
        "id": "ATuyIKu9VBp1",
        "outputId": "44c6a1b7-902d-42d5-8c94-934b75b5d002",
        "colab": {
          "base_uri": "https://localhost:8080/"
        }
      },
      "execution_count": null,
      "outputs": [
        {
          "output_type": "stream",
          "name": "stdout",
          "text": [
            "(8500, 100)\n",
            "(500, 100)\n"
          ]
        }
      ]
    },
    {
      "cell_type": "markdown",
      "source": [
        "# Concatenate Text and Image Embeddings\n",
        "\n",
        "embedding = image + text"
      ],
      "metadata": {
        "papermill": {
          "duration": 0.009918,
          "end_time": "2023-04-13T03:50:09.19024",
          "exception": false,
          "start_time": "2023-04-13T03:50:09.180322",
          "status": "completed"
        },
        "tags": [],
        "id": "pYekpJ7NVBp1"
      }
    },
    {
      "cell_type": "code",
      "source": [
        "embeddings_train = np.concatenate([image_embeddings_train, text_embeddings_train], axis = 1)\n",
        "embeddings_train.shape"
      ],
      "metadata": {
        "papermill": {
          "duration": 0.033713,
          "end_time": "2023-04-13T03:50:09.233422",
          "exception": false,
          "start_time": "2023-04-13T03:50:09.199709",
          "status": "completed"
        },
        "tags": [],
        "execution": {
          "iopub.status.busy": "2023-04-26T18:37:12.086446Z",
          "iopub.execute_input": "2023-04-26T18:37:12.086843Z",
          "iopub.status.idle": "2023-04-26T18:37:12.10277Z",
          "shell.execute_reply.started": "2023-04-26T18:37:12.086803Z",
          "shell.execute_reply": "2023-04-26T18:37:12.101396Z"
        },
        "trusted": true,
        "id": "2hjYviW2VBp2",
        "outputId": "12e94ac8-bc6c-40e9-80e1-24ca2fe829b7",
        "colab": {
          "base_uri": "https://localhost:8080/"
        }
      },
      "execution_count": null,
      "outputs": [
        {
          "output_type": "execute_result",
          "data": {
            "text/plain": [
              "(8500, 200)"
            ]
          },
          "metadata": {},
          "execution_count": 18
        }
      ]
    },
    {
      "cell_type": "code",
      "source": [
        "embeddings_val = np.concatenate([image_embeddings_val, text_embeddings_val], axis = 1)\n",
        "embeddings_val.shape"
      ],
      "metadata": {
        "papermill": {
          "duration": 0.02087,
          "end_time": "2023-04-13T03:50:09.264229",
          "exception": false,
          "start_time": "2023-04-13T03:50:09.243359",
          "status": "completed"
        },
        "tags": [],
        "execution": {
          "iopub.status.busy": "2023-04-26T18:37:12.104543Z",
          "iopub.execute_input": "2023-04-26T18:37:12.105871Z",
          "iopub.status.idle": "2023-04-26T18:37:12.11224Z",
          "shell.execute_reply.started": "2023-04-26T18:37:12.105827Z",
          "shell.execute_reply": "2023-04-26T18:37:12.111416Z"
        },
        "trusted": true,
        "id": "_Tzq4j8VVBp2",
        "outputId": "5e0a0365-ad9f-4c6d-d9d0-c539efe7db60",
        "colab": {
          "base_uri": "https://localhost:8080/"
        }
      },
      "execution_count": null,
      "outputs": [
        {
          "output_type": "execute_result",
          "data": {
            "text/plain": [
              "(500, 200)"
            ]
          },
          "metadata": {},
          "execution_count": 19
        }
      ]
    },
    {
      "cell_type": "code",
      "source": [
        "y_train = np.array(df_train.label)\n",
        "y_val = np.array(df_val.label)"
      ],
      "metadata": {
        "papermill": {
          "duration": 0.019,
          "end_time": "2023-04-13T03:50:09.29336",
          "exception": false,
          "start_time": "2023-04-13T03:50:09.27436",
          "status": "completed"
        },
        "tags": [],
        "execution": {
          "iopub.status.busy": "2023-04-26T18:37:12.113436Z",
          "iopub.execute_input": "2023-04-26T18:37:12.114298Z",
          "iopub.status.idle": "2023-04-26T18:37:12.123568Z",
          "shell.execute_reply.started": "2023-04-26T18:37:12.11426Z",
          "shell.execute_reply": "2023-04-26T18:37:12.122213Z"
        },
        "trusted": true,
        "id": "9iCPFOoIVBp2"
      },
      "execution_count": null,
      "outputs": []
    },
    {
      "cell_type": "markdown",
      "source": [
        "## Logistic Regression"
      ],
      "metadata": {
        "papermill": {
          "duration": 0.009778,
          "end_time": "2023-04-13T03:50:09.313439",
          "exception": false,
          "start_time": "2023-04-13T03:50:09.303661",
          "status": "completed"
        },
        "tags": [],
        "id": "TgCFIwJQVBp2"
      }
    },
    {
      "cell_type": "code",
      "source": [
        "from sklearn.linear_model import LogisticRegression"
      ],
      "metadata": {
        "papermill": {
          "duration": 1.023193,
          "end_time": "2023-04-13T03:50:10.346655",
          "exception": false,
          "start_time": "2023-04-13T03:50:09.323462",
          "status": "completed"
        },
        "tags": [],
        "execution": {
          "iopub.status.busy": "2023-04-26T18:37:12.1254Z",
          "iopub.execute_input": "2023-04-26T18:37:12.125864Z",
          "iopub.status.idle": "2023-04-26T18:37:12.245814Z",
          "shell.execute_reply.started": "2023-04-26T18:37:12.125828Z",
          "shell.execute_reply": "2023-04-26T18:37:12.244705Z"
        },
        "trusted": true,
        "id": "RkXzBHwBVBp2"
      },
      "execution_count": null,
      "outputs": []
    },
    {
      "cell_type": "code",
      "source": [
        "lr = LogisticRegression()\n",
        "lr.fit(embeddings_train, y_train)"
      ],
      "metadata": {
        "papermill": {
          "duration": 0.25855,
          "end_time": "2023-04-13T03:50:10.61562",
          "exception": false,
          "start_time": "2023-04-13T03:50:10.35707",
          "status": "completed"
        },
        "tags": [],
        "execution": {
          "iopub.status.busy": "2023-04-26T18:37:12.248217Z",
          "iopub.execute_input": "2023-04-26T18:37:12.249199Z",
          "iopub.status.idle": "2023-04-26T18:37:12.502278Z",
          "shell.execute_reply.started": "2023-04-26T18:37:12.249137Z",
          "shell.execute_reply": "2023-04-26T18:37:12.500878Z"
        },
        "trusted": true,
        "id": "JNfVe9jNVBp3",
        "outputId": "c3eb642a-4799-4308-c82a-223ba66d96d0",
        "colab": {
          "base_uri": "https://localhost:8080/",
          "height": 75
        }
      },
      "execution_count": null,
      "outputs": [
        {
          "output_type": "execute_result",
          "data": {
            "text/plain": [
              "LogisticRegression()"
            ],
            "text/html": [
              "<style>#sk-container-id-1 {color: black;background-color: white;}#sk-container-id-1 pre{padding: 0;}#sk-container-id-1 div.sk-toggleable {background-color: white;}#sk-container-id-1 label.sk-toggleable__label {cursor: pointer;display: block;width: 100%;margin-bottom: 0;padding: 0.3em;box-sizing: border-box;text-align: center;}#sk-container-id-1 label.sk-toggleable__label-arrow:before {content: \"▸\";float: left;margin-right: 0.25em;color: #696969;}#sk-container-id-1 label.sk-toggleable__label-arrow:hover:before {color: black;}#sk-container-id-1 div.sk-estimator:hover label.sk-toggleable__label-arrow:before {color: black;}#sk-container-id-1 div.sk-toggleable__content {max-height: 0;max-width: 0;overflow: hidden;text-align: left;background-color: #f0f8ff;}#sk-container-id-1 div.sk-toggleable__content pre {margin: 0.2em;color: black;border-radius: 0.25em;background-color: #f0f8ff;}#sk-container-id-1 input.sk-toggleable__control:checked~div.sk-toggleable__content {max-height: 200px;max-width: 100%;overflow: auto;}#sk-container-id-1 input.sk-toggleable__control:checked~label.sk-toggleable__label-arrow:before {content: \"▾\";}#sk-container-id-1 div.sk-estimator input.sk-toggleable__control:checked~label.sk-toggleable__label {background-color: #d4ebff;}#sk-container-id-1 div.sk-label input.sk-toggleable__control:checked~label.sk-toggleable__label {background-color: #d4ebff;}#sk-container-id-1 input.sk-hidden--visually {border: 0;clip: rect(1px 1px 1px 1px);clip: rect(1px, 1px, 1px, 1px);height: 1px;margin: -1px;overflow: hidden;padding: 0;position: absolute;width: 1px;}#sk-container-id-1 div.sk-estimator {font-family: monospace;background-color: #f0f8ff;border: 1px dotted black;border-radius: 0.25em;box-sizing: border-box;margin-bottom: 0.5em;}#sk-container-id-1 div.sk-estimator:hover {background-color: #d4ebff;}#sk-container-id-1 div.sk-parallel-item::after {content: \"\";width: 100%;border-bottom: 1px solid gray;flex-grow: 1;}#sk-container-id-1 div.sk-label:hover label.sk-toggleable__label {background-color: #d4ebff;}#sk-container-id-1 div.sk-serial::before {content: \"\";position: absolute;border-left: 1px solid gray;box-sizing: border-box;top: 0;bottom: 0;left: 50%;z-index: 0;}#sk-container-id-1 div.sk-serial {display: flex;flex-direction: column;align-items: center;background-color: white;padding-right: 0.2em;padding-left: 0.2em;position: relative;}#sk-container-id-1 div.sk-item {position: relative;z-index: 1;}#sk-container-id-1 div.sk-parallel {display: flex;align-items: stretch;justify-content: center;background-color: white;position: relative;}#sk-container-id-1 div.sk-item::before, #sk-container-id-1 div.sk-parallel-item::before {content: \"\";position: absolute;border-left: 1px solid gray;box-sizing: border-box;top: 0;bottom: 0;left: 50%;z-index: -1;}#sk-container-id-1 div.sk-parallel-item {display: flex;flex-direction: column;z-index: 1;position: relative;background-color: white;}#sk-container-id-1 div.sk-parallel-item:first-child::after {align-self: flex-end;width: 50%;}#sk-container-id-1 div.sk-parallel-item:last-child::after {align-self: flex-start;width: 50%;}#sk-container-id-1 div.sk-parallel-item:only-child::after {width: 0;}#sk-container-id-1 div.sk-dashed-wrapped {border: 1px dashed gray;margin: 0 0.4em 0.5em 0.4em;box-sizing: border-box;padding-bottom: 0.4em;background-color: white;}#sk-container-id-1 div.sk-label label {font-family: monospace;font-weight: bold;display: inline-block;line-height: 1.2em;}#sk-container-id-1 div.sk-label-container {text-align: center;}#sk-container-id-1 div.sk-container {/* jupyter's `normalize.less` sets `[hidden] { display: none; }` but bootstrap.min.css set `[hidden] { display: none !important; }` so we also need the `!important` here to be able to override the default hidden behavior on the sphinx rendered scikit-learn.org. See: https://github.com/scikit-learn/scikit-learn/issues/21755 */display: inline-block !important;position: relative;}#sk-container-id-1 div.sk-text-repr-fallback {display: none;}</style><div id=\"sk-container-id-1\" class=\"sk-top-container\"><div class=\"sk-text-repr-fallback\"><pre>LogisticRegression()</pre><b>In a Jupyter environment, please rerun this cell to show the HTML representation or trust the notebook. <br />On GitHub, the HTML representation is unable to render, please try loading this page with nbviewer.org.</b></div><div class=\"sk-container\" hidden><div class=\"sk-item\"><div class=\"sk-estimator sk-toggleable\"><input class=\"sk-toggleable__control sk-hidden--visually\" id=\"sk-estimator-id-1\" type=\"checkbox\" checked><label for=\"sk-estimator-id-1\" class=\"sk-toggleable__label sk-toggleable__label-arrow\">LogisticRegression</label><div class=\"sk-toggleable__content\"><pre>LogisticRegression()</pre></div></div></div></div></div>"
            ]
          },
          "metadata": {},
          "execution_count": 22
        }
      ]
    },
    {
      "cell_type": "code",
      "source": [
        "temp_train = lr.predict(embeddings_train)\n",
        "temp_val = lr.predict(embeddings_val)"
      ],
      "metadata": {
        "papermill": {
          "duration": 0.052651,
          "end_time": "2023-04-13T03:50:10.696431",
          "exception": false,
          "start_time": "2023-04-13T03:50:10.64378",
          "status": "completed"
        },
        "tags": [],
        "execution": {
          "iopub.status.busy": "2023-04-26T18:37:12.506346Z",
          "iopub.execute_input": "2023-04-26T18:37:12.507362Z",
          "iopub.status.idle": "2023-04-26T18:37:12.520781Z",
          "shell.execute_reply.started": "2023-04-26T18:37:12.507303Z",
          "shell.execute_reply": "2023-04-26T18:37:12.518587Z"
        },
        "trusted": true,
        "id": "dNKNQRiVVBp3"
      },
      "execution_count": null,
      "outputs": []
    },
    {
      "cell_type": "code",
      "source": [
        "from sklearn.metrics import classification_report"
      ],
      "metadata": {
        "papermill": {
          "duration": 0.045924,
          "end_time": "2023-04-13T03:50:10.77119",
          "exception": false,
          "start_time": "2023-04-13T03:50:10.725266",
          "status": "completed"
        },
        "tags": [],
        "execution": {
          "iopub.status.busy": "2023-04-26T18:37:12.523498Z",
          "iopub.execute_input": "2023-04-26T18:37:12.524319Z",
          "iopub.status.idle": "2023-04-26T18:37:12.530901Z",
          "shell.execute_reply.started": "2023-04-26T18:37:12.524264Z",
          "shell.execute_reply": "2023-04-26T18:37:12.529119Z"
        },
        "trusted": true,
        "id": "R0MMMTHYVBp3"
      },
      "execution_count": null,
      "outputs": []
    },
    {
      "cell_type": "code",
      "source": [
        "print(\"Training Data Report\")\n",
        "print(classification_report(y_train.reshape(-1, 1), temp_train.reshape(-1, 1)))\n",
        "print(f\"MCC Score :- {matthews_corrcoef(y_train.reshape(-1, 1), temp_train.reshape(-1, 1))}\")\n",
        "print(f\"AUC Score :- {roc_auc_score(y_train.reshape(-1, 1), temp_train.reshape(-1, 1))}\")"
      ],
      "metadata": {
        "papermill": {
          "duration": 0.044512,
          "end_time": "2023-04-13T03:50:10.843705",
          "exception": false,
          "start_time": "2023-04-13T03:50:10.799193",
          "status": "completed"
        },
        "tags": [],
        "execution": {
          "iopub.status.busy": "2023-04-26T18:37:12.533404Z",
          "iopub.execute_input": "2023-04-26T18:37:12.534252Z",
          "iopub.status.idle": "2023-04-26T18:37:12.586165Z",
          "shell.execute_reply.started": "2023-04-26T18:37:12.53418Z",
          "shell.execute_reply": "2023-04-26T18:37:12.584119Z"
        },
        "trusted": true,
        "id": "ncy-GmglVBp3",
        "outputId": "aa273437-255c-4b8e-cae1-306648ace668",
        "colab": {
          "base_uri": "https://localhost:8080/"
        }
      },
      "execution_count": null,
      "outputs": [
        {
          "output_type": "stream",
          "name": "stdout",
          "text": [
            "Training Data Report\n",
            "              precision    recall  f1-score   support\n",
            "\n",
            "           0       0.67      0.93      0.78      5450\n",
            "           1       0.58      0.16      0.25      3050\n",
            "\n",
            "    accuracy                           0.66      8500\n",
            "   macro avg       0.62      0.55      0.51      8500\n",
            "weighted avg       0.64      0.66      0.59      8500\n",
            "\n",
            "MCC Score :- 0.1535651670298688\n",
            "AUC Score :- 0.547922995939239\n"
          ]
        }
      ]
    },
    {
      "cell_type": "code",
      "source": [
        "a = confusion_matrix(y_train.reshape(-1, 1), temp_train.reshape(-1, 1))\n",
        "disp = ConfusionMatrixDisplay(a, display_labels = [\"Non-Hateful\", \"Hateful\"])\n",
        "disp.plot()"
      ],
      "metadata": {
        "execution": {
          "iopub.status.busy": "2023-04-26T18:37:12.594507Z",
          "iopub.execute_input": "2023-04-26T18:37:12.595513Z",
          "iopub.status.idle": "2023-04-26T18:37:12.950792Z",
          "shell.execute_reply.started": "2023-04-26T18:37:12.595433Z",
          "shell.execute_reply": "2023-04-26T18:37:12.949788Z"
        },
        "trusted": true,
        "id": "aRsvBTJMVBp4"
      },
      "execution_count": null,
      "outputs": []
    },
    {
      "cell_type": "code",
      "source": [],
      "metadata": {
        "id": "xnmhEAyBVBp4"
      },
      "execution_count": null,
      "outputs": []
    },
    {
      "cell_type": "code",
      "source": [
        "print(\"Validation Data Report\")\n",
        "print(classification_report(y_val.reshape(-1, 1), temp_val.reshape(-1, 1)))\n",
        "print(f\"MCC Score :- {matthews_corrcoef(y_val.reshape(-1, 1), temp_val.reshape(-1, 1))}\")\n",
        "print(f\"AUC Score :- {roc_auc_score(y_val.reshape(-1, 1), temp_val.reshape(-1, 1))}\")"
      ],
      "metadata": {
        "execution": {
          "iopub.status.busy": "2023-04-26T18:37:12.952358Z",
          "iopub.execute_input": "2023-04-26T18:37:12.953557Z",
          "iopub.status.idle": "2023-04-26T18:37:12.971105Z",
          "shell.execute_reply.started": "2023-04-26T18:37:12.953503Z",
          "shell.execute_reply": "2023-04-26T18:37:12.968749Z"
        },
        "trusted": true,
        "id": "1k7cdvMOVBp4",
        "outputId": "75af9002-09e8-4adb-c0d2-7c9ce336801b",
        "colab": {
          "base_uri": "https://localhost:8080/"
        }
      },
      "execution_count": null,
      "outputs": [
        {
          "output_type": "stream",
          "name": "stdout",
          "text": [
            "Validation Data Report\n",
            "              precision    recall  f1-score   support\n",
            "\n",
            "           0       0.50      0.94      0.65       250\n",
            "           1       0.52      0.06      0.11       250\n",
            "\n",
            "    accuracy                           0.50       500\n",
            "   macro avg       0.51      0.50      0.38       500\n",
            "weighted avg       0.51      0.50      0.38       500\n",
            "\n",
            "MCC Score :- 0.008293402278700334\n",
            "AUC Score :- 0.502\n"
          ]
        }
      ]
    },
    {
      "cell_type": "code",
      "source": [
        "a = confusion_matrix(y_val.reshape(-1, 1), temp_val.reshape(-1, 1))\n",
        "disp = ConfusionMatrixDisplay(a, display_labels = [\"Non-Hateful\", \"Hateful\"])\n",
        "disp.plot()"
      ],
      "metadata": {
        "execution": {
          "iopub.status.busy": "2023-04-26T18:37:12.973242Z",
          "iopub.execute_input": "2023-04-26T18:37:12.973778Z",
          "iopub.status.idle": "2023-04-26T18:37:13.287701Z",
          "shell.execute_reply.started": "2023-04-26T18:37:12.973709Z",
          "shell.execute_reply": "2023-04-26T18:37:13.286436Z"
        },
        "trusted": true,
        "id": "JN860awIVBp4"
      },
      "execution_count": null,
      "outputs": []
    },
    {
      "cell_type": "code",
      "source": [],
      "metadata": {
        "id": "O5ACvadBVBp5"
      },
      "execution_count": null,
      "outputs": []
    },
    {
      "cell_type": "markdown",
      "source": [
        "## Naive Bayes"
      ],
      "metadata": {
        "papermill": {
          "duration": 0.010599,
          "end_time": "2023-04-13T03:50:10.864853",
          "exception": false,
          "start_time": "2023-04-13T03:50:10.854254",
          "status": "completed"
        },
        "tags": [],
        "id": "mpc53VN9VBp5"
      }
    },
    {
      "cell_type": "code",
      "source": [
        "from sklearn.naive_bayes import GaussianNB\n",
        "\n",
        "nb = GaussianNB()\n",
        "nb.fit(embeddings_train, y_train)"
      ],
      "metadata": {
        "papermill": {
          "duration": 0.07999,
          "end_time": "2023-04-13T03:50:10.955897",
          "exception": false,
          "start_time": "2023-04-13T03:50:10.875907",
          "status": "completed"
        },
        "tags": [],
        "execution": {
          "iopub.status.busy": "2023-04-26T18:37:13.289297Z",
          "iopub.execute_input": "2023-04-26T18:37:13.29173Z",
          "iopub.status.idle": "2023-04-26T18:37:13.341298Z",
          "shell.execute_reply.started": "2023-04-26T18:37:13.291679Z",
          "shell.execute_reply": "2023-04-26T18:37:13.339097Z"
        },
        "trusted": true,
        "id": "S0NXkEh7VBp5",
        "outputId": "0587df83-e876-4c4d-e4c4-571636462a70",
        "colab": {
          "base_uri": "https://localhost:8080/",
          "height": 75
        }
      },
      "execution_count": null,
      "outputs": [
        {
          "output_type": "execute_result",
          "data": {
            "text/plain": [
              "GaussianNB()"
            ],
            "text/html": [
              "<style>#sk-container-id-2 {color: black;background-color: white;}#sk-container-id-2 pre{padding: 0;}#sk-container-id-2 div.sk-toggleable {background-color: white;}#sk-container-id-2 label.sk-toggleable__label {cursor: pointer;display: block;width: 100%;margin-bottom: 0;padding: 0.3em;box-sizing: border-box;text-align: center;}#sk-container-id-2 label.sk-toggleable__label-arrow:before {content: \"▸\";float: left;margin-right: 0.25em;color: #696969;}#sk-container-id-2 label.sk-toggleable__label-arrow:hover:before {color: black;}#sk-container-id-2 div.sk-estimator:hover label.sk-toggleable__label-arrow:before {color: black;}#sk-container-id-2 div.sk-toggleable__content {max-height: 0;max-width: 0;overflow: hidden;text-align: left;background-color: #f0f8ff;}#sk-container-id-2 div.sk-toggleable__content pre {margin: 0.2em;color: black;border-radius: 0.25em;background-color: #f0f8ff;}#sk-container-id-2 input.sk-toggleable__control:checked~div.sk-toggleable__content {max-height: 200px;max-width: 100%;overflow: auto;}#sk-container-id-2 input.sk-toggleable__control:checked~label.sk-toggleable__label-arrow:before {content: \"▾\";}#sk-container-id-2 div.sk-estimator input.sk-toggleable__control:checked~label.sk-toggleable__label {background-color: #d4ebff;}#sk-container-id-2 div.sk-label input.sk-toggleable__control:checked~label.sk-toggleable__label {background-color: #d4ebff;}#sk-container-id-2 input.sk-hidden--visually {border: 0;clip: rect(1px 1px 1px 1px);clip: rect(1px, 1px, 1px, 1px);height: 1px;margin: -1px;overflow: hidden;padding: 0;position: absolute;width: 1px;}#sk-container-id-2 div.sk-estimator {font-family: monospace;background-color: #f0f8ff;border: 1px dotted black;border-radius: 0.25em;box-sizing: border-box;margin-bottom: 0.5em;}#sk-container-id-2 div.sk-estimator:hover {background-color: #d4ebff;}#sk-container-id-2 div.sk-parallel-item::after {content: \"\";width: 100%;border-bottom: 1px solid gray;flex-grow: 1;}#sk-container-id-2 div.sk-label:hover label.sk-toggleable__label {background-color: #d4ebff;}#sk-container-id-2 div.sk-serial::before {content: \"\";position: absolute;border-left: 1px solid gray;box-sizing: border-box;top: 0;bottom: 0;left: 50%;z-index: 0;}#sk-container-id-2 div.sk-serial {display: flex;flex-direction: column;align-items: center;background-color: white;padding-right: 0.2em;padding-left: 0.2em;position: relative;}#sk-container-id-2 div.sk-item {position: relative;z-index: 1;}#sk-container-id-2 div.sk-parallel {display: flex;align-items: stretch;justify-content: center;background-color: white;position: relative;}#sk-container-id-2 div.sk-item::before, #sk-container-id-2 div.sk-parallel-item::before {content: \"\";position: absolute;border-left: 1px solid gray;box-sizing: border-box;top: 0;bottom: 0;left: 50%;z-index: -1;}#sk-container-id-2 div.sk-parallel-item {display: flex;flex-direction: column;z-index: 1;position: relative;background-color: white;}#sk-container-id-2 div.sk-parallel-item:first-child::after {align-self: flex-end;width: 50%;}#sk-container-id-2 div.sk-parallel-item:last-child::after {align-self: flex-start;width: 50%;}#sk-container-id-2 div.sk-parallel-item:only-child::after {width: 0;}#sk-container-id-2 div.sk-dashed-wrapped {border: 1px dashed gray;margin: 0 0.4em 0.5em 0.4em;box-sizing: border-box;padding-bottom: 0.4em;background-color: white;}#sk-container-id-2 div.sk-label label {font-family: monospace;font-weight: bold;display: inline-block;line-height: 1.2em;}#sk-container-id-2 div.sk-label-container {text-align: center;}#sk-container-id-2 div.sk-container {/* jupyter's `normalize.less` sets `[hidden] { display: none; }` but bootstrap.min.css set `[hidden] { display: none !important; }` so we also need the `!important` here to be able to override the default hidden behavior on the sphinx rendered scikit-learn.org. See: https://github.com/scikit-learn/scikit-learn/issues/21755 */display: inline-block !important;position: relative;}#sk-container-id-2 div.sk-text-repr-fallback {display: none;}</style><div id=\"sk-container-id-2\" class=\"sk-top-container\"><div class=\"sk-text-repr-fallback\"><pre>GaussianNB()</pre><b>In a Jupyter environment, please rerun this cell to show the HTML representation or trust the notebook. <br />On GitHub, the HTML representation is unable to render, please try loading this page with nbviewer.org.</b></div><div class=\"sk-container\" hidden><div class=\"sk-item\"><div class=\"sk-estimator sk-toggleable\"><input class=\"sk-toggleable__control sk-hidden--visually\" id=\"sk-estimator-id-2\" type=\"checkbox\" checked><label for=\"sk-estimator-id-2\" class=\"sk-toggleable__label sk-toggleable__label-arrow\">GaussianNB</label><div class=\"sk-toggleable__content\"><pre>GaussianNB()</pre></div></div></div></div></div>"
            ]
          },
          "metadata": {},
          "execution_count": 27
        }
      ]
    },
    {
      "cell_type": "code",
      "source": [
        "temp_train = nb.predict(embeddings_train)\n",
        "temp_val = nb.predict(embeddings_val)"
      ],
      "metadata": {
        "papermill": {
          "duration": 0.022683,
          "end_time": "2023-04-13T03:50:10.989345",
          "exception": false,
          "start_time": "2023-04-13T03:50:10.966662",
          "status": "completed"
        },
        "tags": [],
        "execution": {
          "iopub.status.busy": "2023-04-26T18:37:13.342942Z",
          "iopub.execute_input": "2023-04-26T18:37:13.344584Z",
          "iopub.status.idle": "2023-04-26T18:37:13.383259Z",
          "shell.execute_reply.started": "2023-04-26T18:37:13.344528Z",
          "shell.execute_reply": "2023-04-26T18:37:13.381866Z"
        },
        "trusted": true,
        "id": "uYwS0EdQVBp5"
      },
      "execution_count": null,
      "outputs": []
    },
    {
      "cell_type": "code",
      "source": [
        "print(\"Training Data Report\")\n",
        "print(classification_report(y_train.reshape(-1, 1), temp_train.reshape(-1, 1)))\n",
        "print(f\"MCC Score :- {matthews_corrcoef(y_train.reshape(-1, 1), temp_train.reshape(-1, 1))}\")\n",
        "print(f\"AUC Score :- {roc_auc_score(y_train.reshape(-1, 1), temp_train.reshape(-1, 1))}\")"
      ],
      "metadata": {
        "papermill": {
          "duration": 0.025399,
          "end_time": "2023-04-13T03:50:11.025245",
          "exception": false,
          "start_time": "2023-04-13T03:50:10.999846",
          "status": "completed"
        },
        "tags": [],
        "execution": {
          "iopub.status.busy": "2023-04-26T18:37:13.384716Z",
          "iopub.execute_input": "2023-04-26T18:37:13.385054Z",
          "iopub.status.idle": "2023-04-26T18:37:13.417138Z",
          "shell.execute_reply.started": "2023-04-26T18:37:13.385022Z",
          "shell.execute_reply": "2023-04-26T18:37:13.415811Z"
        },
        "trusted": true,
        "id": "QkrjJC0GVBp5",
        "outputId": "7458ef8e-57df-4e0f-a950-673df3748ac1",
        "colab": {
          "base_uri": "https://localhost:8080/"
        }
      },
      "execution_count": null,
      "outputs": [
        {
          "output_type": "stream",
          "name": "stdout",
          "text": [
            "Training Data Report\n",
            "              precision    recall  f1-score   support\n",
            "\n",
            "           0       0.75      0.41      0.53      5450\n",
            "           1       0.42      0.76      0.54      3050\n",
            "\n",
            "    accuracy                           0.54      8500\n",
            "   macro avg       0.59      0.59      0.54      8500\n",
            "weighted avg       0.63      0.54      0.53      8500\n",
            "\n",
            "MCC Score :- 0.17184097519657449\n",
            "AUC Score :- 0.5854128440366972\n"
          ]
        }
      ]
    },
    {
      "cell_type": "code",
      "source": [
        "a = confusion_matrix(y_train.reshape(-1, 1), temp_train.reshape(-1, 1))\n",
        "disp = ConfusionMatrixDisplay(a, display_labels = [\"Non-Hateful\", \"Hateful\"])\n",
        "disp.plot()\n"
      ],
      "metadata": {
        "execution": {
          "iopub.status.busy": "2023-04-26T18:37:13.418759Z",
          "iopub.execute_input": "2023-04-26T18:37:13.419468Z",
          "iopub.status.idle": "2023-04-26T18:37:13.712423Z",
          "shell.execute_reply.started": "2023-04-26T18:37:13.419421Z",
          "shell.execute_reply": "2023-04-26T18:37:13.711243Z"
        },
        "trusted": true,
        "id": "WHEWpkbhVBp5"
      },
      "execution_count": null,
      "outputs": []
    },
    {
      "cell_type": "code",
      "source": [],
      "metadata": {
        "id": "0CE90mL4VBp6"
      },
      "execution_count": null,
      "outputs": []
    },
    {
      "cell_type": "code",
      "source": [
        "print(\"Validation Data Report\")\n",
        "print(classification_report(y_val.reshape(-1, 1), temp_val.reshape(-1, 1)))\n",
        "print(f\"MCC Score :- {matthews_corrcoef(y_val.reshape(-1, 1), temp_val.reshape(-1, 1))}\")\n",
        "print(f\"AUC Score :- {roc_auc_score(y_val.reshape(-1, 1), temp_val.reshape(-1, 1))}\")"
      ],
      "metadata": {
        "papermill": {
          "duration": 0.010171,
          "end_time": "2023-04-13T03:50:11.04592",
          "exception": false,
          "start_time": "2023-04-13T03:50:11.035749",
          "status": "completed"
        },
        "tags": [],
        "execution": {
          "iopub.status.busy": "2023-04-26T18:37:13.713827Z",
          "iopub.execute_input": "2023-04-26T18:37:13.714449Z",
          "iopub.status.idle": "2023-04-26T18:37:13.732852Z",
          "shell.execute_reply.started": "2023-04-26T18:37:13.714376Z",
          "shell.execute_reply": "2023-04-26T18:37:13.731329Z"
        },
        "trusted": true,
        "id": "wXrcoiGSVBp6",
        "outputId": "c5d3cc5e-fb05-4d8e-c1b1-bf834d39b1a4",
        "colab": {
          "base_uri": "https://localhost:8080/"
        }
      },
      "execution_count": null,
      "outputs": [
        {
          "output_type": "stream",
          "name": "stdout",
          "text": [
            "Validation Data Report\n",
            "              precision    recall  f1-score   support\n",
            "\n",
            "           0       0.51      0.33      0.40       250\n",
            "           1       0.50      0.68      0.58       250\n",
            "\n",
            "    accuracy                           0.51       500\n",
            "   macro avg       0.51      0.51      0.49       500\n",
            "weighted avg       0.51      0.51      0.49       500\n",
            "\n",
            "MCC Score :- 0.012841284490609506\n",
            "AUC Score :- 0.506\n"
          ]
        }
      ]
    },
    {
      "cell_type": "code",
      "source": [
        "a = confusion_matrix(y_val.reshape(-1, 1), temp_val.reshape(-1, 1))\n",
        "disp = ConfusionMatrixDisplay(a, display_labels = [\"Non-Hateful\", \"Hateful\"])\n",
        "disp.plot()"
      ],
      "metadata": {
        "papermill": {
          "duration": 0.010123,
          "end_time": "2023-04-13T03:50:11.066229",
          "exception": false,
          "start_time": "2023-04-13T03:50:11.056106",
          "status": "completed"
        },
        "tags": [],
        "execution": {
          "iopub.status.busy": "2023-04-26T18:37:13.734302Z",
          "iopub.execute_input": "2023-04-26T18:37:13.734686Z",
          "iopub.status.idle": "2023-04-26T18:37:14.028103Z",
          "shell.execute_reply.started": "2023-04-26T18:37:13.73465Z",
          "shell.execute_reply": "2023-04-26T18:37:14.026689Z"
        },
        "trusted": true,
        "id": "7NlpHYy6VBp6",
        "outputId": "cf7a3b7e-20c5-410d-9fd5-4da1c13b23b3",
        "colab": {
          "base_uri": "https://localhost:8080/",
          "height": 466
        }
      },
      "execution_count": null,
      "outputs": [
        {
          "output_type": "execute_result",
          "data": {
            "text/plain": [
              "<sklearn.metrics._plot.confusion_matrix.ConfusionMatrixDisplay at 0x7b6b07f7e1d0>"
            ]
          },
          "metadata": {},
          "execution_count": 31
        },
        {
          "output_type": "display_data",
          "data": {
            "text/plain": [
              "<Figure size 640x480 with 2 Axes>"
            ],
            "image/png": "[encoded data removed]"
          },
          "metadata": {}
        }
      ]
    },
    {
      "cell_type": "code",
      "source": [],
      "metadata": {
        "papermill": {
          "duration": 0.010163,
          "end_time": "2023-04-13T03:50:11.086454",
          "exception": false,
          "start_time": "2023-04-13T03:50:11.076291",
          "status": "completed"
        },
        "tags": [],
        "id": "R_cDYja9VBp-"
      },
      "execution_count": null,
      "outputs": []
    },
    {
      "cell_type": "code",
      "source": [],
      "metadata": {
        "papermill": {
          "duration": 0.010261,
          "end_time": "2023-04-13T03:50:11.107476",
          "exception": false,
          "start_time": "2023-04-13T03:50:11.097215",
          "status": "completed"
        },
        "tags": [],
        "id": "V1zyVlxEVBp-"
      },
      "execution_count": null,
      "outputs": []
    },
    {
      "cell_type": "code",
      "source": [],
      "metadata": {
        "papermill": {
          "duration": 0.010245,
          "end_time": "2023-04-13T03:50:11.127978",
          "exception": false,
          "start_time": "2023-04-13T03:50:11.117733",
          "status": "completed"
        },
        "tags": [],
        "id": "F344-V1NVBp-"
      },
      "execution_count": null,
      "outputs": []
    },
    {
      "cell_type": "code",
      "source": [],
      "metadata": {
        "papermill": {
          "duration": 0.010095,
          "end_time": "2023-04-13T03:50:11.148414",
          "exception": false,
          "start_time": "2023-04-13T03:50:11.138319",
          "status": "completed"
        },
        "tags": [],
        "id": "XHeh1173VBp-"
      },
      "execution_count": null,
      "outputs": []
    },
    {
      "cell_type": "code",
      "source": [],
      "metadata": {
        "papermill": {
          "duration": 0.010211,
          "end_time": "2023-04-13T03:50:11.169069",
          "exception": false,
          "start_time": "2023-04-13T03:50:11.158858",
          "status": "completed"
        },
        "tags": [],
        "id": "6zXIZrDXVBp-"
      },
      "execution_count": null,
      "outputs": []
    },
    {
      "cell_type": "code",
      "source": [],
      "metadata": {
        "papermill": {
          "duration": 0.010158,
          "end_time": "2023-04-13T03:50:11.189445",
          "exception": false,
          "start_time": "2023-04-13T03:50:11.179287",
          "status": "completed"
        },
        "tags": [],
        "id": "8YDUBxSUVBp_"
      },
      "execution_count": null,
      "outputs": []
    },
    {
      "cell_type": "code",
      "source": [],
      "metadata": {
        "papermill": {
          "duration": 0.009955,
          "end_time": "2023-04-13T03:50:11.209769",
          "exception": false,
          "start_time": "2023-04-13T03:50:11.199814",
          "status": "completed"
        },
        "tags": [],
        "id": "ShYO8bIjVBp_"
      },
      "execution_count": null,
      "outputs": []
    },
    {
      "cell_type": "code",
      "source": [],
      "metadata": {
        "papermill": {
          "duration": 0.010009,
          "end_time": "2023-04-13T03:50:11.230204",
          "exception": false,
          "start_time": "2023-04-13T03:50:11.220195",
          "status": "completed"
        },
        "tags": [],
        "id": "Y0hMTDaJVBp_"
      },
      "execution_count": null,
      "outputs": []
    },
    {
      "cell_type": "code",
      "source": [],
      "metadata": {
        "papermill": {
          "duration": 0.009961,
          "end_time": "2023-04-13T03:50:11.250134",
          "exception": false,
          "start_time": "2023-04-13T03:50:11.240173",
          "status": "completed"
        },
        "tags": [],
        "id": "yctkXsziVBp_"
      },
      "execution_count": null,
      "outputs": []
    },
    {
      "cell_type": "code",
      "source": [],
      "metadata": {
        "papermill": {
          "duration": 0.009971,
          "end_time": "2023-04-13T03:50:11.270283",
          "exception": false,
          "start_time": "2023-04-13T03:50:11.260312",
          "status": "completed"
        },
        "tags": [],
        "id": "cghBU5Q_VBp_"
      },
      "execution_count": null,
      "outputs": []
    },
    {
      "cell_type": "code",
      "source": [],
      "metadata": {
        "papermill": {
          "duration": 0.010075,
          "end_time": "2023-04-13T03:50:11.290609",
          "exception": false,
          "start_time": "2023-04-13T03:50:11.280534",
          "status": "completed"
        },
        "tags": [],
        "id": "uDg4a5SWVBp_"
      },
      "execution_count": null,
      "outputs": []
    },
    {
      "cell_type": "code",
      "source": [],
      "metadata": {
        "papermill": {
          "duration": 0.01023,
          "end_time": "2023-04-13T03:50:11.311207",
          "exception": false,
          "start_time": "2023-04-13T03:50:11.300977",
          "status": "completed"
        },
        "tags": [],
        "id": "06Cw4IjkVBp_"
      },
      "execution_count": null,
      "outputs": []
    },
    {
      "cell_type": "code",
      "source": [],
      "metadata": {
        "papermill": {
          "duration": 0.01034,
          "end_time": "2023-04-13T03:50:11.332057",
          "exception": false,
          "start_time": "2023-04-13T03:50:11.321717",
          "status": "completed"
        },
        "tags": [],
        "id": "MjYXyJmIVBp_"
      },
      "execution_count": null,
      "outputs": []
    },
    {
      "cell_type": "code",
      "source": [],
      "metadata": {
        "papermill": {
          "duration": 0.010045,
          "end_time": "2023-04-13T03:50:11.352665",
          "exception": false,
          "start_time": "2023-04-13T03:50:11.34262",
          "status": "completed"
        },
        "tags": [],
        "id": "O21C4EHhVBp_"
      },
      "execution_count": null,
      "outputs": []
    },
    {
      "cell_type": "code",
      "source": [],
      "metadata": {
        "papermill": {
          "duration": 0.010468,
          "end_time": "2023-04-13T03:50:11.374231",
          "exception": false,
          "start_time": "2023-04-13T03:50:11.363763",
          "status": "completed"
        },
        "tags": [],
        "id": "SlaKiZC2VBp_"
      },
      "execution_count": null,
      "outputs": []
    },
    {
      "cell_type": "code",
      "source": [],
      "metadata": {
        "papermill": {
          "duration": 0.010206,
          "end_time": "2023-04-13T03:50:11.395124",
          "exception": false,
          "start_time": "2023-04-13T03:50:11.384918",
          "status": "completed"
        },
        "tags": [],
        "id": "njBNHQgPVBp_"
      },
      "execution_count": null,
      "outputs": []
    },
    {
      "cell_type": "code",
      "source": [],
      "metadata": {
        "papermill": {
          "duration": 0.010482,
          "end_time": "2023-04-13T03:50:11.41621",
          "exception": false,
          "start_time": "2023-04-13T03:50:11.405728",
          "status": "completed"
        },
        "tags": [],
        "id": "q3hwuOkzVBqA"
      },
      "execution_count": null,
      "outputs": []
    },
    {
      "cell_type": "code",
      "source": [],
      "metadata": {
        "papermill": {
          "duration": 0.010142,
          "end_time": "2023-04-13T03:50:11.436932",
          "exception": false,
          "start_time": "2023-04-13T03:50:11.42679",
          "status": "completed"
        },
        "tags": [],
        "id": "MlrfR-fBVBqA"
      },
      "execution_count": null,
      "outputs": []
    },
    {
      "cell_type": "code",
      "source": [],
      "metadata": {
        "papermill": {
          "duration": 0.010067,
          "end_time": "2023-04-13T03:50:11.457521",
          "exception": false,
          "start_time": "2023-04-13T03:50:11.447454",
          "status": "completed"
        },
        "tags": [],
        "id": "43rf_sX_VBqA"
      },
      "execution_count": null,
      "outputs": []
    }
  ]
}