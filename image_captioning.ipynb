{
  "metadata": {
    "kernelspec": {
      "language": "python",
      "display_name": "Python 3",
      "name": "python3"
    },
    "language_info": {
      "name": "python",
      "version": "3.7.10",
      "mimetype": "text/x-python",
      "codemirror_mode": {
        "name": "ipython",
        "version": 3
      },
      "pygments_lexer": "ipython3",
      "nbconvert_exporter": "python",
      "file_extension": ".py"
    },
    "kaggle": {
      "accelerator": "none",
      "dataSources": [
        {
          "sourceId": 1111676,
          "sourceType": "datasetVersion",
          "datasetId": 623289
        },
        {
          "sourceId": 1246182,
          "sourceType": "datasetVersion",
          "datasetId": 715500
        },
        {
          "sourceId": 1634802,
          "sourceType": "datasetVersion",
          "datasetId": 966538
        }
      ],
      "dockerImageVersionId": 30097,
      "isInternetEnabled": true,
      "language": "python",
      "sourceType": "notebook",
      "isGpuEnabled": false
    },
    "colab": {
      "provenance": [],
      "include_colab_link": true
    }
  },
  "nbformat_minor": 0,
  "nbformat": 4,
  "cells": [
    {
      "cell_type": "markdown",
      "metadata": {
        "id": "view-in-github",
        "colab_type": "text"
      },
      "source": [
        "<a href=\"https://colab.research.google.com/github/riyaa14/BrainDead_Hackathon/blob/main/image_captioning.ipynb\" target=\"_parent\"><img src=\"https://colab.research.google.com/assets/colab-badge.svg\" alt=\"Open In Colab\"/></a>"
      ]
    },
    {
      "cell_type": "code",
      "source": [
        "import pandas as pd\n",
        "import numpy as np\n",
        "from collections import Counter\n",
        "import torchvision\n",
        "from torchvision import transforms\n",
        "from PIL import Image\n",
        "from torch.utils.data import Dataset, DataLoader\n",
        "import torch\n",
        "import torch.nn as nn\n",
        "from torch.autograd import Variable\n",
        "from tqdm.notebook import tqdm\n",
        "import matplotlib.pyplot as plt\n",
        "import math\n",
        "import torch.nn.functional as F\n",
        "import pickle\n",
        "import gc\n",
        "import random\n",
        "pd.set_option('display.max_colwidth', None)"
      ],
      "metadata": {
        "_uuid": "8f2839f25d086af736a60e9eeb907d3b93b6e0e5",
        "_cell_guid": "b1076dfc-b9ad-4769-8c92-a6c4dae69d19",
        "execution": {
          "iopub.status.busy": "2023-12-02T10:51:37.168851Z",
          "iopub.execute_input": "2023-12-02T10:51:37.169225Z",
          "iopub.status.idle": "2023-12-02T10:51:38.554747Z",
          "shell.execute_reply.started": "2023-12-02T10:51:37.169143Z",
          "shell.execute_reply": "2023-12-02T10:51:38.553906Z"
        },
        "trusted": true,
        "id": "jRsk4IJRi8L2"
      },
      "execution_count": null,
      "outputs": []
    },
    {
      "cell_type": "code",
      "source": [
        "df = pd.read_csv(\"../input/flickr8k/captions.txt\", sep=',')\n",
        "print(len(df))\n",
        "display(df.head(3))"
      ],
      "metadata": {
        "execution": {
          "iopub.status.busy": "2023-12-02T10:51:38.556059Z",
          "iopub.execute_input": "2023-12-02T10:51:38.556317Z",
          "iopub.status.idle": "2023-12-02T10:51:38.684704Z",
          "shell.execute_reply.started": "2023-12-02T10:51:38.556292Z",
          "shell.execute_reply": "2023-12-02T10:51:38.683823Z"
        },
        "trusted": true,
        "id": "ohtvVQj1i8L7"
      },
      "execution_count": null,
      "outputs": []
    },
    {
      "cell_type": "code",
      "source": [
        "def remove_single_char_word(word_list):\n",
        "    lst = []\n",
        "    for word in word_list:\n",
        "        if len(word)>1:\n",
        "            lst.append(word)\n",
        "\n",
        "    return lst"
      ],
      "metadata": {
        "execution": {
          "iopub.status.busy": "2023-12-02T10:51:38.686461Z",
          "iopub.execute_input": "2023-12-02T10:51:38.686755Z",
          "iopub.status.idle": "2023-12-02T10:51:38.691132Z",
          "shell.execute_reply.started": "2023-12-02T10:51:38.686728Z",
          "shell.execute_reply": "2023-12-02T10:51:38.690264Z"
        },
        "trusted": true,
        "id": "GCg-lM6Ii8L9"
      },
      "execution_count": null,
      "outputs": []
    },
    {
      "cell_type": "code",
      "source": [
        "df['cleaned_caption'] = df['caption'].apply(lambda caption : ['<start>'] + [word.lower() if word.isalpha() else '' for word in caption.split(\" \")] + ['<end>'])\n",
        "df['cleaned_caption']  = df['cleaned_caption'].apply(lambda x : remove_single_char_word(x))"
      ],
      "metadata": {
        "execution": {
          "iopub.status.busy": "2023-12-02T10:51:38.69264Z",
          "iopub.execute_input": "2023-12-02T10:51:38.692961Z",
          "iopub.status.idle": "2023-12-02T10:51:39.169776Z",
          "shell.execute_reply.started": "2023-12-02T10:51:38.692925Z",
          "shell.execute_reply": "2023-12-02T10:51:39.169Z"
        },
        "trusted": true,
        "id": "oTVFdgYji8L9"
      },
      "execution_count": null,
      "outputs": []
    },
    {
      "cell_type": "code",
      "source": [
        "df['seq_len'] = df['cleaned_caption'].apply(lambda x : len(x))\n",
        "max_seq_len = df['seq_len'].max()\n",
        "print(max_seq_len)"
      ],
      "metadata": {
        "execution": {
          "iopub.status.busy": "2023-12-02T10:51:39.170938Z",
          "iopub.execute_input": "2023-12-02T10:51:39.171201Z",
          "iopub.status.idle": "2023-12-02T10:51:39.202852Z",
          "shell.execute_reply.started": "2023-12-02T10:51:39.171175Z",
          "shell.execute_reply": "2023-12-02T10:51:39.201923Z"
        },
        "trusted": true,
        "id": "r5ycy0MEi8L9"
      },
      "execution_count": null,
      "outputs": []
    },
    {
      "cell_type": "code",
      "source": [
        "df.drop(['seq_len'], axis = 1, inplace = True)\n",
        "df['cleaned_caption'] = df['cleaned_caption'].apply(lambda caption : caption + ['<pad>']*(max_seq_len-len(caption)) )"
      ],
      "metadata": {
        "execution": {
          "iopub.status.busy": "2023-12-02T10:51:39.204065Z",
          "iopub.execute_input": "2023-12-02T10:51:39.204403Z",
          "iopub.status.idle": "2023-12-02T10:51:39.309172Z",
          "shell.execute_reply.started": "2023-12-02T10:51:39.204333Z",
          "shell.execute_reply": "2023-12-02T10:51:39.308255Z"
        },
        "trusted": true,
        "id": "s7iK-Wxri8L-"
      },
      "execution_count": null,
      "outputs": []
    },
    {
      "cell_type": "code",
      "source": [
        "display(df.head(2))"
      ],
      "metadata": {
        "execution": {
          "iopub.status.busy": "2023-12-02T10:51:39.310257Z",
          "iopub.execute_input": "2023-12-02T10:51:39.31055Z",
          "iopub.status.idle": "2023-12-02T10:51:39.321801Z",
          "shell.execute_reply.started": "2023-12-02T10:51:39.310521Z",
          "shell.execute_reply": "2023-12-02T10:51:39.320919Z"
        },
        "trusted": true,
        "id": "np_t1lLIi8L-"
      },
      "execution_count": null,
      "outputs": []
    },
    {
      "cell_type": "code",
      "source": [
        "word_list = df['cleaned_caption'].apply(lambda x : \" \".join(x)).str.cat(sep = ' ').split(' ')\n",
        "word_dict = Counter(word_list)\n",
        "word_dict =  sorted(word_dict, key=word_dict.get, reverse=True)"
      ],
      "metadata": {
        "execution": {
          "iopub.status.busy": "2023-12-02T10:51:39.324556Z",
          "iopub.execute_input": "2023-12-02T10:51:39.324845Z",
          "iopub.status.idle": "2023-12-02T10:51:39.673581Z",
          "shell.execute_reply.started": "2023-12-02T10:51:39.324818Z",
          "shell.execute_reply": "2023-12-02T10:51:39.672789Z"
        },
        "trusted": true,
        "id": "FO69y73Pi8L_"
      },
      "execution_count": null,
      "outputs": []
    },
    {
      "cell_type": "code",
      "source": [
        "print(len(word_dict))\n",
        "print(word_dict[:5])"
      ],
      "metadata": {
        "execution": {
          "iopub.status.busy": "2023-12-02T10:51:39.675259Z",
          "iopub.execute_input": "2023-12-02T10:51:39.675564Z",
          "iopub.status.idle": "2023-12-02T10:51:39.6803Z",
          "shell.execute_reply.started": "2023-12-02T10:51:39.675534Z",
          "shell.execute_reply": "2023-12-02T10:51:39.6794Z"
        },
        "trusted": true,
        "id": "hzlbNrlgi8L_"
      },
      "execution_count": null,
      "outputs": []
    },
    {
      "cell_type": "code",
      "source": [
        "vocab_size = len(word_dict)\n",
        "print(vocab_size)"
      ],
      "metadata": {
        "execution": {
          "iopub.status.busy": "2023-12-02T10:51:39.68134Z",
          "iopub.execute_input": "2023-12-02T10:51:39.681657Z",
          "iopub.status.idle": "2023-12-02T10:51:39.691342Z",
          "shell.execute_reply.started": "2023-12-02T10:51:39.68163Z",
          "shell.execute_reply": "2023-12-02T10:51:39.690551Z"
        },
        "trusted": true,
        "id": "ejFDH2e_i8L_"
      },
      "execution_count": null,
      "outputs": []
    },
    {
      "cell_type": "code",
      "source": [
        "index_to_word = {index: word for index, word in enumerate(word_dict)}\n",
        "word_to_index = {word: index for index, word in enumerate(word_dict)}\n",
        "print(len(index_to_word), len(word_to_index))"
      ],
      "metadata": {
        "execution": {
          "iopub.status.busy": "2023-12-02T10:51:39.692676Z",
          "iopub.execute_input": "2023-12-02T10:51:39.693104Z",
          "iopub.status.idle": "2023-12-02T10:51:39.704385Z",
          "shell.execute_reply.started": "2023-12-02T10:51:39.693035Z",
          "shell.execute_reply": "2023-12-02T10:51:39.70354Z"
        },
        "trusted": true,
        "id": "UO08CuPxi8MA"
      },
      "execution_count": null,
      "outputs": []
    },
    {
      "cell_type": "code",
      "source": [
        "df['text_seq']  = df['cleaned_caption'].apply(lambda caption : [word_to_index[word] for word in caption] )"
      ],
      "metadata": {
        "execution": {
          "iopub.status.busy": "2023-12-02T10:51:39.705599Z",
          "iopub.execute_input": "2023-12-02T10:51:39.705933Z",
          "iopub.status.idle": "2023-12-02T10:51:40.051791Z",
          "shell.execute_reply.started": "2023-12-02T10:51:39.705898Z",
          "shell.execute_reply": "2023-12-02T10:51:40.050828Z"
        },
        "trusted": true,
        "id": "JYCtVBOji8MA"
      },
      "execution_count": null,
      "outputs": []
    },
    {
      "cell_type": "code",
      "source": [
        "display(df.head(2))"
      ],
      "metadata": {
        "execution": {
          "iopub.status.busy": "2023-12-02T10:51:40.053077Z",
          "iopub.execute_input": "2023-12-02T10:51:40.053449Z",
          "iopub.status.idle": "2023-12-02T10:51:40.067845Z",
          "shell.execute_reply.started": "2023-12-02T10:51:40.053413Z",
          "shell.execute_reply": "2023-12-02T10:51:40.066891Z"
        },
        "trusted": true,
        "id": "Am4rgmOBi8MB"
      },
      "execution_count": null,
      "outputs": []
    },
    {
      "cell_type": "code",
      "source": [
        "df = df.sort_values(by = 'image')\n",
        "train = df.iloc[:int(0.5*len(df))]\n",
        "valid = df.iloc[int(0.5*len(df)):]"
      ],
      "metadata": {
        "execution": {
          "iopub.status.busy": "2023-12-02T10:51:40.069258Z",
          "iopub.execute_input": "2023-12-02T10:51:40.069673Z",
          "iopub.status.idle": "2023-12-02T10:51:40.12548Z",
          "shell.execute_reply.started": "2023-12-02T10:51:40.069633Z",
          "shell.execute_reply": "2023-12-02T10:51:40.124676Z"
        },
        "trusted": true,
        "id": "LHz-tYKYi8MB"
      },
      "execution_count": null,
      "outputs": []
    },
    {
      "cell_type": "code",
      "source": [],
      "metadata": {
        "trusted": true,
        "id": "cOfkmDvqi8MC"
      },
      "execution_count": null,
      "outputs": []
    },
    {
      "cell_type": "code",
      "source": [
        "print(len(train), train['image'].nunique())\n",
        "print(len(valid), valid['image'].nunique())"
      ],
      "metadata": {
        "execution": {
          "iopub.status.busy": "2023-12-02T10:51:40.126797Z",
          "iopub.execute_input": "2023-12-02T10:51:40.127194Z",
          "iopub.status.idle": "2023-12-02T10:51:40.138662Z",
          "shell.execute_reply.started": "2023-12-02T10:51:40.127148Z",
          "shell.execute_reply": "2023-12-02T10:51:40.13774Z"
        },
        "trusted": true,
        "id": "XAqzGN02i8MC"
      },
      "execution_count": null,
      "outputs": []
    },
    {
      "cell_type": "code",
      "source": [
        "train_samples = len(train)\n",
        "print(train_samples)"
      ],
      "metadata": {
        "execution": {
          "iopub.status.busy": "2023-12-02T10:51:40.14016Z",
          "iopub.execute_input": "2023-12-02T10:51:40.140451Z",
          "iopub.status.idle": "2023-12-02T10:51:40.148364Z",
          "shell.execute_reply.started": "2023-12-02T10:51:40.140422Z",
          "shell.execute_reply": "2023-12-02T10:51:40.147438Z"
        },
        "trusted": true,
        "id": "DwIopgswi8MC"
      },
      "execution_count": null,
      "outputs": []
    },
    {
      "cell_type": "code",
      "source": [
        "unq_train_imgs = train[['image']].drop_duplicates()\n",
        "unq_valid_imgs = valid[['image']].drop_duplicates()"
      ],
      "metadata": {
        "execution": {
          "iopub.status.busy": "2023-12-02T10:51:40.149522Z",
          "iopub.execute_input": "2023-12-02T10:51:40.14983Z",
          "iopub.status.idle": "2023-12-02T10:51:40.169667Z",
          "shell.execute_reply.started": "2023-12-02T10:51:40.149801Z",
          "shell.execute_reply": "2023-12-02T10:51:40.168741Z"
        },
        "trusted": true,
        "id": "MODmlePKi8MD"
      },
      "execution_count": null,
      "outputs": []
    },
    {
      "cell_type": "code",
      "source": [
        "device = torch.device(\"cuda\" if torch.cuda.is_available() else \"cpu\")\n",
        "print(device)"
      ],
      "metadata": {
        "execution": {
          "iopub.status.busy": "2023-12-02T10:51:40.17091Z",
          "iopub.execute_input": "2023-12-02T10:51:40.171212Z",
          "iopub.status.idle": "2023-12-02T10:51:40.255863Z",
          "shell.execute_reply.started": "2023-12-02T10:51:40.171181Z",
          "shell.execute_reply": "2023-12-02T10:51:40.254926Z"
        },
        "trusted": true,
        "id": "WM11mQcli8MD"
      },
      "execution_count": null,
      "outputs": []
    },
    {
      "cell_type": "code",
      "source": [
        "class extractImageFeatureResNetDataSet():\n",
        "    def __init__(self, data):\n",
        "        self.data = data\n",
        "        self.scaler = transforms.Resize([224, 224])\n",
        "        self.normalize = transforms.Normalize(mean=[0.485, 0.456, 0.406],\n",
        "                                     std=[0.229, 0.224, 0.225])\n",
        "        self.to_tensor = transforms.ToTensor()\n",
        "    def __len__(self):\n",
        "        return len(self.data)\n",
        "\n",
        "    def __getitem__(self, idx):\n",
        "\n",
        "        image_name = self.data.iloc[idx]['image']\n",
        "        img_loc = '../input/flickr8k/Images/'+str(image_name)\n",
        "\n",
        "        img = Image.open(img_loc)\n",
        "        t_img = self.normalize(self.to_tensor(self.scaler(img)))\n",
        "\n",
        "        return image_name, t_img\n",
        "\n",
        "class extractImageFeatureResNetTestDataSet():\n",
        "    def __init__(self, data):\n",
        "        self.data = data\n",
        "        self.scaler = transforms.Resize([224, 224])\n",
        "        self.normalize = transforms.Normalize(mean=[0.485, 0.456, 0.406],\n",
        "                                     std=[0.229, 0.224, 0.225])\n",
        "        self.to_tensor = transforms.ToTensor()\n",
        "    def __len__(self):\n",
        "        return len(self.data)\n",
        "\n",
        "    def __getitem__(self, idx):\n",
        "\n",
        "        image_name = self.data.iloc[idx]['image']\n",
        "        img_loc = \"../input/facebook-hateful-meme-dataset/data/img/\"+str(image_name)\n",
        "\n",
        "        img = Image.open(img_loc)\n",
        "        t_img = self.normalize(self.to_tensor(self.scaler(img)))\n",
        "\n",
        "        return image_name, t_img"
      ],
      "metadata": {
        "execution": {
          "iopub.status.busy": "2023-12-02T10:51:40.257373Z",
          "iopub.execute_input": "2023-12-02T10:51:40.2578Z",
          "iopub.status.idle": "2023-12-02T10:51:40.271854Z",
          "shell.execute_reply.started": "2023-12-02T10:51:40.257756Z",
          "shell.execute_reply": "2023-12-02T10:51:40.270965Z"
        },
        "trusted": true,
        "id": "CWVBsfnoi8MD"
      },
      "execution_count": null,
      "outputs": []
    },
    {
      "cell_type": "code",
      "source": [
        "train_ImageDataset_ResNet = extractImageFeatureResNetDataSet(unq_train_imgs)\n",
        "train_ImageDataloader_ResNet = DataLoader(train_ImageDataset_ResNet, batch_size = 1, shuffle=False)"
      ],
      "metadata": {
        "execution": {
          "iopub.status.busy": "2023-12-02T10:51:40.273458Z",
          "iopub.execute_input": "2023-12-02T10:51:40.273859Z",
          "iopub.status.idle": "2023-12-02T10:51:40.284291Z",
          "shell.execute_reply.started": "2023-12-02T10:51:40.273819Z",
          "shell.execute_reply": "2023-12-02T10:51:40.283158Z"
        },
        "trusted": true,
        "id": "2q2K-TMDi8ME"
      },
      "execution_count": null,
      "outputs": []
    },
    {
      "cell_type": "code",
      "source": [
        "valid_ImageDataset_ResNet = extractImageFeatureResNetDataSet(unq_valid_imgs)\n",
        "valid_ImageDataloader_ResNet = DataLoader(valid_ImageDataset_ResNet, batch_size = 1, shuffle=False)"
      ],
      "metadata": {
        "execution": {
          "iopub.status.busy": "2023-12-02T10:51:40.285707Z",
          "iopub.execute_input": "2023-12-02T10:51:40.286044Z",
          "iopub.status.idle": "2023-12-02T10:51:40.295423Z",
          "shell.execute_reply.started": "2023-12-02T10:51:40.286007Z",
          "shell.execute_reply": "2023-12-02T10:51:40.294405Z"
        },
        "trusted": true,
        "id": "OuSHHiIQi8ME"
      },
      "execution_count": null,
      "outputs": []
    },
    {
      "cell_type": "code",
      "source": [],
      "metadata": {
        "trusted": true,
        "id": "_uB2J-8ri8ME"
      },
      "execution_count": null,
      "outputs": []
    },
    {
      "cell_type": "code",
      "source": [
        "resnet18 = torchvision.models.resnet18(pretrained=True).to(device)\n",
        "resnet18.eval()\n",
        "list(resnet18._modules)"
      ],
      "metadata": {
        "execution": {
          "iopub.status.busy": "2023-12-02T10:51:40.296707Z",
          "iopub.execute_input": "2023-12-02T10:51:40.29705Z",
          "iopub.status.idle": "2023-12-02T10:51:45.969453Z",
          "shell.execute_reply.started": "2023-12-02T10:51:40.297017Z",
          "shell.execute_reply": "2023-12-02T10:51:45.96855Z"
        },
        "trusted": true,
        "id": "18wtr4HYi8ME"
      },
      "execution_count": null,
      "outputs": []
    },
    {
      "cell_type": "code",
      "source": [
        "resNet18Layer4 = resnet18._modules.get('layer4').to(device)"
      ],
      "metadata": {
        "execution": {
          "iopub.status.busy": "2023-12-02T10:51:45.97404Z",
          "iopub.execute_input": "2023-12-02T10:51:45.974326Z",
          "iopub.status.idle": "2023-12-02T10:51:45.978777Z",
          "shell.execute_reply.started": "2023-12-02T10:51:45.974297Z",
          "shell.execute_reply": "2023-12-02T10:51:45.977962Z"
        },
        "trusted": true,
        "id": "QR6l63Rai8MF"
      },
      "execution_count": null,
      "outputs": []
    },
    {
      "cell_type": "code",
      "source": [
        "def get_vector(t_img):\n",
        "    t_img = Variable(t_img)\n",
        "    my_embedding = torch.zeros(1, 512, 7, 7)\n",
        "    def copy_data(m, i, o):\n",
        "        my_embedding.copy_(o.data)\n",
        "\n",
        "    h = resNet18Layer4.register_forward_hook(copy_data)\n",
        "    resnet18(t_img)\n",
        "\n",
        "    h.remove()\n",
        "    return my_embedding"
      ],
      "metadata": {
        "execution": {
          "iopub.status.busy": "2023-12-02T10:51:45.980605Z",
          "iopub.execute_input": "2023-12-02T10:51:45.9809Z",
          "iopub.status.idle": "2023-12-02T10:51:45.996931Z",
          "shell.execute_reply.started": "2023-12-02T10:51:45.980859Z",
          "shell.execute_reply": "2023-12-02T10:51:45.996203Z"
        },
        "trusted": true,
        "id": "O_hgNVVqi8MF"
      },
      "execution_count": null,
      "outputs": []
    },
    {
      "cell_type": "code",
      "source": [
        "extract_imgFtr_ResNet_train = {}\n",
        "for image_name, t_img in tqdm(train_ImageDataloader_ResNet):\n",
        "    t_img = t_img.to(device)\n",
        "    embdg = get_vector(t_img)\n",
        "\n",
        "    extract_imgFtr_ResNet_train[image_name[0]] = embdg"
      ],
      "metadata": {
        "execution": {
          "iopub.status.busy": "2023-12-02T10:51:45.998033Z",
          "iopub.execute_input": "2023-12-02T10:51:45.998392Z",
          "iopub.status.idle": "2023-12-02T10:55:12.384889Z",
          "shell.execute_reply.started": "2023-12-02T10:51:45.998354Z",
          "shell.execute_reply": "2023-12-02T10:55:12.383958Z"
        },
        "trusted": true,
        "id": "GTJiTU_Wi8MI"
      },
      "execution_count": null,
      "outputs": []
    },
    {
      "cell_type": "code",
      "source": [
        "a_file = open(\"./EncodedImageTrainResNet.pkl\", \"wb\")\n",
        "pickle.dump(extract_imgFtr_ResNet_train, a_file)\n",
        "a_file.close()"
      ],
      "metadata": {
        "execution": {
          "iopub.status.busy": "2023-12-02T10:55:12.386336Z",
          "iopub.execute_input": "2023-12-02T10:55:12.386721Z",
          "iopub.status.idle": "2023-12-02T10:55:14.126888Z",
          "shell.execute_reply.started": "2023-12-02T10:55:12.386681Z",
          "shell.execute_reply": "2023-12-02T10:55:14.125798Z"
        },
        "trusted": true,
        "id": "N5nWsZJqi8MJ"
      },
      "execution_count": null,
      "outputs": []
    },
    {
      "cell_type": "code",
      "source": [
        "extract_imgFtr_ResNet_valid = {}\n",
        "for image_name, t_img in tqdm(valid_ImageDataloader_ResNet):\n",
        "    t_img = t_img.to(device)\n",
        "    embdg = get_vector(t_img)\n",
        "\n",
        "    extract_imgFtr_ResNet_valid[image_name[0]] = embdg"
      ],
      "metadata": {
        "execution": {
          "iopub.status.busy": "2023-12-02T10:55:14.128621Z",
          "iopub.execute_input": "2023-12-02T10:55:14.129038Z",
          "iopub.status.idle": "2023-12-02T10:55:37.57791Z",
          "shell.execute_reply.started": "2023-12-02T10:55:14.128996Z",
          "shell.execute_reply": "2023-12-02T10:55:37.577002Z"
        },
        "trusted": true,
        "id": "U8aa1NXAi8MK"
      },
      "execution_count": null,
      "outputs": []
    },
    {
      "cell_type": "code",
      "source": [
        "a_file = open(\"./EncodedImageValidResNet.pkl\", \"wb\")\n",
        "pickle.dump(extract_imgFtr_ResNet_valid, a_file)\n",
        "a_file.close()"
      ],
      "metadata": {
        "execution": {
          "iopub.status.busy": "2023-12-02T10:55:37.579291Z",
          "iopub.execute_input": "2023-12-02T10:55:37.579696Z",
          "iopub.status.idle": "2023-12-02T10:55:37.762207Z",
          "shell.execute_reply.started": "2023-12-02T10:55:37.579655Z",
          "shell.execute_reply": "2023-12-02T10:55:37.761415Z"
        },
        "trusted": true,
        "id": "-OTFO-j5i8MK"
      },
      "execution_count": null,
      "outputs": []
    },
    {
      "cell_type": "code",
      "source": [
        "import glob\n",
        "images = glob.glob(\"../input/facebook-hateful-meme-dataset/data/img/\" + \"*.png\")\n",
        "images\n",
        "for i in range(len(images)):\n",
        "    images[i] = images[i][-9:]\n",
        "test = pd.DataFrame({'image': images})\n",
        "test = pd.concat([test[:4188], test[4191:4989], test[4995:5299], test[5311:6408], test[6432:6898], test[6946:]])\n",
        "\n",
        "unq_test_imgs = test[['image']].drop_duplicates()\n",
        "print(len(unq_train_imgs), len(unq_valid_imgs), len(unq_test_imgs))\n",
        "\n",
        "test_ImageDataset_ResNet = extractImageFeatureResNetTestDataSet(unq_test_imgs)\n",
        "test_ImageDataloader_ResNet = DataLoader(test_ImageDataset_ResNet, batch_size = 1, shuffle=False)"
      ],
      "metadata": {
        "execution": {
          "iopub.status.busy": "2023-12-02T10:55:37.763385Z",
          "iopub.execute_input": "2023-12-02T10:55:37.763708Z",
          "iopub.status.idle": "2023-12-02T10:55:38.89771Z",
          "shell.execute_reply.started": "2023-12-02T10:55:37.763678Z",
          "shell.execute_reply": "2023-12-02T10:55:38.896743Z"
        },
        "trusted": true,
        "id": "R1tAlgrVi8ML"
      },
      "execution_count": null,
      "outputs": []
    },
    {
      "cell_type": "code",
      "source": [
        "extract_imgFtr_ResNet_test = {}\n",
        "for image_name, t_img in tqdm(test_ImageDataloader_ResNet):\n",
        "    t_img = t_img.to(device)\n",
        "    embdg = get_vector(t_img)\n",
        "\n",
        "    extract_imgFtr_ResNet_test[image_name[0]] = embdg"
      ],
      "metadata": {
        "execution": {
          "iopub.status.busy": "2023-12-02T10:55:38.899145Z",
          "iopub.execute_input": "2023-12-02T10:55:38.899574Z",
          "iopub.status.idle": "2023-12-02T11:02:50.159298Z",
          "shell.execute_reply.started": "2023-12-02T10:55:38.899534Z",
          "shell.execute_reply": "2023-12-02T11:02:50.1583Z"
        },
        "trusted": true,
        "id": "lOg0Djvhi8ML"
      },
      "execution_count": null,
      "outputs": []
    },
    {
      "cell_type": "code",
      "source": [
        "a_file = open(\"./EncodedImageTestResNet.pkl\", \"wb\")\n",
        "pickle.dump(extract_imgFtr_ResNet_test, a_file)\n",
        "a_file.close()"
      ],
      "metadata": {
        "execution": {
          "iopub.status.busy": "2023-12-02T11:02:50.160901Z",
          "iopub.execute_input": "2023-12-02T11:02:50.161292Z",
          "iopub.status.idle": "2023-12-02T11:02:52.377619Z",
          "shell.execute_reply.started": "2023-12-02T11:02:50.161252Z",
          "shell.execute_reply": "2023-12-02T11:02:52.376735Z"
        },
        "trusted": true,
        "id": "KcNkyzu6i8MM"
      },
      "execution_count": null,
      "outputs": []
    },
    {
      "cell_type": "code",
      "source": [
        "class FlickerDataSetResnet():\n",
        "    def __init__(self, data, pkl_file):\n",
        "        self.data = data\n",
        "        self.encodedImgs = pd.read_pickle(pkl_file)\n",
        "\n",
        "    def __len__(self):\n",
        "        return len(self.data)\n",
        "\n",
        "    def __getitem__(self, idx):\n",
        "\n",
        "        caption_seq = self.data.iloc[idx]['text_seq']\n",
        "        target_seq = caption_seq[1:]+[0]\n",
        "\n",
        "        image_name = self.data.iloc[idx]['image']\n",
        "        image_tensor = self.encodedImgs[image_name]\n",
        "        image_tensor = image_tensor.permute(0,2,3,1)\n",
        "        image_tensor_view = image_tensor.view(image_tensor.size(0), -1, image_tensor.size(3))\n",
        "\n",
        "        return torch.tensor(caption_seq), torch.tensor(target_seq), image_tensor_view"
      ],
      "metadata": {
        "execution": {
          "iopub.status.busy": "2023-12-02T11:02:52.378675Z",
          "iopub.execute_input": "2023-12-02T11:02:52.378939Z",
          "iopub.status.idle": "2023-12-02T11:02:52.385936Z",
          "shell.execute_reply.started": "2023-12-02T11:02:52.378914Z",
          "shell.execute_reply": "2023-12-02T11:02:52.385052Z"
        },
        "trusted": true,
        "id": "4XgGCZLti8MM"
      },
      "execution_count": null,
      "outputs": []
    },
    {
      "cell_type": "code",
      "source": [
        "train_dataset_resnet = FlickerDataSetResnet(train, 'EncodedImageTrainResNet.pkl')\n",
        "train_dataloader_resnet = DataLoader(train_dataset_resnet, batch_size = 32, shuffle=True)"
      ],
      "metadata": {
        "execution": {
          "iopub.status.busy": "2023-12-02T11:02:52.387272Z",
          "iopub.execute_input": "2023-12-02T11:02:52.3877Z",
          "iopub.status.idle": "2023-12-02T11:02:54.125721Z",
          "shell.execute_reply.started": "2023-12-02T11:02:52.38762Z",
          "shell.execute_reply": "2023-12-02T11:02:54.124747Z"
        },
        "trusted": true,
        "id": "1T4I208xi8MN"
      },
      "execution_count": null,
      "outputs": []
    },
    {
      "cell_type": "code",
      "source": [
        "valid_dataset_resnet = FlickerDataSetResnet(valid, 'EncodedImageValidResNet.pkl')\n",
        "valid_dataloader_resnet = DataLoader(valid_dataset_resnet, batch_size = 32, shuffle=True)"
      ],
      "metadata": {
        "execution": {
          "iopub.status.busy": "2023-12-02T11:02:54.126778Z",
          "iopub.execute_input": "2023-12-02T11:02:54.127066Z",
          "iopub.status.idle": "2023-12-02T11:02:54.23004Z",
          "shell.execute_reply.started": "2023-12-02T11:02:54.127038Z",
          "shell.execute_reply": "2023-12-02T11:02:54.229072Z"
        },
        "trusted": true,
        "id": "-Tpqzsedi8MN"
      },
      "execution_count": null,
      "outputs": []
    },
    {
      "cell_type": "code",
      "source": [
        "test_dataset_resnet = FlickerDataSetResnet(test, 'EncodedImageTestResNet.pkl')\n",
        "test_dataloader_resnet = DataLoader(test_dataset_resnet, batch_size = 32, shuffle=True)"
      ],
      "metadata": {
        "execution": {
          "iopub.status.busy": "2023-12-02T11:02:54.231267Z",
          "iopub.execute_input": "2023-12-02T11:02:54.231592Z",
          "iopub.status.idle": "2023-12-02T11:02:56.182132Z",
          "shell.execute_reply.started": "2023-12-02T11:02:54.23156Z",
          "shell.execute_reply": "2023-12-02T11:02:56.181228Z"
        },
        "trusted": true,
        "id": "HB0bYIhGi8MO"
      },
      "execution_count": null,
      "outputs": []
    },
    {
      "cell_type": "code",
      "source": [
        "class PositionalEncoding(nn.Module):\n",
        "\n",
        "    def __init__(self, d_model, dropout=0.1, max_len=max_seq_len):\n",
        "        super(PositionalEncoding, self).__init__()\n",
        "        self.dropout = nn.Dropout(p=dropout)\n",
        "\n",
        "        pe = torch.zeros(max_len, d_model)\n",
        "        position = torch.arange(0, max_len, dtype=torch.float).unsqueeze(1)\n",
        "        div_term = torch.exp(torch.arange(0, d_model, 2).float() * (-math.log(10000.0) / d_model))\n",
        "        pe[:, 0::2] = torch.sin(position * div_term)\n",
        "        pe[:, 1::2] = torch.cos(position * div_term)\n",
        "        pe = pe.unsqueeze(0)\n",
        "        self.register_buffer('pe', pe)\n",
        "\n",
        "\n",
        "    def forward(self, x):\n",
        "        if self.pe.size(0) < x.size(0):\n",
        "            self.pe = self.pe.repeat(x.size(0), 1, 1).to(device)\n",
        "        self.pe = self.pe[:x.size(0), : , : ]\n",
        "\n",
        "        x = x + self.pe\n",
        "        return self.dropout(x)"
      ],
      "metadata": {
        "execution": {
          "iopub.status.busy": "2023-12-02T11:02:56.183192Z",
          "iopub.execute_input": "2023-12-02T11:02:56.18346Z",
          "iopub.status.idle": "2023-12-02T11:02:56.19309Z",
          "shell.execute_reply.started": "2023-12-02T11:02:56.183434Z",
          "shell.execute_reply": "2023-12-02T11:02:56.192122Z"
        },
        "trusted": true,
        "id": "Orn6ivini8MO"
      },
      "execution_count": null,
      "outputs": []
    },
    {
      "cell_type": "code",
      "source": [
        "class ImageCaptionModel(nn.Module):\n",
        "    def __init__(self, n_head, n_decoder_layer, vocab_size, embedding_size):\n",
        "        super(ImageCaptionModel, self).__init__()\n",
        "        self.pos_encoder = PositionalEncoding(embedding_size, 0.1)\n",
        "        self.TransformerDecoderLayer = nn.TransformerDecoderLayer(d_model =  embedding_size, nhead = n_head)\n",
        "        self.TransformerDecoder = nn.TransformerDecoder(decoder_layer = self.TransformerDecoderLayer, num_layers = n_decoder_layer)\n",
        "        self.embedding_size = embedding_size\n",
        "        self.embedding = nn.Embedding(vocab_size , embedding_size)\n",
        "        self.last_linear_layer = nn.Linear(embedding_size, vocab_size)\n",
        "        self.init_weights()\n",
        "\n",
        "    def init_weights(self):\n",
        "        initrange = 0.1\n",
        "        self.embedding.weight.data.uniform_(-initrange, initrange)\n",
        "        self.last_linear_layer.bias.data.zero_()\n",
        "        self.last_linear_layer.weight.data.uniform_(-initrange, initrange)\n",
        "\n",
        "    def generate_Mask(self, size, decoder_inp):\n",
        "        decoder_input_mask = (torch.triu(torch.ones(size, size)) == 1).transpose(0, 1)\n",
        "        decoder_input_mask = decoder_input_mask.float().masked_fill(decoder_input_mask == 0, float('-inf')).masked_fill(decoder_input_mask == 1, float(0.0))\n",
        "\n",
        "        decoder_input_pad_mask = decoder_inp.float().masked_fill(decoder_inp == 0, float(0.0)).masked_fill(decoder_inp > 0, float(1.0))\n",
        "        decoder_input_pad_mask_bool = decoder_inp == 0\n",
        "\n",
        "        return decoder_input_mask, decoder_input_pad_mask, decoder_input_pad_mask_bool\n",
        "\n",
        "    def forward(self, encoded_image, decoder_inp):\n",
        "        encoded_image = encoded_image.permute(1,0,2)\n",
        "\n",
        "\n",
        "        decoder_inp_embed = self.embedding(decoder_inp)* math.sqrt(self.embedding_size)\n",
        "\n",
        "        decoder_inp_embed = self.pos_encoder(decoder_inp_embed)\n",
        "        decoder_inp_embed = decoder_inp_embed.permute(1,0,2)\n",
        "\n",
        "\n",
        "        decoder_input_mask, decoder_input_pad_mask, decoder_input_pad_mask_bool = self.generate_Mask(decoder_inp.size(1), decoder_inp)\n",
        "        decoder_input_mask = decoder_input_mask.to(device)\n",
        "        decoder_input_pad_mask = decoder_input_pad_mask.to(device)\n",
        "        decoder_input_pad_mask_bool = decoder_input_pad_mask_bool.to(device)\n",
        "\n",
        "\n",
        "        decoder_output = self.TransformerDecoder(tgt = decoder_inp_embed, memory = encoded_image, tgt_mask = decoder_input_mask, tgt_key_padding_mask = decoder_input_pad_mask_bool)\n",
        "\n",
        "        final_output = self.last_linear_layer(decoder_output)\n",
        "\n",
        "        return final_output,  decoder_input_pad_mask\n"
      ],
      "metadata": {
        "execution": {
          "iopub.status.busy": "2023-12-02T11:02:56.19432Z",
          "iopub.execute_input": "2023-12-02T11:02:56.194646Z",
          "iopub.status.idle": "2023-12-02T11:02:56.210774Z",
          "shell.execute_reply.started": "2023-12-02T11:02:56.194616Z",
          "shell.execute_reply": "2023-12-02T11:02:56.209881Z"
        },
        "trusted": true,
        "id": "3NbB3yWEi8MP"
      },
      "execution_count": null,
      "outputs": []
    },
    {
      "cell_type": "code",
      "source": [
        "EPOCH = 26"
      ],
      "metadata": {
        "execution": {
          "iopub.status.busy": "2023-12-02T11:02:56.211852Z",
          "iopub.execute_input": "2023-12-02T11:02:56.212138Z",
          "iopub.status.idle": "2023-12-02T11:02:56.225744Z",
          "shell.execute_reply.started": "2023-12-02T11:02:56.21211Z",
          "shell.execute_reply": "2023-12-02T11:02:56.224837Z"
        },
        "trusted": true,
        "id": "33waAG8_i8MS"
      },
      "execution_count": null,
      "outputs": []
    },
    {
      "cell_type": "code",
      "source": [
        "ictModel = ImageCaptionModel(16, 4, vocab_size, 512).to(device)\n",
        "optimizer = torch.optim.Adam(ictModel.parameters(), lr = 0.00001)\n",
        "scheduler = torch.optim.lr_scheduler.ReduceLROnPlateau(optimizer, factor = 0.8, patience=2, verbose = True)\n",
        "criterion = torch.nn.CrossEntropyLoss(reduction='none')\n",
        "min_val_loss = np.float('Inf')"
      ],
      "metadata": {
        "execution": {
          "iopub.status.busy": "2023-12-02T11:02:56.226877Z",
          "iopub.execute_input": "2023-12-02T11:02:56.227174Z",
          "iopub.status.idle": "2023-12-02T11:02:56.509529Z",
          "shell.execute_reply.started": "2023-12-02T11:02:56.227144Z",
          "shell.execute_reply": "2023-12-02T11:02:56.508712Z"
        },
        "trusted": true,
        "id": "kHDlHuzei8MT"
      },
      "execution_count": null,
      "outputs": []
    },
    {
      "cell_type": "code",
      "source": [
        "for epoch in tqdm(range(EPOCH)):\n",
        "    total_epoch_train_loss = 0\n",
        "    total_epoch_valid_loss = 0\n",
        "    total_train_words = 0\n",
        "    total_valid_words = 0\n",
        "    ictModel.train()\n",
        "\n",
        "    ### Train Loop\n",
        "    for caption_seq, target_seq, image_embed in train_dataloader_resnet:\n",
        "\n",
        "        optimizer.zero_grad()\n",
        "\n",
        "        image_embed = image_embed.squeeze(1).to(device)\n",
        "        caption_seq = caption_seq.to(device)\n",
        "        target_seq = target_seq.to(device)\n",
        "\n",
        "        output, padding_mask = ictModel.forward(image_embed, caption_seq)\n",
        "        output = output.permute(1, 2, 0)\n",
        "\n",
        "        loss = criterion(output,target_seq)\n",
        "\n",
        "        loss_masked = torch.mul(loss, padding_mask)\n",
        "\n",
        "        final_batch_loss = torch.sum(loss_masked)/torch.sum(padding_mask)\n",
        "\n",
        "        final_batch_loss.backward()\n",
        "        optimizer.step()\n",
        "        total_epoch_train_loss += torch.sum(loss_masked).detach().item()\n",
        "        total_train_words += torch.sum(padding_mask)\n",
        "\n",
        "\n",
        "    total_epoch_train_loss = total_epoch_train_loss/total_train_words\n",
        "\n",
        "\n",
        "    ### Eval Loop\n",
        "    ictModel.eval()\n",
        "    with torch.no_grad():\n",
        "        for caption_seq, target_seq, image_embed in valid_dataloader_resnet:\n",
        "\n",
        "            image_embed = image_embed.squeeze(1).to(device)\n",
        "            caption_seq = caption_seq.to(device)\n",
        "            target_seq = target_seq.to(device)\n",
        "\n",
        "            output, padding_mask = ictModel.forward(image_embed, caption_seq)\n",
        "            output = output.permute(1, 2, 0)\n",
        "\n",
        "            loss = criterion(output,target_seq)\n",
        "\n",
        "            loss_masked = torch.mul(loss, padding_mask)\n",
        "\n",
        "            total_epoch_valid_loss += torch.sum(loss_masked).detach().item()\n",
        "            total_valid_words += torch.sum(padding_mask)\n",
        "\n",
        "    total_epoch_valid_loss = total_epoch_valid_loss/total_valid_words\n",
        "\n",
        "    print(\"Epoch -> \", epoch,\" Training Loss -> \", total_epoch_train_loss.item(), \"Eval Loss -> \", total_epoch_valid_loss.item() )\n",
        "\n",
        "    if min_val_loss > total_epoch_valid_loss:\n",
        "        print(\"Writing Model at epoch \", epoch)\n",
        "        torch.save(ictModel, './BestModel')\n",
        "        min_val_loss = total_epoch_valid_loss\n",
        "\n",
        "\n",
        "    scheduler.step(total_epoch_valid_loss.item())"
      ],
      "metadata": {
        "execution": {
          "iopub.status.busy": "2023-12-02T11:02:56.510838Z",
          "iopub.execute_input": "2023-12-02T11:02:56.511215Z",
          "iopub.status.idle": "2023-12-02T11:34:03.704123Z",
          "shell.execute_reply.started": "2023-12-02T11:02:56.511177Z",
          "shell.execute_reply": "2023-12-02T11:34:03.703205Z"
        },
        "scrolled": true,
        "trusted": true,
        "id": "L2WFw2H-i8MU"
      },
      "execution_count": null,
      "outputs": []
    },
    {
      "cell_type": "code",
      "source": [
        "model = torch.load('./BestModel')\n",
        "start_token = word_to_index['<start>']\n",
        "end_token = word_to_index['<end>']\n",
        "pad_token = word_to_index['<pad>']\n",
        "max_seq_len = 33\n",
        "print(start_token, end_token, pad_token)"
      ],
      "metadata": {
        "execution": {
          "iopub.status.busy": "2023-12-02T11:34:03.705616Z",
          "iopub.execute_input": "2023-12-02T11:34:03.706008Z",
          "iopub.status.idle": "2023-12-02T11:34:03.836307Z",
          "shell.execute_reply.started": "2023-12-02T11:34:03.705966Z",
          "shell.execute_reply": "2023-12-02T11:34:03.835319Z"
        },
        "trusted": true,
        "id": "aZfBMO2wi8MV"
      },
      "execution_count": null,
      "outputs": []
    },
    {
      "cell_type": "code",
      "source": [
        "valid_img_embed = pd.read_pickle('EncodedImageValidResNet.pkl')"
      ],
      "metadata": {
        "execution": {
          "iopub.status.busy": "2023-12-02T11:34:03.837601Z",
          "iopub.execute_input": "2023-12-02T11:34:03.837906Z",
          "iopub.status.idle": "2023-12-02T11:34:03.944419Z",
          "shell.execute_reply.started": "2023-12-02T11:34:03.837876Z",
          "shell.execute_reply": "2023-12-02T11:34:03.943513Z"
        },
        "trusted": true,
        "id": "6WOcXNAPi8MW"
      },
      "execution_count": null,
      "outputs": []
    },
    {
      "cell_type": "code",
      "source": [
        "test_img_embed = pd.read_pickle('EncodedImageTestResNet.pkl')"
      ],
      "metadata": {
        "execution": {
          "iopub.status.busy": "2023-12-02T11:34:03.94555Z",
          "iopub.execute_input": "2023-12-02T11:34:03.945825Z",
          "iopub.status.idle": "2023-12-02T11:34:05.571927Z",
          "shell.execute_reply.started": "2023-12-02T11:34:03.945797Z",
          "shell.execute_reply": "2023-12-02T11:34:05.571149Z"
        },
        "trusted": true,
        "id": "A1PNgULIi8MW"
      },
      "execution_count": null,
      "outputs": []
    },
    {
      "cell_type": "code",
      "source": [
        "def generate_caption(K, img_nm):\n",
        "    img_loc = '../input/flickr8k/Images/'+str(img_nm)\n",
        "    image = Image.open(img_loc).convert(\"RGB\")\n",
        "    plt.imshow(image)\n",
        "\n",
        "    model.eval()\n",
        "    valid_img_df = valid[valid['image']==img_nm]\n",
        "    print(\"Actual Caption : \")\n",
        "    print(valid_img_df['caption'].tolist())\n",
        "\n",
        "    img_embed = valid_img_embed[img_nm].to(device)\n",
        "\n",
        "    img_embed = img_embed.permute(0,2,3,1)\n",
        "    img_embed = img_embed.view(img_embed.size(0), -1, img_embed.size(3))\n",
        "\n",
        "    input_seq = [pad_token]*max_seq_len\n",
        "    input_seq[0] = start_token\n",
        "\n",
        "    input_seq = torch.tensor(input_seq).unsqueeze(0).to(device)\n",
        "    predicted_sentence = []\n",
        "    with torch.no_grad():\n",
        "        for eval_iter in range(0, max_seq_len):\n",
        "\n",
        "            output, padding_mask = model.forward(img_embed, input_seq)\n",
        "\n",
        "            output = output[eval_iter, 0, :]\n",
        "\n",
        "            values = torch.topk(output, K).values.tolist()\n",
        "            indices = torch.topk(output, K).indices.tolist()\n",
        "\n",
        "            next_word_index = random.choices(indices, values, k = 1)[0]\n",
        "\n",
        "            next_word = index_to_word[next_word_index]\n",
        "\n",
        "            input_seq[:, eval_iter+1] = next_word_index\n",
        "\n",
        "\n",
        "            if next_word == '<end>' :\n",
        "                break\n",
        "\n",
        "            predicted_sentence.append(next_word)\n",
        "    print(\"\\n\")\n",
        "    print(\"Predicted caption : \")\n",
        "    print(\" \".join(predicted_sentence+['.']))"
      ],
      "metadata": {
        "execution": {
          "iopub.status.busy": "2023-12-02T11:34:05.573122Z",
          "iopub.execute_input": "2023-12-02T11:34:05.573416Z",
          "iopub.status.idle": "2023-12-02T11:34:05.584871Z",
          "shell.execute_reply.started": "2023-12-02T11:34:05.573385Z",
          "shell.execute_reply": "2023-12-02T11:34:05.583979Z"
        },
        "trusted": true,
        "id": "rOHH11PLi8MX"
      },
      "execution_count": null,
      "outputs": []
    },
    {
      "cell_type": "code",
      "source": [
        "def generate_caption_test(K, img_nm):\n",
        "    img_loc = '../input/facebook-hateful-meme-dataset/data/img/'+str(img_nm)\n",
        "    image = Image.open(img_loc).convert(\"RGB\")\n",
        "    plt.imshow(image)\n",
        "\n",
        "    model.eval()\n",
        "\n",
        "    img_embed = test_img_embed[img_nm].to(device)\n",
        "\n",
        "    img_embed = img_embed.permute(0,2,3,1)\n",
        "    img_embed = img_embed.view(img_embed.size(0), -1, img_embed.size(3))\n",
        "\n",
        "    input_seq = [pad_token]*max_seq_len\n",
        "    input_seq[0] = start_token\n",
        "\n",
        "    input_seq = torch.tensor(input_seq).unsqueeze(0).to(device)\n",
        "    predicted_sentence = []\n",
        "    with torch.no_grad():\n",
        "        for eval_iter in range(0, max_seq_len):\n",
        "\n",
        "            output, padding_mask = model.forward(img_embed, input_seq)\n",
        "\n",
        "            output = output[eval_iter, 0, :]\n",
        "\n",
        "            values = torch.topk(output, K).values.tolist()\n",
        "            indices = torch.topk(output, K).indices.tolist()\n",
        "\n",
        "            next_word_index = random.choices(indices, values, k = 1)[0]\n",
        "\n",
        "            next_word = index_to_word[next_word_index]\n",
        "\n",
        "            input_seq[:, eval_iter+1] = next_word_index\n",
        "\n",
        "\n",
        "            if next_word == '<end>' :\n",
        "                break\n",
        "\n",
        "            predicted_sentence.append(next_word)\n",
        "    print(\"\\n\")\n",
        "    print(\"Predicted caption : \")\n",
        "    print(\" \".join(predicted_sentence+['.']))"
      ],
      "metadata": {
        "execution": {
          "iopub.status.busy": "2023-12-02T11:54:18.136078Z",
          "iopub.execute_input": "2023-12-02T11:54:18.136486Z",
          "iopub.status.idle": "2023-12-02T11:54:18.147753Z",
          "shell.execute_reply.started": "2023-12-02T11:54:18.136426Z",
          "shell.execute_reply": "2023-12-02T11:54:18.146718Z"
        },
        "trusted": true,
        "id": "p5nOj2CDi8MX"
      },
      "execution_count": null,
      "outputs": []
    },
    {
      "cell_type": "code",
      "source": [
        "def get_caption(K, img_nm):\n",
        "    img_embed = test_img_embed[img_nm].to(device)\n",
        "    img_embed = img_embed.permute(0,2,3,1)\n",
        "    img_embed = img_embed.view(img_embed.size(0), -1, img_embed.size(3))\n",
        "    input_seq = [pad_token]*max_seq_len\n",
        "    input_seq[0] = start_token\n",
        "    input_seq = torch.tensor(input_seq).unsqueeze(0).to(device)\n",
        "    predicted_sentence = []\n",
        "    with torch.no_grad():\n",
        "        for eval_iter in range(0, max_seq_len):\n",
        "\n",
        "            output, padding_mask = model.forward(img_embed, input_seq)\n",
        "\n",
        "            output = output[eval_iter, 0, :]\n",
        "\n",
        "            values = torch.topk(output, K).values.tolist()\n",
        "            indices = torch.topk(output, K).indices.tolist()\n",
        "\n",
        "            next_word_index = random.choices(indices, values, k = 1)[0]\n",
        "\n",
        "            next_word = index_to_word[next_word_index]\n",
        "\n",
        "            input_seq[:, eval_iter+1] = next_word_index\n",
        "\n",
        "\n",
        "            if next_word == '<end>' :\n",
        "                break\n",
        "\n",
        "            predicted_sentence.append(next_word)\n",
        "#     print(\"\\n\")\n",
        "#     print(\"Predicted caption : \")\n",
        "    output = \" \".join(predicted_sentence+['.'])\n",
        "    return output"
      ],
      "metadata": {
        "execution": {
          "iopub.status.busy": "2023-12-02T11:34:05.598613Z",
          "iopub.execute_input": "2023-12-02T11:34:05.598922Z",
          "iopub.status.idle": "2023-12-02T11:34:05.612379Z",
          "shell.execute_reply.started": "2023-12-02T11:34:05.598891Z",
          "shell.execute_reply": "2023-12-02T11:34:05.611526Z"
        },
        "trusted": true,
        "id": "lxFnCSX6i8MY"
      },
      "execution_count": null,
      "outputs": []
    },
    {
      "cell_type": "code",
      "source": [
        "generate_caption(2, unq_valid_imgs.iloc[71]['image'])"
      ],
      "metadata": {
        "execution": {
          "iopub.status.busy": "2023-12-02T11:34:05.613736Z",
          "iopub.execute_input": "2023-12-02T11:34:05.614123Z",
          "iopub.status.idle": "2023-12-02T11:34:05.859885Z",
          "shell.execute_reply.started": "2023-12-02T11:34:05.61408Z",
          "shell.execute_reply": "2023-12-02T11:34:05.858982Z"
        },
        "trusted": true,
        "id": "LcQ_vutsi8MZ"
      },
      "execution_count": null,
      "outputs": []
    },
    {
      "cell_type": "code",
      "source": [
        "generate_caption_test(2, unq_test_imgs.iloc[6]['image'])"
      ],
      "metadata": {
        "execution": {
          "iopub.status.busy": "2023-12-02T11:54:25.222734Z",
          "iopub.execute_input": "2023-12-02T11:54:25.223072Z",
          "iopub.status.idle": "2023-12-02T11:54:25.522128Z",
          "shell.execute_reply.started": "2023-12-02T11:54:25.223043Z",
          "shell.execute_reply": "2023-12-02T11:54:25.521266Z"
        },
        "trusted": true,
        "id": "dIzPNvcGi8Ma"
      },
      "execution_count": null,
      "outputs": []
    },
    {
      "cell_type": "code",
      "source": [
        "model.eval()\n",
        "\n",
        "results = pd.DataFrame({'image': [], 'gen_caption': []})"
      ],
      "metadata": {
        "execution": {
          "iopub.status.busy": "2023-12-02T11:37:41.52001Z",
          "iopub.execute_input": "2023-12-02T11:37:41.520373Z",
          "iopub.status.idle": "2023-12-02T11:37:41.526277Z",
          "shell.execute_reply.started": "2023-12-02T11:37:41.520343Z",
          "shell.execute_reply": "2023-12-02T11:37:41.524992Z"
        },
        "trusted": true,
        "id": "mi5cgB5hi8Ma"
      },
      "execution_count": null,
      "outputs": []
    },
    {
      "cell_type": "code",
      "source": [
        "for i in range(len(test)):\n",
        "    try:\n",
        "        if not i%10: print(i)\n",
        "        results = pd.concat([results, pd.DataFrame({'image': [unq_test_imgs.iloc[i]['image']],\n",
        "                                                'gen_caption': [get_caption(1, unq_test_imgs.iloc[i]['image'])]})],\n",
        "                            ignore_index=True)\n",
        "    except:\n",
        "        print(\"Error occured at: \", i)"
      ],
      "metadata": {
        "execution": {
          "iopub.status.busy": "2023-12-02T11:37:43.673611Z",
          "iopub.execute_input": "2023-12-02T11:37:43.673978Z",
          "iopub.status.idle": "2023-12-02T11:50:21.015805Z",
          "shell.execute_reply.started": "2023-12-02T11:37:43.673944Z",
          "shell.execute_reply": "2023-12-02T11:50:21.014716Z"
        },
        "scrolled": true,
        "trusted": true,
        "id": "DXyCVhG3i8Mb"
      },
      "execution_count": null,
      "outputs": []
    },
    {
      "cell_type": "code",
      "source": [
        "unq_ress = results.drop_duplicates()\n",
        "unq_ress"
      ],
      "metadata": {
        "execution": {
          "iopub.status.busy": "2023-12-02T11:50:21.017207Z",
          "iopub.execute_input": "2023-12-02T11:50:21.017514Z",
          "iopub.status.idle": "2023-12-02T11:50:21.036122Z",
          "shell.execute_reply.started": "2023-12-02T11:50:21.017483Z",
          "shell.execute_reply": "2023-12-02T11:50:21.035159Z"
        },
        "trusted": true,
        "id": "QfI5_RyXi8Mb"
      },
      "execution_count": null,
      "outputs": []
    },
    {
      "cell_type": "code",
      "source": [
        "unq_ress.to_csv(\"./FHM_image_captions.csv\", index=False)"
      ],
      "metadata": {
        "execution": {
          "iopub.status.busy": "2023-12-02T11:50:21.037882Z",
          "iopub.execute_input": "2023-12-02T11:50:21.0382Z",
          "iopub.status.idle": "2023-12-02T11:50:21.084385Z",
          "shell.execute_reply.started": "2023-12-02T11:50:21.03817Z",
          "shell.execute_reply": "2023-12-02T11:50:21.083478Z"
        },
        "trusted": true,
        "id": "kku1FVjXi8Mc"
      },
      "execution_count": null,
      "outputs": []
    },
    {
      "cell_type": "code",
      "source": [
        "dev_json = pd.read_json('/kaggle/input/facebook-hateful-meme-dataset/data/dev.jsonl',lines=True)\n",
        "train_json = pd.read_json('/kaggle/input/facebook-hateful-meme-dataset/data/dev.jsonl',lines=True)\n",
        "test_json = pd.read_json('/kaggle/input/facebook-hateful-meme-dataset/data/test.jsonl',lines=True)\n",
        "combined_json = pd.concat([dev_json,train_json],axis=0)\n",
        "combined_json[['img1','img2']] = combined_json['img'].str.split('/', expand=True)\n",
        "combined_json.drop(['img','img1'], axis=1, inplace=True)\n",
        "combined_json['img'] = combined_json['img2']\n",
        "combined_json.drop(['img2','id'], axis=1, inplace=True)\n",
        "final = combined_json.merge(unq_ress,left_on='img',right_on='image',how='inner')\n",
        "final.head()"
      ],
      "metadata": {
        "execution": {
          "iopub.status.busy": "2023-12-02T13:31:12.059287Z",
          "iopub.execute_input": "2023-12-02T13:31:12.059924Z",
          "iopub.status.idle": "2023-12-02T13:31:12.13259Z",
          "shell.execute_reply.started": "2023-12-02T13:31:12.059869Z",
          "shell.execute_reply": "2023-12-02T13:31:12.131514Z"
        },
        "trusted": true,
        "id": "2T4Lpl8Si8Mc"
      },
      "execution_count": null,
      "outputs": []
    },
    {
      "cell_type": "code",
      "source": [
        "final.to_csv(\"./FHM_final.csv\", index=False)"
      ],
      "metadata": {
        "execution": {
          "iopub.status.busy": "2023-12-02T13:32:07.295411Z",
          "iopub.execute_input": "2023-12-02T13:32:07.295795Z",
          "iopub.status.idle": "2023-12-02T13:32:07.309805Z",
          "shell.execute_reply.started": "2023-12-02T13:32:07.295763Z",
          "shell.execute_reply": "2023-12-02T13:32:07.308943Z"
        },
        "trusted": true,
        "id": "7M6qXzAxi8Md"
      },
      "execution_count": null,
      "outputs": []
    },
    {
      "cell_type": "code",
      "source": [
        "df = pd.read_csv(\"./results.csv\")"
      ],
      "metadata": {
        "execution": {
          "iopub.status.busy": "2023-12-02T11:50:21.085744Z",
          "iopub.execute_input": "2023-12-02T11:50:21.086039Z",
          "iopub.status.idle": "2023-12-02T11:50:21.130715Z",
          "shell.execute_reply.started": "2023-12-02T11:50:21.08601Z",
          "shell.execute_reply": "2023-12-02T11:50:21.129167Z"
        },
        "trusted": true,
        "id": "XwA9AlUGi8Md"
      },
      "execution_count": null,
      "outputs": []
    },
    {
      "cell_type": "code",
      "source": [],
      "metadata": {
        "id": "E1vJQpTmi8Me"
      },
      "execution_count": null,
      "outputs": []
    }
  ]
}