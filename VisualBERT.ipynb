{
  "metadata": {
    "kernelspec": {
      "language": "python",
      "display_name": "Python 3",
      "name": "python3"
    },
    "language_info": {
      "name": "python",
      "version": "3.10.12",
      "mimetype": "text/x-python",
      "codemirror_mode": {
        "name": "ipython",
        "version": 3
      },
      "pygments_lexer": "ipython3",
      "nbconvert_exporter": "python",
      "file_extension": ".py"
    },
    "kaggle": {
      "accelerator": "none",
      "dataSources": [
        {
          "sourceId": 1246182,
          "sourceType": "datasetVersion",
          "datasetId": 715500
        },
        {
          "sourceId": 7016524,
          "sourceType": "datasetVersion",
          "datasetId": 4034225
        },
        {
          "sourceId": 7016734,
          "sourceType": "datasetVersion",
          "datasetId": 4034344
        }
      ],
      "dockerImageVersionId": 30587,
      "isInternetEnabled": true,
      "language": "python",
      "sourceType": "notebook",
      "isGpuEnabled": false
    },
    "colab": {
      "provenance": [],
      "include_colab_link": true
    }
  },
  "nbformat_minor": 0,
  "nbformat": 4,
  "cells": [
    {
      "cell_type": "markdown",
      "metadata": {
        "id": "view-in-github",
        "colab_type": "text"
      },
      "source": [
        "<a href=\"https://colab.research.google.com/github/riyaa14/BrainDead_Hackathon/blob/main/VisualBERT.ipynb\" target=\"_parent\"><img src=\"https://colab.research.google.com/assets/colab-badge.svg\" alt=\"Open In Colab\"/></a>"
      ]
    },
    {
      "cell_type": "code",
      "source": [
        "\n",
        "import numpy as np\n",
        "import pandas as pd\n",
        "\n",
        "import os\n",
        "for dirname, _, filenames in os.walk('/kaggle/input'):\n",
        "    for filename in filenames:\n",
        "        print(os.path.join(dirname, filename))\n"
      ],
      "metadata": {
        "_uuid": "8f2839f25d086af736a60e9eeb907d3b93b6e0e5",
        "_cell_guid": "b1076dfc-b9ad-4769-8c92-a6c4dae69d19",
        "trusted": true,
        "id": "IqGzhmRShGb9"
      },
      "execution_count": null,
      "outputs": []
    },
    {
      "cell_type": "code",
      "source": [
        "path = \"/kaggle/input/facebook-hateful-meme-dataset/data\""
      ],
      "metadata": {
        "execution": {
          "iopub.status.busy": "2023-11-21T09:13:09.081714Z",
          "iopub.execute_input": "2023-11-21T09:13:09.082078Z",
          "iopub.status.idle": "2023-11-21T09:13:09.114034Z",
          "shell.execute_reply.started": "2023-11-21T09:13:09.08205Z",
          "shell.execute_reply": "2023-11-21T09:13:09.112923Z"
        },
        "trusted": true,
        "id": "WbZxOgrfhGb9"
      },
      "execution_count": null,
      "outputs": []
    },
    {
      "cell_type": "code",
      "source": [],
      "metadata": {
        "execution": {
          "iopub.status.busy": "2023-11-21T07:17:38.216726Z",
          "iopub.execute_input": "2023-11-21T07:17:38.217089Z",
          "iopub.status.idle": "2023-11-21T07:17:38.645757Z",
          "shell.execute_reply.started": "2023-11-21T07:17:38.217059Z",
          "shell.execute_reply": "2023-11-21T07:17:38.644912Z"
        },
        "trusted": true,
        "id": "mNgGQLIahGb-"
      },
      "execution_count": null,
      "outputs": []
    },
    {
      "cell_type": "code",
      "source": [
        "! pip install transformers\n",
        "! pip install datasets\n",
        "! pip install --upgrade tqdm"
      ],
      "metadata": {
        "execution": {
          "iopub.status.busy": "2023-11-21T09:13:09.116172Z",
          "iopub.execute_input": "2023-11-21T09:13:09.117175Z",
          "iopub.status.idle": "2023-11-21T09:13:53.517757Z",
          "shell.execute_reply.started": "2023-11-21T09:13:09.117141Z",
          "shell.execute_reply": "2023-11-21T09:13:53.516662Z"
        },
        "trusted": true,
        "id": "iplJNbb-hGb-"
      },
      "execution_count": null,
      "outputs": []
    },
    {
      "cell_type": "code",
      "source": [
        "!pip install pytorch-lightning"
      ],
      "metadata": {
        "execution": {
          "iopub.status.busy": "2023-11-21T09:13:53.519851Z",
          "iopub.execute_input": "2023-11-21T09:13:53.520303Z",
          "iopub.status.idle": "2023-11-21T09:14:07.872854Z",
          "shell.execute_reply.started": "2023-11-21T09:13:53.520259Z",
          "shell.execute_reply": "2023-11-21T09:14:07.871425Z"
        },
        "trusted": true,
        "id": "tKBs2DymhGb-"
      },
      "execution_count": null,
      "outputs": []
    },
    {
      "cell_type": "code",
      "source": [
        "import torch\n",
        "torch.__version__"
      ],
      "metadata": {
        "execution": {
          "iopub.status.busy": "2023-11-21T09:14:07.87515Z",
          "iopub.execute_input": "2023-11-21T09:14:07.87562Z",
          "iopub.status.idle": "2023-11-21T09:14:11.20613Z",
          "shell.execute_reply.started": "2023-11-21T09:14:07.875578Z",
          "shell.execute_reply": "2023-11-21T09:14:11.204771Z"
        },
        "trusted": true,
        "id": "xG_SWbUehGb-"
      },
      "execution_count": null,
      "outputs": []
    },
    {
      "cell_type": "code",
      "source": [
        "from torch.utils.data import Dataset, DataLoader\n",
        "import pandas as pd\n",
        "import numpy as np\n",
        "import os"
      ],
      "metadata": {
        "execution": {
          "iopub.status.busy": "2023-11-21T09:14:11.209553Z",
          "iopub.execute_input": "2023-11-21T09:14:11.210297Z",
          "iopub.status.idle": "2023-11-21T09:14:11.676761Z",
          "shell.execute_reply.started": "2023-11-21T09:14:11.21025Z",
          "shell.execute_reply": "2023-11-21T09:14:11.675548Z"
        },
        "trusted": true,
        "id": "GVxJ9LdahGb_"
      },
      "execution_count": null,
      "outputs": []
    },
    {
      "cell_type": "code",
      "source": [
        "import os\n",
        "import shutil\n",
        "\n",
        "dirpath = '/content/model-checkpoint'\n",
        "if os.path.exists(dirpath) and os.path.isdir(dirpath):\n",
        "    shutil.rmtree(dirpath)"
      ],
      "metadata": {
        "execution": {
          "iopub.status.busy": "2023-11-21T09:14:11.678137Z",
          "iopub.execute_input": "2023-11-21T09:14:11.67897Z",
          "iopub.status.idle": "2023-11-21T09:14:11.684701Z",
          "shell.execute_reply.started": "2023-11-21T09:14:11.678937Z",
          "shell.execute_reply": "2023-11-21T09:14:11.683817Z"
        },
        "trusted": true,
        "id": "IGrMhZMdhGb_"
      },
      "execution_count": null,
      "outputs": []
    },
    {
      "cell_type": "code",
      "source": [
        "import pandas as pd\n",
        "'''val_seen = pd.read_json(path+'dev_seen.jsonl',lines=True)\n",
        "val_unseen= pd.read_json(path+'dev_unseen.jsonl',lines=True)\n",
        "test_seen=pd.read_json(path+'test_seen.jsonl',lines=True)\n",
        "test_unseen=pd.read_json(path+'test_unseen.jsonl',lines=True)\n",
        "df_train =pd.read_json(path+'train.jsonl',lines=True)'''"
      ],
      "metadata": {
        "execution": {
          "iopub.status.busy": "2023-11-21T09:14:11.685981Z",
          "iopub.execute_input": "2023-11-21T09:14:11.68685Z",
          "iopub.status.idle": "2023-11-21T09:14:11.700327Z",
          "shell.execute_reply.started": "2023-11-21T09:14:11.686795Z",
          "shell.execute_reply": "2023-11-21T09:14:11.699132Z"
        },
        "trusted": true,
        "id": "p4EfJfr1hGb_"
      },
      "execution_count": null,
      "outputs": []
    },
    {
      "cell_type": "code",
      "source": [
        "df = pd.read_csv('/kaggle/input/hateful-memes/new_merged.csv')\n",
        "df_train = df[:8500]\n",
        "df_val = df[8500:9540]\n",
        "df_test = df[9540:]"
      ],
      "metadata": {
        "execution": {
          "iopub.status.busy": "2023-11-21T09:14:11.701742Z",
          "iopub.execute_input": "2023-11-21T09:14:11.702115Z",
          "iopub.status.idle": "2023-11-21T09:14:11.892507Z",
          "shell.execute_reply.started": "2023-11-21T09:14:11.702085Z",
          "shell.execute_reply": "2023-11-21T09:14:11.891586Z"
        },
        "trusted": true,
        "id": "9ieVhiQAhGb_"
      },
      "execution_count": null,
      "outputs": []
    },
    {
      "cell_type": "code",
      "source": [
        "df_train.label.value_counts()"
      ],
      "metadata": {
        "execution": {
          "iopub.status.busy": "2023-11-21T09:14:11.893662Z",
          "iopub.execute_input": "2023-11-21T09:14:11.894769Z",
          "iopub.status.idle": "2023-11-21T09:14:11.915563Z",
          "shell.execute_reply.started": "2023-11-21T09:14:11.894726Z",
          "shell.execute_reply": "2023-11-21T09:14:11.91462Z"
        },
        "trusted": true,
        "id": "DBU2VFbkhGcA"
      },
      "execution_count": null,
      "outputs": []
    },
    {
      "cell_type": "code",
      "source": [
        "df_val.head()"
      ],
      "metadata": {
        "execution": {
          "iopub.status.busy": "2023-11-21T09:14:11.916726Z",
          "iopub.execute_input": "2023-11-21T09:14:11.917572Z",
          "iopub.status.idle": "2023-11-21T09:14:11.936359Z",
          "shell.execute_reply.started": "2023-11-21T09:14:11.917509Z",
          "shell.execute_reply": "2023-11-21T09:14:11.935241Z"
        },
        "trusted": true,
        "id": "-goG8EJjhGcA"
      },
      "execution_count": null,
      "outputs": []
    },
    {
      "cell_type": "code",
      "source": [
        "df_val.label.value_counts()"
      ],
      "metadata": {
        "execution": {
          "iopub.status.busy": "2023-11-21T09:14:11.940647Z",
          "iopub.execute_input": "2023-11-21T09:14:11.941006Z",
          "iopub.status.idle": "2023-11-21T09:14:11.949445Z",
          "shell.execute_reply.started": "2023-11-21T09:14:11.940975Z",
          "shell.execute_reply": "2023-11-21T09:14:11.948333Z"
        },
        "trusted": true,
        "id": "H74NLsRQhGcA"
      },
      "execution_count": null,
      "outputs": []
    },
    {
      "cell_type": "code",
      "source": [
        "df_test.label.value_counts()"
      ],
      "metadata": {
        "execution": {
          "iopub.status.busy": "2023-11-21T09:14:11.951177Z",
          "iopub.execute_input": "2023-11-21T09:14:11.951937Z",
          "iopub.status.idle": "2023-11-21T09:14:11.965073Z",
          "shell.execute_reply.started": "2023-11-21T09:14:11.951892Z",
          "shell.execute_reply": "2023-11-21T09:14:11.963802Z"
        },
        "trusted": true,
        "id": "MdCtSprbhGcA"
      },
      "execution_count": null,
      "outputs": []
    },
    {
      "cell_type": "code",
      "source": [
        "df_train.head()"
      ],
      "metadata": {
        "execution": {
          "iopub.status.busy": "2023-11-21T09:14:11.968743Z",
          "iopub.execute_input": "2023-11-21T09:14:11.969479Z",
          "iopub.status.idle": "2023-11-21T09:14:11.984485Z",
          "shell.execute_reply.started": "2023-11-21T09:14:11.969432Z",
          "shell.execute_reply": "2023-11-21T09:14:11.983317Z"
        },
        "trusted": true,
        "id": "DUnsiN5PhGcA"
      },
      "execution_count": null,
      "outputs": []
    },
    {
      "cell_type": "code",
      "source": [
        "df_train['text_len'] = df_train['text'].str.split().str.len()\n",
        "df_train['text_len'].describe()"
      ],
      "metadata": {
        "execution": {
          "iopub.status.busy": "2023-11-21T09:14:11.986111Z",
          "iopub.execute_input": "2023-11-21T09:14:11.986421Z",
          "iopub.status.idle": "2023-11-21T09:14:12.03972Z",
          "shell.execute_reply.started": "2023-11-21T09:14:11.986394Z",
          "shell.execute_reply": "2023-11-21T09:14:12.038611Z"
        },
        "trusted": true,
        "id": "v3TpRlImhGcA"
      },
      "execution_count": null,
      "outputs": []
    },
    {
      "cell_type": "code",
      "source": [
        "df_train['idx'] = df_train['id'].astype(str).str.zfill(5)\n",
        "df_train.head()"
      ],
      "metadata": {
        "execution": {
          "iopub.status.busy": "2023-11-21T09:14:12.04108Z",
          "iopub.execute_input": "2023-11-21T09:14:12.041405Z",
          "iopub.status.idle": "2023-11-21T09:14:12.071422Z",
          "shell.execute_reply.started": "2023-11-21T09:14:12.041378Z",
          "shell.execute_reply": "2023-11-21T09:14:12.070313Z"
        },
        "trusted": true,
        "id": "qVuudqAZhGcA"
      },
      "execution_count": null,
      "outputs": []
    },
    {
      "cell_type": "code",
      "source": [
        "df_val['idx'] = df_val['id'].astype(str).str.zfill(5)\n",
        "df_test['idx'] = df_test['id'].astype(str).str.zfill(5)"
      ],
      "metadata": {
        "execution": {
          "iopub.status.busy": "2023-11-21T09:14:12.07296Z",
          "iopub.execute_input": "2023-11-21T09:14:12.074136Z",
          "iopub.status.idle": "2023-11-21T09:14:12.090408Z",
          "shell.execute_reply.started": "2023-11-21T09:14:12.074091Z",
          "shell.execute_reply": "2023-11-21T09:14:12.089042Z"
        },
        "trusted": true,
        "id": "UxJ9gJFThGcA"
      },
      "execution_count": null,
      "outputs": []
    },
    {
      "cell_type": "code",
      "source": [
        "df_train.shape, df_val.shape"
      ],
      "metadata": {
        "execution": {
          "iopub.status.busy": "2023-11-21T09:14:12.092023Z",
          "iopub.execute_input": "2023-11-21T09:14:12.092622Z",
          "iopub.status.idle": "2023-11-21T09:14:12.099969Z",
          "shell.execute_reply.started": "2023-11-21T09:14:12.092589Z",
          "shell.execute_reply": "2023-11-21T09:14:12.09881Z"
        },
        "trusted": true,
        "id": "7ehn7f5RhGcA"
      },
      "execution_count": null,
      "outputs": []
    },
    {
      "cell_type": "markdown",
      "source": [
        "# **Compute Class Weight"
      ],
      "metadata": {
        "id": "rulPXxQIhGcB"
      }
    },
    {
      "cell_type": "code",
      "source": [
        "from sklearn.utils import class_weight\n",
        "y_train = df_train[\"label\"].values.tolist()\n",
        "class_weights = class_weight.compute_class_weight(class_weight ='balanced',\n",
        "                                                 classes = np.unique(y_train),\n",
        "                                                 y = y_train)\n",
        "print(class_weights)"
      ],
      "metadata": {
        "execution": {
          "iopub.status.busy": "2023-11-21T09:14:12.101076Z",
          "iopub.execute_input": "2023-11-21T09:14:12.101458Z",
          "iopub.status.idle": "2023-11-21T09:14:12.638976Z",
          "shell.execute_reply.started": "2023-11-21T09:14:12.101427Z",
          "shell.execute_reply": "2023-11-21T09:14:12.637789Z"
        },
        "trusted": true,
        "id": "UwzHrVu9hGcC"
      },
      "execution_count": null,
      "outputs": []
    },
    {
      "cell_type": "code",
      "source": [
        "df_train.label.value_counts()"
      ],
      "metadata": {
        "execution": {
          "iopub.status.busy": "2023-11-21T09:14:12.640369Z",
          "iopub.execute_input": "2023-11-21T09:14:12.640739Z",
          "iopub.status.idle": "2023-11-21T09:14:12.650073Z",
          "shell.execute_reply.started": "2023-11-21T09:14:12.640709Z",
          "shell.execute_reply": "2023-11-21T09:14:12.648773Z"
        },
        "trusted": true,
        "id": "rzyIaJL-hGcC"
      },
      "execution_count": null,
      "outputs": []
    },
    {
      "cell_type": "markdown",
      "source": [
        "# **Load DataSet**"
      ],
      "metadata": {
        "id": "FDIJHLCshGcC"
      }
    },
    {
      "cell_type": "code",
      "source": [
        "from datasets import list_metrics, load_metric\n",
        "metrics_list = list_metrics()\n",
        "print(metrics_list)"
      ],
      "metadata": {
        "execution": {
          "iopub.status.busy": "2023-11-21T09:14:12.651443Z",
          "iopub.execute_input": "2023-11-21T09:14:12.651845Z",
          "iopub.status.idle": "2023-11-21T09:14:14.320044Z",
          "shell.execute_reply.started": "2023-11-21T09:14:12.651813Z",
          "shell.execute_reply": "2023-11-21T09:14:14.318698Z"
        },
        "trusted": true,
        "id": "3yKJ9vnRhGcC"
      },
      "execution_count": null,
      "outputs": []
    },
    {
      "cell_type": "code",
      "source": [
        "acc_metric = load_metric('accuracy')\n",
        "f1_metric = load_metric('f1')\n",
        "precision_metric = load_metric('precision')\n",
        "recall_metric = load_metric('recall')"
      ],
      "metadata": {
        "execution": {
          "iopub.status.busy": "2023-11-21T09:14:14.321677Z",
          "iopub.execute_input": "2023-11-21T09:14:14.322321Z",
          "iopub.status.idle": "2023-11-21T09:14:17.205867Z",
          "shell.execute_reply.started": "2023-11-21T09:14:14.322279Z",
          "shell.execute_reply": "2023-11-21T09:14:17.204489Z"
        },
        "trusted": true,
        "id": "N1ek4eWwhGcC"
      },
      "execution_count": null,
      "outputs": []
    },
    {
      "cell_type": "markdown",
      "source": [
        "# **Create Dataset function**"
      ],
      "metadata": {
        "id": "1YpaFju2hGcC"
      }
    },
    {
      "cell_type": "code",
      "source": [
        "# from transformers import BertTokenizer, VisualBertForPreTraining, AutoTokenizer\n",
        "# tokenizer = AutoTokenizer.from_pretrained('bert-base-uncased')"
      ],
      "metadata": {
        "execution": {
          "iopub.status.busy": "2023-11-21T09:14:17.207471Z",
          "iopub.execute_input": "2023-11-21T09:14:17.20797Z",
          "iopub.status.idle": "2023-11-21T09:14:21.289627Z",
          "shell.execute_reply.started": "2023-11-21T09:14:17.207929Z",
          "shell.execute_reply": "2023-11-21T09:14:21.288603Z"
        },
        "trusted": true,
        "id": "iKEgzPWshGcC"
      },
      "execution_count": null,
      "outputs": []
    },
    {
      "cell_type": "markdown",
      "source": [
        "# **Load Visual Embedding features**"
      ],
      "metadata": {
        "id": "DIUwlkUyhGcC"
      }
    },
    {
      "cell_type": "code",
      "source": [
        "import torch\n",
        "from transformers import ViTFeatureExtractor, ViTModel\n",
        "from PIL import Image"
      ],
      "metadata": {
        "execution": {
          "iopub.status.busy": "2023-11-21T09:14:21.294666Z",
          "iopub.execute_input": "2023-11-21T09:14:21.297225Z",
          "iopub.status.idle": "2023-11-21T09:14:33.478821Z",
          "shell.execute_reply.started": "2023-11-21T09:14:21.297173Z",
          "shell.execute_reply": "2023-11-21T09:14:33.477804Z"
        },
        "trusted": true,
        "id": "YshTkStohGcC"
      },
      "execution_count": null,
      "outputs": []
    },
    {
      "cell_type": "code",
      "source": [
        "# feature_extractor = ViTFeatureExtractor.from_pretrained('google/vit-base-patch16-224-in21k')\n",
        "# feature_model = ViTModel.from_pretrained('google/vit-base-patch16-224-in21k')"
      ],
      "metadata": {
        "execution": {
          "iopub.status.busy": "2023-11-21T09:14:33.480331Z",
          "iopub.execute_input": "2023-11-21T09:14:33.481235Z",
          "iopub.status.idle": "2023-11-21T09:14:37.458124Z",
          "shell.execute_reply.started": "2023-11-21T09:14:33.481192Z",
          "shell.execute_reply": "2023-11-21T09:14:37.456894Z"
        },
        "trusted": true,
        "id": "i57bhYc3hGcD"
      },
      "execution_count": null,
      "outputs": []
    },
    {
      "cell_type": "code",
      "source": [
        "class HatefulMemesData(Dataset):\n",
        "    def __init__(self, df, tokenizer, sequence_length,\n",
        "                 print_text=False):\n",
        "\n",
        "        self.sequence_length = sequence_length\n",
        "        self.tokenizer = tokenizer\n",
        "        self.print_text = print_text\n",
        "\n",
        "        texts = df[\"text\"].values.tolist()\n",
        "        labels = df[\"label\"].values.tolist()\n",
        "        images = df[\"img\"].values.tolist()\n",
        "        ids =  df[\"idx\"].values.tolist()\n",
        "\n",
        "        self.dataset = []\n",
        "        for i, inp in enumerate(texts):\n",
        "            self.dataset.append({\"text\": inp, \"label\": labels[i], 'idx': ids[i], 'image': images[i]})\n",
        "\n",
        "    def __len__(self):\n",
        "        return len(self.dataset)\n",
        "\n",
        "\n",
        "    def tokenize_data(self, example):\n",
        "\n",
        "        idx = example['idx']\n",
        "        idx = [idx] if isinstance(idx, str) else idx\n",
        "        # encoded_dict = tokenizer.batch_encode_plus(example['text'], padding='max_length', max_length=max_len, truncation=True, return_tensors='pt')\n",
        "        encoded_dict = tokenizer(example['text'], padding='max_length', max_length=self.sequence_length, truncation=True, return_tensors='pt')\n",
        "        tokens = encoded_dict['input_ids']\n",
        "        token_type_ids = encoded_dict['token_type_ids']\n",
        "        attn_mask = encoded_dict['attention_mask']\n",
        "\n",
        "        targets = torch.tensor(example['label']).type(torch.int64)\n",
        "\n",
        "        ## Get Visual Embeddings\n",
        "        try:\n",
        "            img = example['image']\n",
        "            img = Image.open(os.path.join('hateful_memes', img))\n",
        "            img = np.array(img)\n",
        "            img = img[...,:3]\n",
        "            inputs = feature_extractor(images=img, return_tensors=\"pt\")\n",
        "            outputs = feature_model(**inputs.to('cuda'))\n",
        "            visual_embeds = outputs.last_hidden_state\n",
        "            visual_embeds = visual_embeds.cpu()\n",
        "        except:\n",
        "            # print(\"Error with Id: \", idx)\n",
        "            visual_embeds = np.zeros(shape=(197, 768), dtype=float)\n",
        "        # visual_embeds = visual_embeds.repeat(1,1,2)\n",
        "\n",
        "        visual_attention_mask = torch.ones(visual_embeds.shape[:-1], dtype=torch.int64)\n",
        "        visual_token_type_ids = torch.ones(visual_embeds.shape[:-1], dtype=torch.int64)\n",
        "\n",
        "        inputs={\"input_ids\": tokens.squeeze(),\n",
        "            \"attention_mask\": attn_mask.squeeze(),\n",
        "            \"token_type_ids\": token_type_ids.squeeze(),\n",
        "            \"visual_embeds\": visual_embeds.squeeze(),\n",
        "            \"visual_token_type_ids\": visual_token_type_ids.squeeze(),\n",
        "            \"visual_attention_mask\": visual_attention_mask.squeeze(),\n",
        "            \"label\": targets.squeeze()\n",
        "        }\n",
        "\n",
        "        return inputs\n",
        "\n",
        "    def __getitem__(self, index):\n",
        "        inputs = self.tokenize_data(self.dataset[index])\n",
        "\n",
        "        if self.print_text:\n",
        "            for k in inputs.keys():\n",
        "                print(k, inputs[k].shape, inputs[k].dtype)\n",
        "\n",
        "        return inputs"
      ],
      "metadata": {
        "execution": {
          "iopub.status.busy": "2023-11-21T09:14:37.459911Z",
          "iopub.execute_input": "2023-11-21T09:14:37.460267Z",
          "iopub.status.idle": "2023-11-21T09:14:37.479244Z",
          "shell.execute_reply.started": "2023-11-21T09:14:37.460236Z",
          "shell.execute_reply": "2023-11-21T09:14:37.478022Z"
        },
        "trusted": true,
        "id": "8d0KohHBhGcD"
      },
      "execution_count": null,
      "outputs": []
    },
    {
      "cell_type": "code",
      "source": [
        "dataset = HatefulMemesData(df_val, tokenizer, 50, True)"
      ],
      "metadata": {
        "execution": {
          "iopub.status.busy": "2023-11-21T09:14:37.480872Z",
          "iopub.execute_input": "2023-11-21T09:14:37.481706Z",
          "iopub.status.idle": "2023-11-21T09:14:37.49392Z",
          "shell.execute_reply.started": "2023-11-21T09:14:37.481664Z",
          "shell.execute_reply": "2023-11-21T09:14:37.492717Z"
        },
        "trusted": true,
        "id": "kqr__-pthGcD"
      },
      "execution_count": null,
      "outputs": []
    },
    {
      "cell_type": "code",
      "source": [
        "example1 = dataset[100]"
      ],
      "metadata": {
        "execution": {
          "iopub.status.busy": "2023-11-21T09:14:37.495178Z",
          "iopub.execute_input": "2023-11-21T09:14:37.49555Z",
          "iopub.status.idle": "2023-11-21T09:14:37.51447Z",
          "shell.execute_reply.started": "2023-11-21T09:14:37.495504Z",
          "shell.execute_reply": "2023-11-21T09:14:37.513293Z"
        },
        "trusted": true,
        "id": "D6x_lZ63hGcD"
      },
      "execution_count": null,
      "outputs": []
    },
    {
      "cell_type": "markdown",
      "source": [
        "# **Fine-Tune Model**"
      ],
      "metadata": {
        "id": "nrt44ThThGcD"
      }
    },
    {
      "cell_type": "markdown",
      "source": [
        "# ****You can change the model in the following url:\n",
        "* concatBert: 'NasimB/bert-concat-3-finetune-simcse-truncate'\n",
        "* MultiModal-Text-Image-DeBerta-ViT: 'SmartPy/MultiModal-Text-Image-DeBerta-ViT'\n",
        "* vilbert: 'visualjoyce/transformers4vl-vilbert-mt'"
      ],
      "metadata": {
        "id": "SOOC7DV0hGcD"
      }
    },
    {
      "cell_type": "code",
      "source": [
        "# from transformers import BertTokenizer, VisualBertModel, TrainingArguments, Trainer, VisualBertConfig\n",
        "# configuration = VisualBertConfig.from_pretrained('uclanlp/visualbert-nlvr2-coco-pre',\n",
        "#                                                 hidden_dropout_prob=0.3, attention_probs_dropout_prob=0.3)\n",
        "# model = VisualBertModel.from_pretrained('uclanlp/visualbert-nlvr2-coco-pre', config=configuration) -> remove # to run it..."
      ],
      "metadata": {
        "execution": {
          "iopub.status.busy": "2023-11-21T09:14:37.516172Z",
          "iopub.execute_input": "2023-11-21T09:14:37.516916Z",
          "iopub.status.idle": "2023-11-21T09:14:41.591785Z",
          "shell.execute_reply.started": "2023-11-21T09:14:37.516872Z",
          "shell.execute_reply": "2023-11-21T09:14:41.590543Z"
        },
        "trusted": true,
        "id": "hx0RN61khGcD"
      },
      "execution_count": null,
      "outputs": []
    },
    {
      "cell_type": "code",
      "source": [
        "#example1 = tokenize_data(df_train.to_dict('records')[0])\n",
        "print(example1)"
      ],
      "metadata": {
        "execution": {
          "iopub.status.busy": "2023-11-21T07:43:17.171121Z",
          "iopub.execute_input": "2023-11-21T07:43:17.171453Z",
          "iopub.status.idle": "2023-11-21T07:43:17.223697Z",
          "shell.execute_reply.started": "2023-11-21T07:43:17.171425Z",
          "shell.execute_reply": "2023-11-21T07:43:17.222227Z"
        },
        "trusted": true,
        "id": "bacncXKQhGcE"
      },
      "execution_count": null,
      "outputs": []
    },
    {
      "cell_type": "code",
      "source": [
        "example1['input_ids'].unsqueeze(0).shape"
      ],
      "metadata": {
        "execution": {
          "iopub.status.busy": "2023-11-21T07:43:55.298813Z",
          "iopub.execute_input": "2023-11-21T07:43:55.29985Z",
          "iopub.status.idle": "2023-11-21T07:43:55.308514Z",
          "shell.execute_reply.started": "2023-11-21T07:43:55.299811Z",
          "shell.execute_reply": "2023-11-21T07:43:55.307387Z"
        },
        "trusted": true,
        "id": "1I3cVwPIhGcE"
      },
      "execution_count": null,
      "outputs": []
    },
    {
      "cell_type": "code",
      "source": [
        "model = model.double()"
      ],
      "metadata": {
        "execution": {
          "iopub.status.busy": "2023-11-21T09:14:41.59919Z",
          "iopub.execute_input": "2023-11-21T09:14:41.600043Z",
          "iopub.status.idle": "2023-11-21T09:14:41.756611Z",
          "shell.execute_reply.started": "2023-11-21T09:14:41.599993Z",
          "shell.execute_reply": "2023-11-21T09:14:41.755391Z"
        },
        "trusted": true,
        "id": "8wBYIKQ9hGcH"
      },
      "execution_count": null,
      "outputs": []
    },
    {
      "cell_type": "markdown",
      "source": [
        "# **Tuning using Pytorch Lightning**"
      ],
      "metadata": {
        "id": "emuh3h2WhGcI"
      }
    },
    {
      "cell_type": "code",
      "source": [
        "import pytorch_lightning as pl\n",
        "from torch.utils.data import Dataset, DataLoader\n",
        "from pytorch_lightning.loggers import WandbLogger\n",
        "from datasets import load_metric\n",
        "import torch.nn.functional as F\n",
        "from sklearn.metrics import accuracy_score\n",
        "from transformers import (\n",
        "    AdamW,\n",
        "    VisualBertModel,\n",
        "    get_linear_schedule_with_warmup\n",
        ")\n",
        "import logging\n",
        "import argparse\n",
        "import time\n",
        "from torch.nn import CrossEntropyLoss\n",
        "from sklearn.metrics import roc_auc_score"
      ],
      "metadata": {
        "execution": {
          "iopub.status.busy": "2023-11-21T09:14:41.758333Z",
          "iopub.execute_input": "2023-11-21T09:14:41.759124Z",
          "iopub.status.idle": "2023-11-21T09:14:43.749221Z",
          "shell.execute_reply.started": "2023-11-21T09:14:41.759083Z",
          "shell.execute_reply": "2023-11-21T09:14:43.74805Z"
        },
        "trusted": true,
        "id": "HhXQAr1WhGcI"
      },
      "execution_count": null,
      "outputs": []
    },
    {
      "cell_type": "code",
      "source": [
        "import os\n",
        "from pathlib import Path\n",
        "from string import punctuation\n",
        "import torch.nn as nn"
      ],
      "metadata": {
        "execution": {
          "iopub.status.busy": "2023-11-21T09:14:43.75065Z",
          "iopub.execute_input": "2023-11-21T09:14:43.750992Z",
          "iopub.status.idle": "2023-11-21T09:14:43.760506Z",
          "shell.execute_reply.started": "2023-11-21T09:14:43.750963Z",
          "shell.execute_reply": "2023-11-21T09:14:43.757776Z"
        },
        "trusted": true,
        "id": "2rTQJFjlhGcI"
      },
      "execution_count": null,
      "outputs": []
    },
    {
      "cell_type": "markdown",
      "source": [
        "# **Look at Model Summary**"
      ],
      "metadata": {
        "id": "tGpeOA0uhGcI"
      }
    },
    {
      "cell_type": "code",
      "source": [
        "weights = [0.77510622, 1.40873991]\n",
        "wt_tensor = torch.FloatTensor(weights)\n",
        "print(wt_tensor)"
      ],
      "metadata": {
        "execution": {
          "iopub.status.busy": "2023-11-21T09:14:43.762099Z",
          "iopub.execute_input": "2023-11-21T09:14:43.762598Z",
          "iopub.status.idle": "2023-11-21T09:14:43.847101Z",
          "shell.execute_reply.started": "2023-11-21T09:14:43.762551Z",
          "shell.execute_reply": "2023-11-21T09:14:43.845976Z"
        },
        "trusted": true,
        "id": "_KQqbPQYhGcI"
      },
      "execution_count": null,
      "outputs": []
    },
    {
      "cell_type": "code",
      "source": [
        "class VisualBERTClassifier(torch.nn.Module):\n",
        "    def __init__(self):\n",
        "        \"\"\"\n",
        "        In the constructor we instantiate two nn.Linear modules and assign them as\n",
        "        member variables.\n",
        "        \"\"\"\n",
        "        super(VisualBERTClassifier, self).__init__()\n",
        "        configuration = VisualBertConfig.from_pretrained('uclanlp/visualbert-nlvr2-coco-pre',\n",
        "                                                hidden_dropout_prob=0.1, attention_probs_dropout_prob=0.1)\n",
        "        self.visualbert = VisualBertModel.from_pretrained('uclanlp/visualbert-nlvr2-coco-pre', config=configuration)\n",
        "        self.embed_cls = nn.Linear(768, 1024)\n",
        "        # self.visualbert = VisualBertModel.from_pretrained('uclanlp/visualbert-nlvr2-coco-pre')\n",
        "        self.num_labels = 2\n",
        "        self.dropout = nn.Dropout(0.3)\n",
        "        self.cls=  nn.Linear(768, self.num_labels)\n",
        "        self.weight = torch.FloatTensor([class_weights]) #torch.FloatTensor([0.77510622, 1.40873991]),\n",
        "\n",
        "        nSamples = [5178, 2849]\n",
        "        normedWeights = [1 - (x / sum(nSamples)) for x in nSamples]\n",
        "        self.loss_fct = CrossEntropyLoss(weight=torch.FloatTensor(normedWeights))\n",
        "\n",
        "\n",
        "    def forward(self, input_ids, attention_mask, token_type_ids, visual_embeds, visual_attention_mask,\n",
        "                visual_token_type_ids, labels):\n",
        "        \"\"\"\n",
        "        In the forward function we accept a Tensor of input data and we must return\n",
        "        a Tensor of output data. We can use Modules defined in the constructor as\n",
        "        well as arbitrary operators on Tensors.\n",
        "        \"\"\"\n",
        "        visual_embeds_cls = self.embed_cls(visual_embeds)\n",
        "        outputs = self.visualbert(\n",
        "                input_ids,\n",
        "                attention_mask=attention_mask,\n",
        "                token_type_ids=token_type_ids,\n",
        "                visual_embeds=visual_embeds_cls,\n",
        "                visual_attention_mask=visual_attention_mask,\n",
        "                visual_token_type_ids=visual_token_type_ids,\n",
        "            )\n",
        "\n",
        "        pooled_output = outputs[1]\n",
        "        pooled_output = self.dropout(pooled_output)\n",
        "        logits = self.cls(pooled_output)\n",
        "        reshaped_logits = logits.view(-1, self.num_labels)\n",
        "\n",
        "        loss = self.loss_fct(reshaped_logits, labels.view(-1))\n",
        "\n",
        "        return loss, reshaped_logits"
      ],
      "metadata": {
        "execution": {
          "iopub.status.busy": "2023-11-21T09:14:43.848845Z",
          "iopub.execute_input": "2023-11-21T09:14:43.84979Z",
          "iopub.status.idle": "2023-11-21T09:14:43.861479Z",
          "shell.execute_reply.started": "2023-11-21T09:14:43.849757Z",
          "shell.execute_reply": "2023-11-21T09:14:43.860556Z"
        },
        "trusted": true,
        "id": "GgHetl17hGcI"
      },
      "execution_count": null,
      "outputs": []
    },
    {
      "cell_type": "code",
      "source": [
        "\n",
        "#model = VisualBERTClassifier() -> remove # to run"
      ],
      "metadata": {
        "execution": {
          "iopub.status.busy": "2023-11-21T09:14:43.862661Z",
          "iopub.execute_input": "2023-11-21T09:14:43.863827Z",
          "iopub.status.idle": "2023-11-21T09:14:45.77855Z",
          "shell.execute_reply.started": "2023-11-21T09:14:43.863795Z",
          "shell.execute_reply": "2023-11-21T09:14:45.777433Z"
        },
        "trusted": true,
        "id": "ZO0TKjOChGcI"
      },
      "execution_count": null,
      "outputs": []
    },
    {
      "cell_type": "markdown",
      "source": [
        "# **Using HuggingFace Trainer**"
      ],
      "metadata": {
        "id": "pz5HJUTJhGcI"
      }
    },
    {
      "cell_type": "code",
      "source": [
        "from transformers import TrainingArguments, Trainer\n",
        "batch_size = 24\n",
        "seq_len = 50"
      ],
      "metadata": {
        "execution": {
          "iopub.status.busy": "2023-11-21T09:14:45.779957Z",
          "iopub.execute_input": "2023-11-21T09:14:45.780293Z",
          "iopub.status.idle": "2023-11-21T09:14:45.785687Z",
          "shell.execute_reply.started": "2023-11-21T09:14:45.780264Z",
          "shell.execute_reply": "2023-11-21T09:14:45.784394Z"
        },
        "trusted": true,
        "id": "w1We-l0xhGcJ"
      },
      "execution_count": null,
      "outputs": []
    },
    {
      "cell_type": "code",
      "source": [
        "# model = VisualBERTClassifier()\n",
        "# model = model -> remove # to run"
      ],
      "metadata": {
        "execution": {
          "iopub.status.busy": "2023-11-21T09:14:45.787179Z",
          "iopub.execute_input": "2023-11-21T09:14:45.787501Z",
          "iopub.status.idle": "2023-11-21T09:14:47.118822Z",
          "shell.execute_reply.started": "2023-11-21T09:14:45.787473Z",
          "shell.execute_reply": "2023-11-21T09:14:47.117782Z"
        },
        "trusted": true,
        "id": "zqgdQI3XhGcJ"
      },
      "execution_count": null,
      "outputs": []
    },
    {
      "cell_type": "code",
      "source": [
        "metric_name = \"auroc\"\n",
        "\n",
        "args = TrainingArguments(\n",
        "    output_dir = \"model-checkpoint\",\n",
        "    seed = 110,\n",
        "    evaluation_strategy = \"steps\",\n",
        "    learning_rate=1e-5,\n",
        "    per_device_train_batch_size=batch_size,\n",
        "    per_device_eval_batch_size=batch_size,\n",
        "    num_train_epochs= 100,\n",
        "    weight_decay=0.05,\n",
        "    load_best_model_at_end=True,\n",
        "    metric_for_best_model=metric_name,\n",
        "    eval_steps = 50,\n",
        "    save_steps = 500,\n",
        "    fp16 = False,\n",
        "    gradient_accumulation_steps = 2\n",
        "\n",
        "\n",
        ")"
      ],
      "metadata": {
        "execution": {
          "iopub.status.busy": "2023-11-21T09:14:47.12001Z",
          "iopub.execute_input": "2023-11-21T09:14:47.120438Z",
          "iopub.status.idle": "2023-11-21T09:14:47.13485Z",
          "shell.execute_reply.started": "2023-11-21T09:14:47.120399Z",
          "shell.execute_reply": "2023-11-21T09:14:47.133665Z"
        },
        "trusted": true,
        "id": "_Xl0R_pJhGcJ"
      },
      "execution_count": null,
      "outputs": []
    },
    {
      "cell_type": "code",
      "source": [
        "def compute_metrics(eval_pred):\n",
        "    logits, labels = eval_pred\n",
        "    predictions = np.argmax(logits, axis=-1)\n",
        "    acc = acc_metric.compute(predictions=predictions, references=labels)\n",
        "    f1 = f1_metric.compute(predictions=predictions, references=labels)\n",
        "    precision = precision_metric.compute(predictions=predictions, references=labels)\n",
        "    recall = recall_metric.compute(predictions=predictions, references=labels)\n",
        "    auc_score = roc_auc_score(labels, predictions)\n",
        "    return {\"accuracy\": acc['accuracy'], \"auroc\": auc_score,'f1':f1['f1'],'precision':precision['precision'],'recall':recall['recall']}\n"
      ],
      "metadata": {
        "execution": {
          "iopub.status.busy": "2023-11-21T09:14:47.136762Z",
          "iopub.execute_input": "2023-11-21T09:14:47.137244Z",
          "iopub.status.idle": "2023-11-21T09:14:47.145447Z",
          "shell.execute_reply.started": "2023-11-21T09:14:47.137203Z",
          "shell.execute_reply": "2023-11-21T09:14:47.144319Z"
        },
        "trusted": true,
        "id": "XsxQs6ZGhGcJ"
      },
      "execution_count": null,
      "outputs": []
    },
    {
      "cell_type": "code",
      "source": [
        "trainer = Trainer(\n",
        "    model,\n",
        "    args,\n",
        "    train_dataset = HatefulMemesData(df_train,tokenizer=tokenizer, sequence_length=seq_len),\n",
        "    eval_dataset =  HatefulMemesData(df_val,tokenizer=tokenizer, sequence_length=seq_len),\n",
        "    tokenizer=tokenizer,\n",
        "    compute_metrics=compute_metrics\n",
        ")"
      ],
      "metadata": {
        "execution": {
          "iopub.status.busy": "2023-11-21T09:14:47.147202Z",
          "iopub.execute_input": "2023-11-21T09:14:47.147657Z",
          "iopub.status.idle": "2023-11-21T09:14:48.292437Z",
          "shell.execute_reply.started": "2023-11-21T09:14:47.147617Z",
          "shell.execute_reply": "2023-11-21T09:14:48.291233Z"
        },
        "trusted": true,
        "id": "kPNRXCVfhGcJ"
      },
      "execution_count": null,
      "outputs": []
    },
    {
      "cell_type": "code",
      "source": [
        "resume_from ='/kaggle/working/model-checkpoint/checkpoint-12000'\n",
        "trainer.train()"
      ],
      "metadata": {
        "execution": {
          "iopub.status.busy": "2023-11-21T09:14:48.294089Z",
          "iopub.execute_input": "2023-11-21T09:14:48.294404Z",
          "iopub.status.idle": "2023-11-21T09:14:48.3011Z",
          "shell.execute_reply.started": "2023-11-21T09:14:48.294376Z",
          "shell.execute_reply": "2023-11-21T09:14:48.299573Z"
        },
        "trusted": true,
        "id": "cCscuR__hGcJ"
      },
      "execution_count": null,
      "outputs": []
    },
    {
      "cell_type": "code",
      "source": [
        "import numpy as np\n",
        "trainer.evaluate()"
      ],
      "metadata": {
        "execution": {
          "iopub.status.busy": "2023-11-21T09:15:36.86223Z",
          "iopub.execute_input": "2023-11-21T09:15:36.862796Z",
          "iopub.status.idle": "2023-11-21T09:15:36.868322Z",
          "shell.execute_reply.started": "2023-11-21T09:15:36.862758Z",
          "shell.execute_reply": "2023-11-21T09:15:36.867078Z"
        },
        "trusted": true,
        "id": "sIL-dSuNhGcJ"
      },
      "execution_count": null,
      "outputs": []
    }
  ]
}